{
 "cells": [
  {
   "cell_type": "code",
   "execution_count": 1,
   "metadata": {
    "collapsed": true,
    "scrolled": true
   },
   "outputs": [],
   "source": [
    "import time\n",
    "import klepto\n",
    "import shelve\n",
    "import pickle\n",
    "import h5py\n",
    "import numpy as np\n",
    "import scipy.io as sio\n",
    "from scipy.sparse import *\n",
    "import matplotlib.pyplot as plt"
   ]
  },
  {
   "cell_type": "markdown",
   "metadata": {},
   "source": [
    "## Load"
   ]
  },
  {
   "cell_type": "code",
   "execution_count": 2,
   "metadata": {
    "collapsed": true
   },
   "outputs": [],
   "source": [
    "dataset = '1m'"
   ]
  },
  {
   "cell_type": "markdown",
   "metadata": {},
   "source": [
    "- load train_list & test_list"
   ]
  },
  {
   "cell_type": "code",
   "execution_count": 3,
   "metadata": {
    "collapsed": true
   },
   "outputs": [],
   "source": [
    "feature=h5py.File('movielens/' + dataset + '/test_list.mat')  \n",
    "test_list = feature['test_list'][:]\n",
    "test_list = list(map(int, test_list.T[0]))\n",
    "test_list = [i-1 for i in test_list] \n",
    "feature=h5py.File('movielens/' + dataset + '/train_list.mat')  \n",
    "train_list = feature['train_list'][:]\n",
    "train_list = list(map(int, train_list.T[0]))\n",
    "train_list = [i-1 for i in train_list] "
   ]
  },
  {
   "cell_type": "markdown",
   "metadata": {},
   "source": [
    "- load full sparse matrix"
   ]
  },
  {
   "cell_type": "code",
   "execution_count": 4,
   "metadata": {},
   "outputs": [
    {
     "name": "stdout",
     "output_type": "stream",
     "text": [
      "file load DONE\n"
     ]
    }
   ],
   "source": [
    "rating_matrix = load_npz('movielens/sparse_matrix_ml-' + dataset + '_selected.npz').tocsc()\n",
    "rating_matrix_train = rating_matrix[:, train_list]\n",
    "rating_matrix_test  = rating_matrix[:, test_list]\n",
    "print(\"file load DONE\")"
   ]
  },
  {
   "cell_type": "markdown",
   "metadata": {},
   "source": [
    "- load tree file: lr_bound & tree"
   ]
  },
  {
   "cell_type": "code",
   "execution_count": 10,
   "metadata": {
    "collapsed": true
   },
   "outputs": [],
   "source": [
    "with h5py.File('treeFile/lr_bound.mat') as data:\n",
    "    lr_bound_list = [data[element[0]][:] for element in data['lr_bound']]\n",
    "\n",
    "depth_threshold = len(lr_bound_list)\n",
    "i = 0\n",
    "for i in range(len(lr_bound_list)):\n",
    "    level = lr_bound_list[i]\n",
    "    lr_bound_list[i] = []\n",
    "    level = list((level.T)[0])\n",
    "    for boundNum in range(0, len(level), 2):\n",
    "        lr_bound_list[i].append([int(level[boundNum]) - 1, int(level[boundNum + 1]) - 1])\n",
    "    i += 1\n",
    "\n",
    "lr_bound = {}\n",
    "for i in range(len(lr_bound_list)):\n",
    "    lr_bound[str(i)] = lr_bound_list[i]"
   ]
  },
  {
   "cell_type": "code",
   "execution_count": 11,
   "metadata": {
    "collapsed": true
   },
   "outputs": [],
   "source": [
    "feature=h5py.File('treeFile/tree.mat')  \n",
    "tree = list(feature['tree'][:].T[0])\n",
    "tree = [i-1 for i in tree]"
   ]
  },
  {
   "cell_type": "markdown",
   "metadata": {},
   "source": [
    "## MF part"
   ]
  },
  {
   "cell_type": "code",
   "execution_count": 12,
   "metadata": {
    "collapsed": true
   },
   "outputs": [],
   "source": [
    "from pyspark import SparkConf\n",
    "from pyspark import SparkContext\n",
    "from pyspark.mllib.recommendation import ALS\n",
    "\n",
    "class MatrixFactorization:\n",
    "    def __init__(self, maxIter=15, regParam=0.01, rank=10):\n",
    "        self.maxIter = maxIter\n",
    "        self.regParam = regParam\n",
    "        self.rank = rank\n",
    "        conf = SparkConf().setAppName(\"appName\").setMaster(\"local[*]\")\n",
    "        conf.set(\"spark.driver.memory\",\"8g\")\n",
    "        conf.set(\"spark.executor.memory\",\"8g\")\n",
    "        self.spark = SparkContext.getOrCreate(conf=conf)                    \n",
    "        print(\"New SparkSession started...\")\n",
    "\n",
    "    def change_parameter(self, regParam):\n",
    "        self.regParam = regParam\n",
    "\n",
    "    def matrix_factorization(self, train_lst):\n",
    "        ratings = self.spark.parallelize(train_lst)\n",
    "        model = ALS.train(ratings, self.rank, seed=10, \\\n",
    "                          iterations=self.maxIter, \\\n",
    "                          lambda_=self.regParam)\n",
    "        print(\"MF DONE\")\n",
    "        productFeatures = sorted(model.userFeatures().collect(), key=lambda d: d[0], reverse=False)\n",
    "        userFeatures = sorted(model.productFeatures().collect(), key=lambda d: d[0], reverse=False)\n",
    "        itemProfile = {each[0]: each[1].tolist() for each in productFeatures}\n",
    "        userProfile = {each[0]: each[1].tolist() for each in userFeatures}\n",
    "             \n",
    "        return userProfile, itemProfile\n",
    "\n",
    "    def end(self):\n",
    "        self.spark.stop()\n",
    "        print(\"SparkSession stopped.\")"
   ]
  },
  {
   "cell_type": "code",
   "execution_count": 13,
   "metadata": {
    "collapsed": true
   },
   "outputs": [],
   "source": [
    "lambda_list = [0.005, 0.025, 0.05, 0.075, 0.10, 0.11, 0.12, 0.13, 0.14, 0.15, 0.20, 0.25]"
   ]
  },
  {
   "cell_type": "code",
   "execution_count": 14,
   "metadata": {
    "scrolled": true
   },
   "outputs": [
    {
     "name": "stdout",
     "output_type": "stream",
     "text": [
      "New SparkSession started...\n"
     ]
    }
   ],
   "source": [
    "MF = MatrixFactorization()"
   ]
  },
  {
   "cell_type": "code",
   "execution_count": 15,
   "metadata": {
    "scrolled": false
   },
   "outputs": [
    {
     "name": "stdout",
     "output_type": "stream",
     "text": [
      "level: 0\n",
      "Rating Number of level 0: 6040\n",
      "Current plambda: 0.005\n",
      "MF DONE\n",
      "Current RMSE: 1.02892730665\n",
      "Current plambda: 0.025\n",
      "MF DONE\n",
      "Current RMSE: 1.02888378957\n",
      "Current plambda: 0.05\n",
      "MF DONE\n",
      "Current RMSE: 1.02903817214\n",
      "Current plambda: 0.075\n",
      "MF DONE\n",
      "Current RMSE: 1.02969409904\n",
      "Current plambda: 0.1\n",
      "MF DONE\n",
      "Current RMSE: 1.03104686169\n",
      "Current plambda: 0.11\n",
      "MF DONE\n",
      "Current RMSE: 1.03180204603\n",
      "Current plambda: 0.12\n",
      "MF DONE\n",
      "Current RMSE: 1.03268026866\n",
      "Current plambda: 0.13\n",
      "MF DONE\n",
      "Current RMSE: 1.03367933538\n",
      "Current plambda: 0.14\n",
      "MF DONE\n",
      "Current RMSE: 1.03479590064\n",
      "Current plambda: 0.15\n",
      "MF DONE\n",
      "Current RMSE: 1.03602582432\n",
      "Current plambda: 0.2\n",
      "MF DONE\n",
      "Current RMSE: 1.04372391144\n",
      "Current plambda: 0.25\n",
      "MF DONE\n",
      "Current RMSE: 1.05368260066\n",
      "min RMSE: 1.02888378957\n"
     ]
    },
    {
     "data": {
      "image/png": "[encoded data removed]",
      "text/plain": [
       "<matplotlib.figure.Figure at 0x2176cec2fd0>"
      ]
     },
     "metadata": {},
     "output_type": "display_data"
    },
    {
     "name": "stdout",
     "output_type": "stream",
     "text": [
      "level: 1\n",
      "Rating Number of level 1: 17950\n",
      "Current plambda: 0.005\n",
      "MF DONE\n",
      "Current RMSE: 0.961505921908\n",
      "Current plambda: 0.025\n",
      "MF DONE\n",
      "Current RMSE: 0.959761168461\n",
      "Current plambda: 0.05\n",
      "MF DONE\n",
      "Current RMSE: 0.958354031197\n",
      "Current plambda: 0.075\n",
      "MF DONE\n",
      "Current RMSE: 0.958110317648\n",
      "Current plambda: 0.1\n",
      "MF DONE\n",
      "Current RMSE: 0.959325864942\n",
      "Current plambda: 0.11\n",
      "MF DONE\n",
      "Current RMSE: 0.960256287695\n",
      "Current plambda: 0.12\n",
      "MF DONE\n",
      "Current RMSE: 0.961444027822\n",
      "Current plambda: 0.13\n",
      "MF DONE\n",
      "Current RMSE: 0.962886706334\n",
      "Current plambda: 0.14\n",
      "MF DONE\n",
      "Current RMSE: 0.964579574733\n",
      "Current plambda: 0.15\n",
      "MF DONE\n",
      "Current RMSE: 0.966516371504\n",
      "Current plambda: 0.2\n",
      "MF DONE\n",
      "Current RMSE: 0.978979841996\n",
      "Current plambda: 0.25\n",
      "MF DONE\n",
      "Current RMSE: 0.995085417028\n",
      "min RMSE: 0.958110317648\n"
     ]
    },
    {
     "data": {
      "image/png": "[encoded data removed]",
      "text/plain": [
       "<matplotlib.figure.Figure at 0x2176e507b00>"
      ]
     },
     "metadata": {},
     "output_type": "display_data"
    },
    {
     "name": "stdout",
     "output_type": "stream",
     "text": [
      "level: 2\n",
      "Rating Number of level 2: 49786\n",
      "Current plambda: 0.005\n",
      "MF DONE\n",
      "Current RMSE: 0.999457103164\n",
      "Current plambda: 0.025\n",
      "MF DONE\n",
      "Current RMSE: 0.965558106483\n",
      "Current plambda: 0.05\n",
      "MF DONE\n",
      "Current RMSE: 0.95609921628\n",
      "Current plambda: 0.075\n",
      "MF DONE\n",
      "Current RMSE: 0.950783167841\n",
      "Current plambda: 0.1\n",
      "MF DONE\n",
      "Current RMSE: 0.948541551035\n",
      "Current plambda: 0.11\n",
      "MF DONE\n",
      "Current RMSE: 0.948503906643\n",
      "Current plambda: 0.12\n",
      "MF DONE\n",
      "Current RMSE: 0.948946870191\n",
      "Current plambda: 0.13\n",
      "MF DONE\n",
      "Current RMSE: 0.949857531251\n",
      "Current plambda: 0.14\n",
      "MF DONE\n",
      "Current RMSE: 0.951219112092\n",
      "Current plambda: 0.15\n",
      "MF DONE\n",
      "Current RMSE: 0.953011096619\n",
      "Current plambda: 0.2\n",
      "MF DONE\n",
      "Current RMSE: 0.96601723604\n",
      "Current plambda: 0.25\n",
      "MF DONE\n",
      "Current RMSE: 0.982980678423\n",
      "min RMSE: 0.948503906643\n"
     ]
    },
    {
     "data": {
      "image/png": "[encoded data removed]",
      "text/plain": [
       "<matplotlib.figure.Figure at 0x2176ce78f60>"
      ]
     },
     "metadata": {},
     "output_type": "display_data"
    },
    {
     "name": "stdout",
     "output_type": "stream",
     "text": [
      "level: 3\n",
      "Rating Number of level 3: 121347\n",
      "Current plambda: 0.005\n",
      "MF DONE\n",
      "Current RMSE: 1.02029313213\n",
      "Current plambda: 0.025\n",
      "MF DONE\n",
      "Current RMSE: 0.983769756684\n",
      "Current plambda: 0.05\n",
      "MF DONE\n",
      "Current RMSE: 0.965514546118\n",
      "Current plambda: 0.075\n",
      "MF DONE\n",
      "Current RMSE: 0.955344364325\n",
      "Current plambda: 0.1\n",
      "MF DONE\n",
      "Current RMSE: 0.95073089448\n",
      "Current plambda: 0.11\n",
      "MF DONE\n",
      "Current RMSE: 0.950222997456\n",
      "Current plambda: 0.12\n",
      "MF DONE\n",
      "Current RMSE: 0.950393894964\n",
      "Current plambda: 0.13\n",
      "MF DONE\n",
      "Current RMSE: 0.951187309788\n",
      "Current plambda: 0.14\n",
      "MF DONE\n",
      "Current RMSE: 0.952547677851\n",
      "Current plambda: 0.15\n",
      "MF DONE\n",
      "Current RMSE: 0.954427464475\n",
      "Current plambda: 0.2\n",
      "MF DONE\n",
      "Current RMSE: 0.968546099306\n",
      "Current plambda: 0.25\n",
      "MF DONE\n",
      "Current RMSE: 0.986446391174\n",
      "min RMSE: 0.950222997456\n"
     ]
    },
    {
     "data": {
      "image/png": "[encoded data removed]",
      "text/plain": [
       "<matplotlib.figure.Figure at 0x2176ef18a90>"
      ]
     },
     "metadata": {},
     "output_type": "display_data"
    },
    {
     "name": "stdout",
     "output_type": "stream",
     "text": [
      "level: 4\n",
      "Rating Number of level 4: 251781\n",
      "Current plambda: 0.005\n",
      "MF DONE\n",
      "Current RMSE: 1.00712052695\n",
      "Current plambda: 0.025\n",
      "MF DONE\n",
      "Current RMSE: 0.978314308826\n",
      "Current plambda: 0.05\n",
      "MF DONE\n",
      "Current RMSE: 0.960652323343\n",
      "Current plambda: 0.075\n",
      "MF DONE\n",
      "Current RMSE: 0.950698497412\n",
      "Current plambda: 0.1\n",
      "MF DONE\n",
      "Current RMSE: 0.946933411231\n",
      "Current plambda: 0.11\n",
      "MF DONE\n",
      "Current RMSE: 0.946920335783\n",
      "Current plambda: 0.12\n",
      "MF DONE\n",
      "Current RMSE: 0.947652474104\n",
      "Current plambda: 0.13\n",
      "MF DONE\n",
      "Current RMSE: 0.949064072567\n",
      "Current plambda: 0.14\n",
      "MF DONE\n",
      "Current RMSE: 0.95105406322\n",
      "Current plambda: 0.15\n",
      "MF DONE\n",
      "Current RMSE: 0.953399899421\n",
      "Current plambda: 0.2\n",
      "MF DONE\n",
      "Current RMSE: 0.967117145735\n",
      "Current plambda: 0.25\n",
      "MF DONE\n",
      "Current RMSE: 0.984190059187\n",
      "min RMSE: 0.946920335783\n"
     ]
    },
    {
     "data": {
      "image/png": "[encoded data removed]",
      "text/plain": [
       "<matplotlib.figure.Figure at 0x2176f8a7940>"
      ]
     },
     "metadata": {},
     "output_type": "display_data"
    },
    {
     "name": "stdout",
     "output_type": "stream",
     "text": [
      "level: 5\n",
      "Rating Number of level 5: 439742\n",
      "Current plambda: 0.005\n",
      "MF DONE\n",
      "Current RMSE: 1.01312628269\n",
      "Current plambda: 0.025\n",
      "MF DONE\n",
      "Current RMSE: 0.983600059037\n",
      "Current plambda: 0.05\n",
      "MF DONE\n",
      "Current RMSE: 0.963867797865\n",
      "Current plambda: 0.075\n",
      "MF DONE\n",
      "Current RMSE: 0.95276727672\n",
      "Current plambda: 0.1\n",
      "MF DONE\n",
      "Current RMSE: 0.948288944645\n",
      "Current plambda: 0.11\n",
      "MF DONE\n",
      "Current RMSE: 0.947995538014\n",
      "Current plambda: 0.12\n",
      "MF DONE\n",
      "Current RMSE: 0.948421529752\n",
      "Current plambda: 0.13\n",
      "MF DONE\n",
      "Current RMSE: 0.949462967577\n",
      "Current plambda: 0.14\n",
      "MF DONE\n",
      "Current RMSE: 0.950969165161\n",
      "Current plambda: 0.15\n",
      "MF DONE\n",
      "Current RMSE: 0.952769577004\n",
      "Current plambda: 0.2\n",
      "MF DONE\n",
      "Current RMSE: 0.964061132071\n",
      "Current plambda: 0.25\n",
      "MF DONE\n",
      "Current RMSE: 0.978743175494\n",
      "min RMSE: 0.947995538014\n"
     ]
    },
    {
     "data": {
      "image/png": "[encoded data removed]",
      "text/plain": [
       "<matplotlib.figure.Figure at 0x2176e0429e8>"
      ]
     },
     "metadata": {},
     "output_type": "display_data"
    },
    {
     "name": "stdout",
     "output_type": "stream",
     "text": [
      "level: 6\n",
      "Rating Number of level 6: 618255\n",
      "Current plambda: 0.005\n",
      "MF DONE\n",
      "Current RMSE: 1.04746396007\n",
      "Current plambda: 0.025\n",
      "MF DONE\n",
      "Current RMSE: 1.01195726363\n",
      "Current plambda: 0.05\n",
      "MF DONE\n",
      "Current RMSE: 0.990427253856\n",
      "Current plambda: 0.075\n",
      "MF DONE\n",
      "Current RMSE: 0.978154545705\n",
      "Current plambda: 0.1\n",
      "MF DONE\n",
      "Current RMSE: 0.971875556021\n",
      "Current plambda: 0.11\n",
      "MF DONE\n",
      "Current RMSE: 0.970720199051\n",
      "Current plambda: 0.12\n",
      "MF DONE\n",
      "Current RMSE: 0.970279639299\n",
      "Current plambda: 0.13\n",
      "MF DONE\n",
      "Current RMSE: 0.970441898632\n",
      "Current plambda: 0.14\n",
      "MF DONE\n",
      "Current RMSE: 0.971063353577\n",
      "Current plambda: 0.15\n",
      "MF DONE\n",
      "Current RMSE: 0.972101760529\n",
      "Current plambda: 0.2\n",
      "MF DONE\n",
      "Current RMSE: 0.981331411757\n",
      "Current plambda: 0.25\n",
      "MF DONE\n",
      "Current RMSE: 0.994598999166\n",
      "min RMSE: 0.970279639299\n"
     ]
    },
    {
     "data": {
      "image/png": "[encoded data removed]",
      "text/plain": [
       "<matplotlib.figure.Figure at 0x2176ce1f390>"
      ]
     },
     "metadata": {},
     "output_type": "display_data"
    },
    {
     "ename": "KeyError",
     "evalue": "\"Unable to open object (object 'targetNode' doesn't exist)\"",
     "output_type": "error",
     "traceback": [
      "\u001b[1;31m---------------------------------------------------------------------------\u001b[0m",
      "\u001b[1;31mKeyError\u001b[0m                                  Traceback (most recent call last)",
      "\u001b[1;32m<ipython-input-15-e4a36d57795d>\u001b[0m in \u001b[0;36m<module>\u001b[1;34m()\u001b[0m\n\u001b[0;32m      6\u001b[0m \u001b[1;33m\u001b[0m\u001b[0m\n\u001b[0;32m      7\u001b[0m     \u001b[1;32mwith\u001b[0m \u001b[0mh5py\u001b[0m\u001b[1;33m.\u001b[0m\u001b[0mFile\u001b[0m\u001b[1;33m(\u001b[0m\u001b[1;34m'treeFile/targetNode_'\u001b[0m \u001b[1;33m+\u001b[0m \u001b[0mstr\u001b[0m\u001b[1;33m(\u001b[0m\u001b[0mlevel\u001b[0m \u001b[1;33m+\u001b[0m \u001b[1;36m1\u001b[0m\u001b[1;33m)\u001b[0m \u001b[1;33m+\u001b[0m \u001b[1;34m'.mat'\u001b[0m\u001b[1;33m)\u001b[0m \u001b[1;32mas\u001b[0m \u001b[0mdata\u001b[0m\u001b[1;33m:\u001b[0m\u001b[1;33m\u001b[0m\u001b[0m\n\u001b[1;32m----> 8\u001b[1;33m         \u001b[0mtargetNode\u001b[0m \u001b[1;33m=\u001b[0m \u001b[1;33m[\u001b[0m\u001b[0mdata\u001b[0m\u001b[1;33m[\u001b[0m\u001b[0melement\u001b[0m\u001b[1;33m[\u001b[0m\u001b[1;36m0\u001b[0m\u001b[1;33m]\u001b[0m\u001b[1;33m]\u001b[0m\u001b[1;33m[\u001b[0m\u001b[1;33m:\u001b[0m\u001b[1;33m]\u001b[0m \u001b[1;32mfor\u001b[0m \u001b[0melement\u001b[0m \u001b[1;32min\u001b[0m \u001b[0mdata\u001b[0m\u001b[1;33m[\u001b[0m\u001b[1;34m'targetNode'\u001b[0m\u001b[1;33m]\u001b[0m\u001b[1;33m]\u001b[0m\u001b[1;33m\u001b[0m\u001b[0m\n\u001b[0m\u001b[0;32m      9\u001b[0m     \u001b[1;32mwith\u001b[0m \u001b[0mh5py\u001b[0m\u001b[1;33m.\u001b[0m\u001b[0mFile\u001b[0m\u001b[1;33m(\u001b[0m\u001b[1;34m'treeFile/rated_user_'\u001b[0m \u001b[1;33m+\u001b[0m \u001b[0mstr\u001b[0m\u001b[1;33m(\u001b[0m\u001b[0mlevel\u001b[0m \u001b[1;33m+\u001b[0m \u001b[1;36m1\u001b[0m\u001b[1;33m)\u001b[0m \u001b[1;33m+\u001b[0m \u001b[1;34m'.mat'\u001b[0m\u001b[1;33m)\u001b[0m \u001b[1;32mas\u001b[0m \u001b[0mdata\u001b[0m\u001b[1;33m:\u001b[0m\u001b[1;33m\u001b[0m\u001b[0m\n\u001b[0;32m     10\u001b[0m         \u001b[0mrated_users\u001b[0m \u001b[1;33m=\u001b[0m \u001b[1;33m[\u001b[0m\u001b[0mdata\u001b[0m\u001b[1;33m[\u001b[0m\u001b[0melement\u001b[0m\u001b[1;33m[\u001b[0m\u001b[1;36m0\u001b[0m\u001b[1;33m]\u001b[0m\u001b[1;33m]\u001b[0m\u001b[1;33m[\u001b[0m\u001b[1;33m:\u001b[0m\u001b[1;33m]\u001b[0m \u001b[1;32mfor\u001b[0m \u001b[0melement\u001b[0m \u001b[1;32min\u001b[0m \u001b[0mdata\u001b[0m\u001b[1;33m[\u001b[0m\u001b[1;34m'rated_user'\u001b[0m\u001b[1;33m]\u001b[0m\u001b[1;33m]\u001b[0m\u001b[1;33m\u001b[0m\u001b[0m\n",
      "\u001b[1;32mh5py\\_objects.pyx\u001b[0m in \u001b[0;36mh5py._objects.with_phil.wrapper\u001b[1;34m()\u001b[0m\n",
      "\u001b[1;32mh5py\\_objects.pyx\u001b[0m in \u001b[0;36mh5py._objects.with_phil.wrapper\u001b[1;34m()\u001b[0m\n",
      "\u001b[1;32mc:\\users\\zhaozihan\\appdata\\local\\programs\\python\\python35\\lib\\site-packages\\h5py\\_hl\\group.py\u001b[0m in \u001b[0;36m__getitem__\u001b[1;34m(self, name)\u001b[0m\n\u001b[0;32m    165\u001b[0m                 \u001b[1;32mraise\u001b[0m \u001b[0mValueError\u001b[0m\u001b[1;33m(\u001b[0m\u001b[1;34m\"Invalid HDF5 object reference\"\u001b[0m\u001b[1;33m)\u001b[0m\u001b[1;33m\u001b[0m\u001b[0m\n\u001b[0;32m    166\u001b[0m         \u001b[1;32melse\u001b[0m\u001b[1;33m:\u001b[0m\u001b[1;33m\u001b[0m\u001b[0m\n\u001b[1;32m--> 167\u001b[1;33m             \u001b[0moid\u001b[0m \u001b[1;33m=\u001b[0m \u001b[0mh5o\u001b[0m\u001b[1;33m.\u001b[0m\u001b[0mopen\u001b[0m\u001b[1;33m(\u001b[0m\u001b[0mself\u001b[0m\u001b[1;33m.\u001b[0m\u001b[0mid\u001b[0m\u001b[1;33m,\u001b[0m \u001b[0mself\u001b[0m\u001b[1;33m.\u001b[0m\u001b[0m_e\u001b[0m\u001b[1;33m(\u001b[0m\u001b[0mname\u001b[0m\u001b[1;33m)\u001b[0m\u001b[1;33m,\u001b[0m \u001b[0mlapl\u001b[0m\u001b[1;33m=\u001b[0m\u001b[0mself\u001b[0m\u001b[1;33m.\u001b[0m\u001b[0m_lapl\u001b[0m\u001b[1;33m)\u001b[0m\u001b[1;33m\u001b[0m\u001b[0m\n\u001b[0m\u001b[0;32m    168\u001b[0m \u001b[1;33m\u001b[0m\u001b[0m\n\u001b[0;32m    169\u001b[0m         \u001b[0motype\u001b[0m \u001b[1;33m=\u001b[0m \u001b[0mh5i\u001b[0m\u001b[1;33m.\u001b[0m\u001b[0mget_type\u001b[0m\u001b[1;33m(\u001b[0m\u001b[0moid\u001b[0m\u001b[1;33m)\u001b[0m\u001b[1;33m\u001b[0m\u001b[0m\n",
      "\u001b[1;32mh5py\\_objects.pyx\u001b[0m in \u001b[0;36mh5py._objects.with_phil.wrapper\u001b[1;34m()\u001b[0m\n",
      "\u001b[1;32mh5py\\_objects.pyx\u001b[0m in \u001b[0;36mh5py._objects.with_phil.wrapper\u001b[1;34m()\u001b[0m\n",
      "\u001b[1;32mh5py\\h5o.pyx\u001b[0m in \u001b[0;36mh5py.h5o.open\u001b[1;34m()\u001b[0m\n",
      "\u001b[1;31mKeyError\u001b[0m: \"Unable to open object (object 'targetNode' doesn't exist)\""
     ]
    }
   ],
   "source": [
    "prediction_model = {}\n",
    "rmst_dict = {\"0\":[],\"1\":[],\"2\":[],\"3\":[],\"4\":[],\"5\":[],\"6\":[],\"7\":[],\"8\":[],\"9\":[],\"10\":[]}\n",
    "min_rmse_list = []\n",
    "\n",
    "for level in range(depth_threshold):\n",
    "    \n",
    "    with h5py.File('treeFile/targetNode_' + str(level + 1) + '.mat') as data:\n",
    "        targetNode = [data[element[0]][:] for element in data['targetNode']]\n",
    "    with h5py.File('treeFile/rated_user_' + str(level + 1) + '.mat') as data:\n",
    "        rated_users = [data[element[0]][:] for element in data['rated_user']]\n",
    "    \n",
    "    level = str(level)\n",
    "    print(\"level:\", level)    \n",
    "                   \n",
    "    prediction_model.setdefault(level, {})\n",
    "    train_lst = []    \n",
    "    \n",
    "    for pseudo_item_bound, itemid in zip(lr_bound[level], range(len(lr_bound[level]))):\n",
    "        if pseudo_item_bound[0] > pseudo_item_bound[1]:\n",
    "            continue\n",
    "        pseudo_item_lst = tree[pseudo_item_bound[0]:(pseudo_item_bound[1] + 1)]\n",
    "        pseudo_matrix = np.array(rating_matrix_train[:, pseudo_item_lst].sum(axis=1))[:,0] / \\\n",
    "                                     (rating_matrix_train[:, pseudo_item_lst].getnnz(axis=1)+1e-9)\n",
    "        train_lst += [(itemid, userid, float(pseudo_matrix[userid])) \\\n",
    "                      for userid in range(pseudo_matrix.shape[0]) if pseudo_matrix[userid]]        \n",
    "\n",
    "    print(\"Rating Number of level \" + level + \": \" + str(len(train_lst)))\n",
    "    \n",
    "    #### Train MF and Do validation ####\n",
    "    min_RMSE = -1\n",
    "    user_profile_list = []\n",
    "    item_profile_list = []\n",
    "    for plambda in lambda_list:\n",
    "        print(\"Current plambda: \" + str(plambda))\n",
    "        MF.change_parameter(plambda)\n",
    "        user_profile, item_profile = MF.matrix_factorization(train_lst)\n",
    "        user_profile_list.append(user_profile)\n",
    "        item_profile_list.append(item_profile)\n",
    "        prediction_model[level]['P'], prediction_model[level]['plambda'] \\\n",
    "                                         = np.dot(np.array(list(user_profile.values())), np.array(list(item_profile.values())).T), plambda\n",
    "            \n",
    "        P_test = np.zeros(rating_matrix_test.shape)\n",
    "        rating_matrix_test_unqueried = rating_matrix_test.toarray()\n",
    "        for itemid in range(rating_matrix_test.shape[1]):\n",
    "#             if itemid  % 2000 == 0:\n",
    "#                 print(\"%.2f%%\" % (100 * itemid / rating_matrix_test.shape[1]))      \n",
    "            pred_index = int(targetNode[itemid].T[0][1]) - 1\n",
    "            final_level = int(targetNode[itemid].T[0][0]) - 1\n",
    "            if rated_users[itemid].sum() == 0 or np.sum(rated_users[itemid] == [1, 0]):\n",
    "                rated_user = []\n",
    "            else:\n",
    "                rated_user = [int(i-1) for i in list(set(rated_users[itemid][0]))]\n",
    "                \n",
    "            P_test[:, itemid] = prediction_model[str(final_level)]['P'][:, pred_index]\n",
    "            rating_matrix_test_unqueried[rated_user, itemid] = 0\n",
    "\n",
    "        rating_matrix_test_unqueried = csc_matrix(rating_matrix_test_unqueried)\n",
    "        P_test = (rating_matrix_test_unqueried!=0).multiply(P_test)\n",
    "        dif = P_test - rating_matrix_test_unqueried\n",
    "        RMSE = ( dif.multiply(dif).sum() / (rating_matrix_test_unqueried!=0).sum() )**0.5\n",
    "        print(\"Current RMSE: \" + str(RMSE))\n",
    "        rmst_dict[level].append(RMSE)\n",
    "        \n",
    "    min_MF = rmst_dict[level].index(min(rmst_dict[level]))   \n",
    "    prediction_model[level]['upro'] = user_profile_list[min_MF]\n",
    "    prediction_model[level]['ipro'] = item_profile_list[min_MF]\n",
    "    prediction_model[level]['plambda'] = lambda_list[min_MF]\n",
    "    print(\"min RMSE: \" + str(min(rmst_dict[level])))\n",
    "    min_rmse_list.append(min(rmst_dict[level]))\n",
    "    \n",
    "    plt.figure(1)\n",
    "    plt.title('RMSE for level ' + level)\n",
    "    plt.xlabel('plambda')\n",
    "    plt.ylabel('RMSE')\n",
    "    plt.plot(lambda_list, rmst_dict[level])\n",
    "    plt.show()"
   ]
  },
  {
   "cell_type": "code",
   "execution_count": 12,
   "metadata": {
    "scrolled": true
   },
   "outputs": [
    {
     "name": "stdout",
     "output_type": "stream",
     "text": [
      "SparkSession stopped.\n"
     ]
    }
   ],
   "source": [
    "MF.end()"
   ]
  },
  {
   "cell_type": "code",
   "execution_count": 25,
   "metadata": {
    "collapsed": true
   },
   "outputs": [],
   "source": [
    "import klepto\n",
    "Tree = klepto.archives.dir_archive('treeFile', cached=True, serialized=True)\n",
    "Tree['prediction_model'] = prediction_model\n",
    "Tree.dump()\n",
    "Tree.clear()"
   ]
  },
  {
   "cell_type": "code",
   "execution_count": 16,
   "metadata": {},
   "outputs": [
    {
     "data": {
      "image/png": "[encoded data removed]",
      "text/plain": [
       "<matplotlib.figure.Figure at 0x2176ce1fef0>"
      ]
     },
     "metadata": {},
     "output_type": "display_data"
    }
   ],
   "source": [
    "plt.figure(1)\n",
    "plt.xlabel('level')\n",
    "plt.ylabel('min RMSE')\n",
    "plt.plot(list(range(depth_threshold)), min_rmse_list)\n",
    "plt.show()"
   ]
  },
  {
   "cell_type": "code",
   "execution_count": 68,
   "metadata": {
    "collapsed": true
   },
   "outputs": [],
   "source": [
    "for i in range(depth_threshold):\n",
    "    sio.savemat('rmse_list' + str(i) + '.mat', {'rmse_list': rmst_dict[str(i)]})"
   ]
  },
  {
   "cell_type": "code",
   "execution_count": 69,
   "metadata": {
    "collapsed": true
   },
   "outputs": [],
   "source": [
    "sio.savemat('min_rmse_list.mat', {'min_rmse_list':min_rmse_list})"
   ]
  },
  {
   "cell_type": "code",
   "execution_count": 17,
   "metadata": {},
   "outputs": [
    {
     "data": {
      "text/plain": [
       "[1.0288837895681577,\n",
       " 0.95811031764837662,\n",
       " 0.94850390664269291,\n",
       " 0.95022299745623195,\n",
       " 0.9469203357825049,\n",
       " 0.94799553801395997,\n",
       " 0.97027963929850669]"
      ]
     },
     "execution_count": 17,
     "metadata": {},
     "output_type": "execute_result"
    }
   ],
   "source": [
    "min_rmse_list"
   ]
  },
  {
   "cell_type": "code",
   "execution_count": null,
   "metadata": {
    "collapsed": true
   },
   "outputs": [],
   "source": []
  }
 ],
 "metadata": {
  "kernelspec": {
   "display_name": "Python 3",
   "language": "python",
   "name": "python3"
  },
  "language_info": {
   "codemirror_mode": {
    "name": "ipython",
    "version": 3
   },
   "file_extension": ".py",
   "mimetype": "text/x-python",
   "name": "python",
   "nbconvert_exporter": "python",
   "pygments_lexer": "ipython3",
   "version": "3.5.0"
  }
 },
 "nbformat": 4,
 "nbformat_minor": 1
}
