{
 "cells": [
  {
   "cell_type": "code",
   "execution_count": 4,
   "metadata": {
    "scrolled": true
   },
   "outputs": [],
   "source": [
    "import time\n",
    "import klepto\n",
    "import shelve\n",
    "import pickle\n",
    "import h5py\n",
    "import numpy as np\n",
    "import scipy.io as sio\n",
    "from scipy.sparse import *\n",
    "import matplotlib.pyplot as plt"
   ]
  },
  {
   "cell_type": "markdown",
   "metadata": {},
   "source": [
    "## Load"
   ]
  },
  {
   "cell_type": "code",
   "execution_count": 5,
   "metadata": {},
   "outputs": [],
   "source": [
    "dataset = '20m'"
   ]
  },
  {
   "cell_type": "markdown",
   "metadata": {},
   "source": [
    "- load train_list & test_list"
   ]
  },
  {
   "cell_type": "code",
   "execution_count": 6,
   "metadata": {},
   "outputs": [],
   "source": [
    "feature=h5py.File('movielens/' + dataset + '/test_list.mat')  \n",
    "test_list = feature['test_list'][:]\n",
    "test_list = list(map(int, test_list.T[0]))\n",
    "test_list = [i-1 for i in test_list] \n",
    "feature=h5py.File('movielens/' + dataset + '/train_list.mat')  \n",
    "train_list = feature['train_list'][:]\n",
    "train_list = list(map(int, train_list.T[0]))\n",
    "train_list = [i-1 for i in train_list] "
   ]
  },
  {
   "cell_type": "code",
   "execution_count": 4,
   "metadata": {
    "collapsed": true
   },
   "outputs": [],
   "source": [
    "feature.close()"
   ]
  },
  {
   "cell_type": "markdown",
   "metadata": {},
   "source": [
    "- load full sparse matrix"
   ]
  },
  {
   "cell_type": "code",
<<<<<<< HEAD
   "execution_count": 7,
=======
   "execution_count": 5,
>>>>>>> 4804c0839df6ae411e4aa9c8504103e0c9071fd1
   "metadata": {},
   "outputs": [
    {
     "name": "stdout",
     "output_type": "stream",
     "text": [
      "file load DONE\n"
     ]
    }
   ],
   "source": [
    "rating_matrix = load_npz('movielens/sparse_matrix_ml-' + dataset + '_selected.npz').tocsc()\n",
    "rating_matrix_train = rating_matrix[:, train_list]\n",
    "rating_matrix_test  = rating_matrix[:, test_list]\n",
    "print(\"file load DONE\")"
   ]
  },
  {
   "cell_type": "markdown",
   "metadata": {},
   "source": [
    "- load tree file: lr_bound & tree"
   ]
  },
  {
   "cell_type": "code",
<<<<<<< HEAD
   "execution_count": 8,
   "metadata": {},
=======
   "execution_count": 6,
   "metadata": {
    "collapsed": true,
    "scrolled": true
   },
>>>>>>> 4804c0839df6ae411e4aa9c8504103e0c9071fd1
   "outputs": [],
   "source": [
    "with h5py.File('treeFile/lr_bound.mat') as data:\n",
    "    lr_bound_list = [data[element[0]][:] for element in data['lr_bound']]\n",
    "\n",
    "depth_threshold = len(lr_bound_list)\n",
    "i = 0\n",
    "for i in range(len(lr_bound_list)):\n",
    "    level = lr_bound_list[i]\n",
    "    lr_bound_list[i] = []\n",
    "    level = list((level.T)[0])\n",
    "    for boundNum in range(0, len(level), 2):\n",
    "        lr_bound_list[i].append([int(level[boundNum]) - 1, int(level[boundNum + 1]) - 1])\n",
    "    i += 1\n",
    "\n",
    "lr_bound = {}\n",
    "for i in range(len(lr_bound_list)):\n",
    "    lr_bound[str(i)] = lr_bound_list[i]"
   ]
  },
  {
   "cell_type": "code",
<<<<<<< HEAD
   "execution_count": 9,
   "metadata": {},
=======
   "execution_count": 7,
   "metadata": {
    "collapsed": true,
    "scrolled": true
   },
>>>>>>> 4804c0839df6ae411e4aa9c8504103e0c9071fd1
   "outputs": [],
   "source": [
    "feature=h5py.File('treeFile/tree.mat')  \n",
    "tree = list(feature['tree'][:].T[0])\n",
    "tree = [i-1 for i in tree]"
   ]
  },
  {
   "cell_type": "code",
   "execution_count": 8,
   "metadata": {
    "collapsed": true
   },
   "outputs": [],
   "source": [
    "feature.close()"
   ]
  },
  {
   "cell_type": "markdown",
   "metadata": {},
   "source": [
    "## MF part"
   ]
  },
  {
   "cell_type": "code",
<<<<<<< HEAD
   "execution_count": 10,
   "metadata": {},
=======
   "execution_count": 9,
   "metadata": {
    "collapsed": true
   },
>>>>>>> 4804c0839df6ae411e4aa9c8504103e0c9071fd1
   "outputs": [],
   "source": [
    "from pyspark import SparkConf\n",
    "from pyspark import SparkContext\n",
    "from pyspark.mllib.recommendation import ALS\n",
    "\n",
    "class MatrixFactorization:\n",
    "    def __init__(self, maxIter=15, regParam=0.01, rank=10):\n",
    "        self.maxIter = maxIter\n",
    "        self.regParam = regParam\n",
    "        self.rank = rank\n",
    "        conf = SparkConf().setAppName(\"appName\").setMaster(\"local[*]\")\n",
    "        conf.set(\"spark.driver.memory\",\"14g\")\n",
    "        conf.set(\"spark.executor.memory\",\"14g\")       \n",
    "        self.spark = SparkContext(conf=conf)            \n",
    "        print(\"New SparkSession started...\")\n",
    "\n",
    "    def change_parameter(self, regParam):\n",
    "        self.regParam = regParam\n",
    "\n",
    "    def matrix_factorization(self, train_lst):\n",
    "        ratings = self.spark.parallelize(train_lst)\n",
    "        model = ALS.train(ratings, self.rank, seed=10, \\\n",
    "                          iterations=self.maxIter, \\\n",
    "                          lambda_=self.regParam)\n",
    "        print(\"MF DONE\")\n",
    "        productFeatures = sorted(model.userFeatures().collect(), key=lambda d: d[0], reverse=False)\n",
    "        userFeatures = sorted(model.productFeatures().collect(), key=lambda d: d[0], reverse=False)\n",
    "        itemProfile = {each[0]: each[1].tolist() for each in productFeatures}\n",
    "        userProfile = {each[0]: each[1].tolist() for each in userFeatures}\n",
    "             \n",
    "        return userProfile, itemProfile\n",
    "\n",
    "    def end(self):\n",
    "        self.spark.stop()\n",
    "        print(\"SparkSession stopped.\")"
   ]
  },
  {
   "cell_type": "code",
<<<<<<< HEAD
   "execution_count": 11,
   "metadata": {},
   "outputs": [],
   "source": [
    "lambda_list = [0.005, 0.02, 0.04, 0.05, 0.06, 0.07, 0.08, 0.09, 0.10, 0.11, 0.12, 0.13, 0.14, 0.15]"
=======
   "execution_count": 10,
   "metadata": {
    "collapsed": true
   },
   "outputs": [],
   "source": [
    "lambda_list = [0.005, 0.025, 0.05, 0.06, 0.08, 0.09, 0.10, 0.11, 0.12, 0.13, 0.14, 0.15]"
>>>>>>> 4804c0839df6ae411e4aa9c8504103e0c9071fd1
   ]
  },
  {
   "cell_type": "code",
<<<<<<< HEAD
   "execution_count": 12,
   "metadata": {
    "scrolled": true
   },
=======
   "execution_count": null,
   "metadata": {},
>>>>>>> 4804c0839df6ae411e4aa9c8504103e0c9071fd1
   "outputs": [
    {
     "name": "stdout",
     "output_type": "stream",
     "text": [
      "New SparkSession started...\n"
     ]
    }
   ],
   "source": [
    "MF = MatrixFactorization()"
   ]
  },
  {
   "cell_type": "code",
<<<<<<< HEAD
   "execution_count": 13,
=======
   "execution_count": null,
>>>>>>> 4804c0839df6ae411e4aa9c8504103e0c9071fd1
   "metadata": {
    "scrolled": true
   },
   "outputs": [
    {
     "name": "stdout",
     "output_type": "stream",
     "text": [
      "level: 0\n",
<<<<<<< HEAD
      "Rating Number of level 0: 6040\n",
      "Current plambda: 0.005\n",
      "MF DONE\n",
      "Current RMSE: 1.02892730665\n",
      "Current plambda: 0.02\n",
      "MF DONE\n",
      "Current RMSE: 1.02888810294\n",
      "Current plambda: 0.04\n",
      "MF DONE\n",
      "Current RMSE: 1.02893130969\n",
      "Current plambda: 0.05\n",
      "MF DONE\n",
      "Current RMSE: 1.02903817214\n",
      "Current plambda: 0.06\n",
      "MF DONE\n",
      "Current RMSE: 1.0292265025\n",
      "Current plambda: 0.07\n",
      "MF DONE\n",
      "Current RMSE: 1.02951151118\n",
      "Current plambda: 0.08\n",
      "MF DONE\n",
      "Current RMSE: 1.02990499126\n",
      "Current plambda: 0.09\n",
      "MF DONE\n",
      "Current RMSE: 1.03041515966\n",
      "Current plambda: 0.1\n",
      "MF DONE\n",
      "Current RMSE: 1.03104686169\n",
      "Current plambda: 0.11\n",
      "MF DONE\n",
      "Current RMSE: 1.03180204603\n",
      "Current plambda: 0.12\n",
      "MF DONE\n",
      "Current RMSE: 1.03268026866\n",
      "Current plambda: 0.13\n",
      "MF DONE\n",
      "Current RMSE: 1.03367933538\n",
      "Current plambda: 0.14\n",
      "MF DONE\n",
      "Current RMSE: 1.03479590064\n",
      "Current plambda: 0.15\n",
      "MF DONE\n",
      "Current RMSE: 1.03602582432\n",
      "min RMSE: 1.02888810294\n"
     ]
    },
    {
     "data": {
      "image/png": "iVBORw0KGgoAAAANSUhEUgAAAZIAAAEWCAYAAABMoxE0AAAABHNCSVQICAgIfAhkiAAAAAlwSFlz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\n",
      "text/plain": [
       "<matplotlib.figure.Figure at 0x289e127fcf8>"
      ]
     },
     "metadata": {},
     "output_type": "display_data"
    },
    {
     "name": "stdout",
     "output_type": "stream",
     "text": [
      "level: 1\n",
      "Rating Number of level 1: 17750\n",
      "Current plambda: 0.005\n",
      "MF DONE\n",
      "Current RMSE: 0.940322411345\n",
      "Current plambda: 0.02\n",
      "MF DONE\n",
      "Current RMSE: 0.939159498236\n",
      "Current plambda: 0.04\n",
      "MF DONE\n",
      "Current RMSE: 0.938266659927\n",
      "Current plambda: 0.05\n",
      "MF DONE\n",
      "Current RMSE: 0.938143335625\n",
      "Current plambda: 0.06\n",
      "MF DONE\n",
      "Current RMSE: 0.938253113831\n",
      "Current plambda: 0.07\n",
      "MF DONE\n",
      "Current RMSE: 0.938611863001\n",
      "Current plambda: 0.08\n",
      "MF DONE\n",
      "Current RMSE: 0.93923267947\n",
      "Current plambda: 0.09\n",
      "MF DONE\n",
      "Current RMSE: 0.94012423015\n",
      "Current plambda: 0.1\n",
      "MF DONE\n",
      "Current RMSE: 0.941290470301\n",
      "Current plambda: 0.11\n",
      "MF DONE\n",
      "Current RMSE: 0.942731032145\n",
      "Current plambda: 0.12\n",
      "MF DONE\n",
      "Current RMSE: 0.944441998497\n",
      "Current plambda: 0.13\n",
      "MF DONE\n",
      "Current RMSE: 0.946416825784\n",
      "Current plambda: 0.14\n",
      "MF DONE\n",
      "Current RMSE: 0.948647239047\n",
      "Current plambda: 0.15\n",
      "MF DONE\n",
      "Current RMSE: 0.951124019517\n",
      "min RMSE: 0.938143335625\n"
     ]
    },
    {
     "data": {
      "image/png": "iVBORw0KGgoAAAANSUhEUgAAAZIAAAEWCAYAAABMoxE0AAAABHNCSVQICAgIfAhkiAAAAAlwSFlz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\nw/jRdEYF/QAAAABJRU5ErkJggg==\n",
      "text/plain": [
       "<matplotlib.figure.Figure at 0x289e3defc88>"
      ]
     },
     "metadata": {},
     "output_type": "display_data"
    },
    {
     "name": "stdout",
     "output_type": "stream",
     "text": [
      "level: 2\n",
      "Rating Number of level 2: 48430\n",
      "Current plambda: 0.005\n",
      "MF DONE\n",
      "Current RMSE: 0.950911174716\n",
      "Current plambda: 0.02\n",
      "MF DONE\n",
      "Current RMSE: 0.93931451337\n",
      "Current plambda: 0.04\n",
      "MF DONE\n",
      "Current RMSE: 0.93274061449\n",
      "Current plambda: 0.05\n",
      "MF DONE\n",
      "Current RMSE: 0.930772633589\n",
      "Current plambda: 0.06\n",
      "MF DONE\n",
      "Current RMSE: 0.929423560798\n",
      "Current plambda: 0.07\n",
      "MF DONE\n",
      "Current RMSE: 0.928644455543\n",
      "Current plambda: 0.08\n",
      "MF DONE\n",
      "Current RMSE: 0.92841356077\n",
      "Current plambda: 0.09\n",
      "MF DONE\n",
      "Current RMSE: 0.928715414685\n",
      "Current plambda: 0.1\n",
      "MF DONE\n",
      "Current RMSE: 0.929533072858\n",
      "Current plambda: 0.11\n",
      "MF DONE\n",
      "Current RMSE: 0.930845567036\n",
      "Current plambda: 0.12\n",
      "MF DONE\n",
      "Current RMSE: 0.932613902079\n",
      "Current plambda: 0.13\n",
      "MF DONE\n",
      "Current RMSE: 0.934665334258\n",
      "Current plambda: 0.14\n",
      "MF DONE\n",
      "Current RMSE: 0.936922875018\n",
      "Current plambda: 0.15\n",
      "MF DONE\n",
      "Current RMSE: 0.939502234659\n",
      "min RMSE: 0.92841356077\n"
     ]
    },
    {
     "data": {
      "image/png": "iVBORw0KGgoAAAANSUhEUgAAAZIAAAEWCAYAAABMoxE0AAAABHNCSVQICAgIfAhkiAAAAAlwSFlz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\nEhERiYmCREREYqIgERGRmPx/UeIanBrlhdAAAAAASUVORK5CYII=\n",
      "text/plain": [
       "<matplotlib.figure.Figure at 0x289e1197d30>"
      ]
     },
     "metadata": {},
     "output_type": "display_data"
    },
    {
     "name": "stdout",
     "output_type": "stream",
     "text": [
      "level: 3\n",
      "Rating Number of level 3: 116215\n",
      "Current plambda: 0.005\n",
      "MF DONE\n",
      "Current RMSE: 0.979429580934\n",
      "Current plambda: 0.02\n",
      "MF DONE\n",
      "Current RMSE: 0.951565531738\n",
      "Current plambda: 0.04\n",
      "MF DONE\n",
      "Current RMSE: 0.938234538473\n",
      "Current plambda: 0.05\n",
      "MF DONE\n",
      "Current RMSE: 0.934256695853\n",
      "Current plambda: 0.06\n",
      "MF DONE\n",
      "Current RMSE: 0.931296004189\n",
      "Current plambda: 0.07\n",
      "MF DONE\n",
      "Current RMSE: 0.929207163241\n",
      "Current plambda: 0.08\n",
      "MF DONE\n",
      "Current RMSE: 0.927910624294\n",
      "Current plambda: 0.09\n",
      "MF DONE\n",
      "Current RMSE: 0.927345706367\n",
      "Current plambda: 0.1\n",
      "MF DONE\n",
      "Current RMSE: 0.927457970587\n",
      "Current plambda: 0.11\n",
      "MF DONE\n",
      "Current RMSE: 0.928195848196\n",
      "Current plambda: 0.12\n",
      "MF DONE\n",
      "Current RMSE: 0.929509702315\n",
      "Current plambda: 0.13\n",
      "MF DONE\n",
      "Current RMSE: 0.931351374226\n",
      "Current plambda: 0.14\n",
      "MF DONE\n",
      "Current RMSE: 0.93367377805\n",
      "Current plambda: 0.15\n",
      "MF DONE\n",
      "Current RMSE: 0.93643408969\n",
      "min RMSE: 0.927345706367\n"
     ]
    },
    {
     "data": {
      "image/png": "iVBORw0KGgoAAAANSUhEUgAAAYsAAAEWCAYAAACXGLsWAAAABHNCSVQICAgIfAhkiAAAAAlwSFlz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\n",
      "text/plain": [
       "<matplotlib.figure.Figure at 0x289e4013828>"
      ]
     },
     "metadata": {},
     "output_type": "display_data"
    },
    {
     "name": "stdout",
     "output_type": "stream",
     "text": [
      "level: 4\n",
      "Rating Number of level 4: 239588\n",
      "Current plambda: 0.005\n",
      "MF DONE\n",
      "Current RMSE: 0.967155711683\n",
      "Current plambda: 0.02\n",
      "MF DONE\n",
      "Current RMSE: 0.946874853275\n",
      "Current plambda: 0.04\n",
      "MF DONE\n",
      "Current RMSE: 0.934318936032\n",
      "Current plambda: 0.05\n",
      "MF DONE\n",
      "Current RMSE: 0.930067288442\n",
      "Current plambda: 0.06\n",
      "MF DONE\n",
      "Current RMSE: 0.926819238531\n",
      "Current plambda: 0.07\n",
      "MF DONE\n",
      "Current RMSE: 0.924518969428\n",
      "Current plambda: 0.08\n",
      "MF DONE\n",
      "Current RMSE: 0.923126477277\n",
      "Current plambda: 0.09\n",
      "MF DONE\n",
      "Current RMSE: 0.92259366277\n",
      "Current plambda: 0.1\n",
      "MF DONE\n",
      "Current RMSE: 0.922862307405\n",
      "Current plambda: 0.11\n",
      "MF DONE\n",
      "Current RMSE: 0.923867936029\n",
      "Current plambda: 0.12\n",
      "MF DONE\n",
      "Current RMSE: 0.925544390215\n",
      "Current plambda: 0.13\n",
      "MF DONE\n",
      "Current RMSE: 0.927832625559\n",
      "Current plambda: 0.14\n",
      "MF DONE\n",
      "Current RMSE: 0.930617334928\n",
      "Current plambda: 0.15\n",
      "MF DONE\n",
      "Current RMSE: 0.933705547672\n",
      "min RMSE: 0.92259366277\n"
     ]
    },
    {
     "data": {
      "image/png": "iVBORw0KGgoAAAANSUhEUgAAAYsAAAEWCAYAAACXGLsWAAAABHNCSVQICAgIfAhkiAAAAAlwSFlz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\nRCQmhYWIiMSksBARkZgUFiIiEtP/AaV6AzRvbN5bAAAAAElFTkSuQmCC\n",
      "text/plain": [
       "<matplotlib.figure.Figure at 0x289db264908>"
      ]
     },
     "metadata": {},
     "output_type": "display_data"
    },
    {
     "name": "stdout",
     "output_type": "stream",
     "text": [
      "level: 5\n",
      "Rating Number of level 5: 415988\n",
      "Current plambda: 0.005\n",
      "MF DONE\n",
      "Current RMSE: 0.971718339201\n",
      "Current plambda: 0.02\n",
      "MF DONE\n",
      "Current RMSE: 0.951420249878\n",
      "Current plambda: 0.04\n",
      "MF DONE\n",
      "Current RMSE: 0.937557516631\n",
      "Current plambda: 0.05\n",
      "MF DONE\n",
      "Current RMSE: 0.932731612903\n",
      "Current plambda: 0.06\n",
      "MF DONE\n",
      "Current RMSE: 0.929077566094\n",
      "Current plambda: 0.07\n",
      "MF DONE\n",
      "Current RMSE: 0.926505019584\n",
      "Current plambda: 0.08\n",
      "MF DONE\n",
      "Current RMSE: 0.924937629223\n",
      "Current plambda: 0.09\n",
      "MF DONE\n",
      "Current RMSE: 0.92430391458\n",
      "Current plambda: 0.1\n",
      "MF DONE\n",
      "Current RMSE: 0.924532097772\n",
      "Current plambda: 0.11\n",
      "MF DONE\n",
      "Current RMSE: 0.925541933211\n",
      "Current plambda: 0.12\n",
      "MF DONE\n",
      "Current RMSE: 0.92723516286\n",
      "Current plambda: 0.13\n",
      "MF DONE\n",
      "Current RMSE: 0.929454817784\n",
      "Current plambda: 0.14\n",
      "MF DONE\n",
      "Current RMSE: 0.932038839878\n",
      "Current plambda: 0.15\n",
      "MF DONE\n",
      "Current RMSE: 0.934866128644\n",
      "min RMSE: 0.92430391458\n"
     ]
    },
    {
     "data": {
      "image/png": "iVBORw0KGgoAAAANSUhEUgAAAYsAAAEWCAYAAACXGLsWAAAABHNCSVQICAgIfAhkiAAAAAlwSFlz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\nyFmMAyrrWwAAAABJRU5ErkJggg==\n",
      "text/plain": [
       "<matplotlib.figure.Figure at 0x289e3dd6dd8>"
      ]
     },
     "metadata": {},
     "output_type": "display_data"
    },
    {
     "name": "stdout",
     "output_type": "stream",
     "text": [
      "level: 6\n",
      "Rating Number of level 6: 594682\n",
      "Current plambda: 0.005\n",
      "MF DONE\n",
      "Current RMSE: 1.01116186759\n",
      "Current plambda: 0.02\n",
      "MF DONE\n",
      "Current RMSE: 0.98257990692\n",
      "Current plambda: 0.04\n",
      "MF DONE\n",
      "Current RMSE: 0.963434779976\n",
      "Current plambda: 0.05\n",
      "MF DONE\n",
      "Current RMSE: 0.956986201124\n",
      "Current plambda: 0.06\n",
      "MF DONE\n",
      "Current RMSE: 0.951975929814\n",
      "Current plambda: 0.07\n",
      "MF DONE\n",
      "Current RMSE: 0.948163755335\n",
      "Current plambda: 0.08\n",
      "MF DONE\n",
      "Current RMSE: 0.945384959908\n",
      "Current plambda: 0.09\n",
      "MF DONE\n",
      "Current RMSE: 0.943518837827\n",
      "Current plambda: 0.1\n",
      "MF DONE\n",
      "Current RMSE: 0.942471195229\n",
      "Current plambda: 0.11\n",
      "MF DONE\n",
      "Current RMSE: 0.942164255817\n",
      "Current plambda: 0.12\n",
      "MF DONE\n",
      "Current RMSE: 0.942513994705\n",
      "Current plambda: 0.13\n",
      "MF DONE\n",
      "Current RMSE: 0.943402065235\n",
      "Current plambda: 0.14\n",
      "MF DONE\n",
      "Current RMSE: 0.944746381853\n",
      "Current plambda: 0.15\n",
      "MF DONE\n",
      "Current RMSE: 0.946439498139\n",
      "min RMSE: 0.942164255817\n"
     ]
    },
    {
     "data": {
      "image/png": "iVBORw0KGgoAAAANSUhEUgAAAYsAAAEWCAYAAACXGLsWAAAABHNCSVQICAgIfAhkiAAAAAlwSFlz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\nAAAAAElFTkSuQmCC\n",
      "text/plain": [
       "<matplotlib.figure.Figure at 0x289e1194080>"
      ]
     },
     "metadata": {},
     "output_type": "display_data"
=======
      "Rating Number of level 0: 138493\n",
      "Current plambda: 0.005\n",
      "MF DONE\n",
      "Current RMSE: 0.968441530361\n",
      "--------------------------------\n",
      "Current plambda: 0.025\n",
      "MF DONE\n",
      "Current RMSE: 0.968567568721\n",
      "--------------------------------\n",
      "Current plambda: 0.05\n",
      "MF DONE\n"
     ]
>>>>>>> 4804c0839df6ae411e4aa9c8504103e0c9071fd1
    }
   ],
   "source": [
    "prediction_model = {}\n",
    "rmst_dict = {\"0\":[],\"1\":[],\"2\":[],\"3\":[],\"4\":[],\"5\":[],\"6\":[],\"7\":[],\"8\":[],\"9\":[],\"10\":[]}\n",
    "min_rmse_list = []\n",
    "\n",
    "for level in range(depth_threshold):\n",
    "    with h5py.File('treeFile/targetNode_' + str(level + 1) + '.mat') as data:\n",
    "        targetNode = [data[element[0]][:] for element in data['targetNode']]\n",
    "    with h5py.File('treeFile/rated_user_' + str(level + 1) + '.mat') as data:\n",
    "        rated_users = [data[element[0]][:] for element in data['rated_user']]\n",
    "    0                    \n",
    "    level = str(level)\n",
    "    print(\"level:\", level)    \n",
    "                   \n",
    "    prediction_model.setdefault(level, {})\n",
    "    train_lst = []    \n",
    "    \n",
    "    for pseudo_item_bound, itemid in zip(lr_bound[level], range(len(lr_bound[level]))):\n",
    "        if pseudo_item_bound[0] > pseudo_item_bound[1]:\n",
    "            continue\n",
    "        pseudo_item_lst = tree[pseudo_item_bound[0]:(pseudo_item_bound[1] + 1)]\n",
    "        pseudo_matrix = np.array(rating_matrix_train[:, pseudo_item_lst].sum(axis=1))[:,0] / \\\n",
    "                                     (rating_matrix_train[:, pseudo_item_lst].getnnz(axis=1)+1e-9)\n",
    "        train_lst += [(itemid, userid, float(pseudo_matrix[userid])) \\\n",
    "                      for userid in range(pseudo_matrix.shape[0]) if pseudo_matrix[userid]]        \n",
    "\n",
    "    print(\"Rating Number of level \" + level + \": \" + str(len(train_lst)))\n",
    "    \n",
    "    #### Train MF and Do validation ####\n",
    "    min_RMSE = -1\n",
    "    user_profile_list = []\n",
    "    item_profile_list = []\n",
    "    for plambda in lambda_list:\n",
    "#         if int(level) == 5 and plambda <= 0.075:\n",
    "#             continue\n",
    "        print(\"Current plambda: \" + str(plambda))\n",
    "        MF.change_parameter(plambda)\n",
    "        user_profile, item_profile = MF.matrix_factorization(train_lst)\n",
    "        user_profile_list.append(user_profile)\n",
    "        item_profile_list.append(item_profile)\n",
    "        \n",
    "        P = np.dot(np.array(list(user_profile.values())), np.array(list(item_profile.values())).T)            \n",
    "        P_test = np.zeros(rating_matrix_test.shape)\n",
    "        rating_matrix_test_unqueried = rating_matrix_test.toarray()\n",
    "        for itemid in range(rating_matrix_test.shape[1]):\n",
    "#             if itemid  % 2000 == 0:\n",
    "#                 print(\"%.2f%%\" % (100 * itemid / rating_matrix_test.shape[1]))      \n",
    "            pred_index = int(targetNode[itemid].T[0][1]) - 1\n",
    "            final_level = int(targetNode[itemid].T[0][0]) - 1\n",
    "            if rated_users[itemid].sum() == 0 or np.sum(rated_users[itemid] == [1, 0]):\n",
    "                rated_user = []\n",
    "            else:\n",
    "                rated_user = [int(i-1) for i in list(set(rated_users[itemid][0]))]\n",
    "                \n",
    "            P_test[:, itemid] = P[:, pred_index]\n",
    "            rating_matrix_test_unqueried[rated_user, itemid] = 0\n",
    "\n",
    "        rating_matrix_test_unqueried = csc_matrix(rating_matrix_test_unqueried)\n",
    "        P_test = (rating_matrix_test_unqueried!=0).multiply(P_test)\n",
    "        dif = P_test - rating_matrix_test_unqueried\n",
    "        RMSE = ( dif.multiply(dif).sum() / (rating_matrix_test_unqueried!=0).sum() )**0.5\n",
    "        print(\"Current RMSE: \" + str(RMSE))\n",
    "        print(\"--------------------------------\")\n",
    "        rmst_dict[level].append(RMSE)\n",
    "        \n",
    "    min_MF = rmst_dict[level].index(min(rmst_dict[level]))   \n",
    "    prediction_model[level]['upro'] = user_profile_list[min_MF]\n",
    "    prediction_model[level]['ipro'] = item_profile_list[min_MF]\n",
    "    prediction_model[level]['plambda'] = lambda_list[min_MF]\n",
    "    print(\"min RMSE: \" + str(min(rmst_dict[level])))\n",
    "    min_rmse_list.append(min(rmst_dict[level]))\n",
    "    \n",
    "    plt.figure(1)\n",
    "    plt.title('RMSE for level ' + level)\n",
    "    plt.xlabel('plambda')\n",
    "    plt.ylabel('RMSE')\n",
    "    plt.plot(lambda_list, rmst_dict[level])\n",
    "    plt.show()"
   ]
  },
  {
   "cell_type": "code",
<<<<<<< HEAD
   "execution_count": 14,
=======
   "execution_count": null,
>>>>>>> 4804c0839df6ae411e4aa9c8504103e0c9071fd1
   "metadata": {
    "scrolled": false
   },
   "outputs": [],
   "source": [
    "MF.end()"
   ]
  },
  {
   "cell_type": "code",
<<<<<<< HEAD
   "execution_count": 15,
   "metadata": {},
   "outputs": [],
   "source": [
    "for i in prediction_model:\n",
    "    prediction_model[i]['P'] = []"
   ]
  },
  {
   "cell_type": "code",
   "execution_count": 16,
   "metadata": {},
=======
   "execution_count": 51,
   "metadata": {
    "collapsed": true
   },
>>>>>>> 4804c0839df6ae411e4aa9c8504103e0c9071fd1
   "outputs": [],
   "source": [
    "import klepto\n",
    "Tree = klepto.archives.dir_archive('treeFile', cached=True, serialized=True)\n",
    "Tree['prediction_model_20m_1'] = prediction_model\n",
    "Tree.dump()\n",
    "Tree.clear()"
   ]
  },
  {
   "cell_type": "code",
<<<<<<< HEAD
   "execution_count": 17,
=======
   "execution_count": 52,
>>>>>>> 4804c0839df6ae411e4aa9c8504103e0c9071fd1
   "metadata": {},
   "outputs": [
    {
     "data": {
<<<<<<< HEAD
      "image/png": "iVBORw0KGgoAAAANSUhEUgAAAYsAAAEKCAYAAADjDHn2AAAABHNCSVQICAgIfAhkiAAAAAlwSFlz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\nYSEiIgkpLEREJKH/D9K4wqPzF3/jAAAAAElFTkSuQmCC\n",
      "text/plain": [
       "<matplotlib.figure.Figure at 0x289e10dc358>"
=======
      "image/png": "iVBORw0KGgoAAAANSUhEUgAAAYsAAAEKCAYAAADjDHn2AAAABHNCSVQICAgIfAhkiAAAAAlwSFlz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\nAAAASUVORK5CYII=\n",
      "text/plain": [
       "<matplotlib.figure.Figure at 0x279a726ed68>"
>>>>>>> 4804c0839df6ae411e4aa9c8504103e0c9071fd1
      ]
     },
     "metadata": {},
     "output_type": "display_data"
    }
   ],
   "source": [
    "plt.figure(1)\n",
    "plt.xlabel('level')\n",
    "plt.ylabel('min RMSE')\n",
    "plt.plot(list(range(depth_threshold - 1)), min_rmse_list)\n",
    "plt.show()"
   ]
  },
  {
   "cell_type": "code",
<<<<<<< HEAD
   "execution_count": 18,
   "metadata": {},
=======
   "execution_count": 53,
   "metadata": {
    "collapsed": true
   },
>>>>>>> 4804c0839df6ae411e4aa9c8504103e0c9071fd1
   "outputs": [],
   "source": [
    "for i in range(depth_threshold - 1):\n",
    "    sio.savemat('rmse_list' + str(i) + '.mat', {'rmse_list': rmst_dict[str(i)]})"
   ]
  },
  {
   "cell_type": "code",
<<<<<<< HEAD
   "execution_count": 19,
   "metadata": {},
=======
   "execution_count": 54,
   "metadata": {
    "collapsed": true
   },
>>>>>>> 4804c0839df6ae411e4aa9c8504103e0c9071fd1
   "outputs": [],
   "source": [
    "sio.savemat('min_rmse_list.mat', {'min_rmse_list':min_rmse_list})"
   ]
  },
  {
   "cell_type": "code",
<<<<<<< HEAD
   "execution_count": 20,
   "metadata": {},
   "outputs": [
    {
     "data": {
      "text/plain": [
       "[1.0288881029440435,\n",
       " 0.93814333562476471,\n",
       " 0.92841356077016535,\n",
       " 0.92734570636668812,\n",
       " 0.92259366276958399,\n",
       " 0.92430391458001604,\n",
       " 0.94216425581744745]"
      ]
     },
     "execution_count": 20,
     "metadata": {},
     "output_type": "execute_result"
=======
   "execution_count": 55,
   "metadata": {
    "collapsed": true
   },
   "outputs": [],
   "source": [
    "import klepto\n",
    "Tree = klepto.archives.dir_archive('treeFile', {}, serialized=True)\n",
    "Tree.load()\n",
    "prediction_model = Tree['prediction_model_20m_1']"
   ]
  },
  {
   "cell_type": "code",
   "execution_count": 56,
   "metadata": {},
   "outputs": [
    {
     "name": "stdout",
     "output_type": "stream",
     "text": [
      "level: 2\n",
      "Current RMSE: 0.885516526561\n"
     ]
>>>>>>> 4804c0839df6ae411e4aa9c8504103e0c9071fd1
    }
   ],
   "source": [
    "level = 2\n",
    "\n",
    "with h5py.File('treeFile/targetNode_' + str(level + 1) + '.mat') as data:\n",
    "    targetNode = [data[element[0]][:] for element in data['targetNode']]\n",
    "with h5py.File('treeFile/rated_user_' + str(level + 1) + '.mat') as data:\n",
    "    rated_users = [data[element[0]][:] for element in data['rated_user']]\n",
    "\n",
    "level = str(level)\n",
    "print(\"level:\", level)    \n",
    "P = np.dot(np.array(list(prediction_model[level]['upro'].values())), np.array(list(prediction_model[level]['ipro'].values())).T)\n",
    "P_test = np.zeros(rating_matrix_test.shape)\n",
    "rated_matrix = np.zeros(rating_matrix_test.shape)\n",
    "rating_matrix_test_unqueried = rating_matrix_test.toarray()\n",
    "for itemid in range(rating_matrix_test.shape[1]):  \n",
    "    pred_index = int(targetNode[itemid].T[0][1]) - 1\n",
    "    final_level = int(targetNode[itemid].T[0][0]) - 1\n",
    "    if rated_users[itemid].sum() == 0 or np.sum(rated_users[itemid] == [1, 0]):\n",
    "        rated_user = []\n",
    "    else:\n",
    "        rated_user = [int(i-1) for i in list(set(rated_users[itemid][0]))]\n",
    "\n",
    "    P_test[:, itemid] = P[:, pred_index]\n",
    "    rating_matrix_test_unqueried[rated_user, itemid] = 0\n",
    "    rated_matrix[rated_user, itemid] = 1\n",
    "\n",
    "rating_matrix_test_unqueried = csc_matrix(rating_matrix_test_unqueried)\n",
    "P_test = (rating_matrix_test_unqueried!=0).multiply(P_test)\n",
    "dif = P_test - rating_matrix_test_unqueried\n",
    "RMSE = ( dif.multiply(dif).sum() / (rating_matrix_test_unqueried!=0).sum() )**0.5\n",
    "print(\"Current RMSE: \" + str(RMSE))\n",
    "rated_matrix = rated_matrix==0"
   ]
  },
  {
   "cell_type": "code",
   "execution_count": 57,
   "metadata": {
    "collapsed": true
   },
   "outputs": [],
   "source": [
    "with shelve.open(\"P_test.pkl\", protocol=pickle.HIGHEST_PROTOCOL) as d:\n",
    "    d['content'] = P_test\n",
    "with shelve.open(\"rated_matrix.pkl\", protocol=pickle.HIGHEST_PROTOCOL) as d:\n",
    "    d['content'] = rated_matrix"
   ]
  },
  {
   "cell_type": "code",
   "execution_count": null,
   "metadata": {
    "collapsed": true
   },
   "outputs": [],
   "source": []
  }
 ],
 "metadata": {
  "kernelspec": {
   "display_name": "Python 3",
   "language": "python",
   "name": "python3"
  },
  "language_info": {
   "codemirror_mode": {
    "name": "ipython",
    "version": 3
   },
   "file_extension": ".py",
   "mimetype": "text/x-python",
   "name": "python",
   "nbconvert_exporter": "python",
   "pygments_lexer": "ipython3",
<<<<<<< HEAD
   "version": "3.6.3"
=======
   "version": "3.5.4"
>>>>>>> 4804c0839df6ae411e4aa9c8504103e0c9071fd1
  }
 },
 "nbformat": 4,
 "nbformat_minor": 1
}
