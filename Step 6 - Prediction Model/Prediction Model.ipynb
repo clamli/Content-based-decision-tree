{
 "cells": [
  {
   "cell_type": "code",
   "execution_count": 1,
   "metadata": {
    "collapsed": true,
    "scrolled": true
   },
   "outputs": [],
   "source": [
    "import time\n",
    "import klepto\n",
    "import shelve\n",
    "import pickle\n",
    "import h5py\n",
    "import numpy as np\n",
    "import scipy.io as sio\n",
    "from scipy.sparse import *\n",
    "import matplotlib.pyplot as plt"
   ]
  },
  {
   "cell_type": "markdown",
   "metadata": {},
   "source": [
    "## Load"
   ]
  },
  {
   "cell_type": "code",
   "execution_count": 2,
   "metadata": {
    "collapsed": true
   },
   "outputs": [],
   "source": [
    "dataset = '20m'"
   ]
  },
  {
   "cell_type": "markdown",
   "metadata": {},
   "source": [
    "- load train_list & test_list"
   ]
  },
  {
   "cell_type": "code",
   "execution_count": 3,
   "metadata": {
    "collapsed": true
   },
   "outputs": [],
   "source": [
    "feature=h5py.File('movielens/' + dataset + '/test_list.mat')  \n",
    "test_list = feature['test_list'][:]\n",
    "test_list = list(map(int, test_list.T[0]))\n",
    "test_list = [i-1 for i in test_list] \n",
    "feature=h5py.File('movielens/' + dataset + '/train_list.mat')  \n",
    "train_list = feature['train_list'][:]\n",
    "train_list = list(map(int, train_list.T[0]))\n",
    "train_list = [i-1 for i in train_list] "
   ]
  },
  {
   "cell_type": "code",
   "execution_count": 4,
   "metadata": {
    "collapsed": true
   },
   "outputs": [],
   "source": [
    "feature.close()"
   ]
  },
  {
   "cell_type": "markdown",
   "metadata": {},
   "source": [
    "- load full sparse matrix"
   ]
  },
  {
   "cell_type": "code",
   "execution_count": 5,
   "metadata": {},
   "outputs": [
    {
     "name": "stdout",
     "output_type": "stream",
     "text": [
      "file load DONE\n"
     ]
    }
   ],
   "source": [
    "rating_matrix = load_npz('movielens/sparse_matrix_ml-' + dataset + '_selected.npz').tocsc()\n",
    "rating_matrix_train = rating_matrix[:, train_list]\n",
    "rating_matrix_test  = rating_matrix[:, test_list]\n",
    "print(\"file load DONE\")"
   ]
  },
  {
   "cell_type": "markdown",
   "metadata": {},
   "source": [
    "- load tree file: lr_bound & tree"
   ]
  },
  {
   "cell_type": "code",
   "execution_count": 6,
   "metadata": {
    "collapsed": true,
    "scrolled": true
   },
   "outputs": [],
   "source": [
    "with h5py.File('treeFile/lr_bound.mat') as data:\n",
    "    lr_bound_list = [data[element[0]][:] for element in data['lr_bound']]\n",
    "\n",
    "depth_threshold = len(lr_bound_list)\n",
    "i = 0\n",
    "for i in range(len(lr_bound_list)):\n",
    "    level = lr_bound_list[i]\n",
    "    lr_bound_list[i] = []\n",
    "    level = list((level.T)[0])\n",
    "    for boundNum in range(0, len(level), 2):\n",
    "        lr_bound_list[i].append([int(level[boundNum]) - 1, int(level[boundNum + 1]) - 1])\n",
    "    i += 1\n",
    "\n",
    "lr_bound = {}\n",
    "for i in range(len(lr_bound_list)):\n",
    "    lr_bound[str(i)] = lr_bound_list[i]"
   ]
  },
  {
   "cell_type": "code",
   "execution_count": 7,
   "metadata": {
    "collapsed": true,
    "scrolled": true
   },
   "outputs": [],
   "source": [
    "feature=h5py.File('treeFile/tree.mat')  \n",
    "tree = list(feature['tree'][:].T[0])\n",
    "tree = [i-1 for i in tree]"
   ]
  },
  {
   "cell_type": "code",
   "execution_count": 8,
   "metadata": {
    "collapsed": true
   },
   "outputs": [],
   "source": [
    "feature.close()"
   ]
  },
  {
   "cell_type": "markdown",
   "metadata": {},
   "source": [
    "## MF part"
   ]
  },
  {
   "cell_type": "code",
   "execution_count": 9,
   "metadata": {
    "collapsed": true
   },
   "outputs": [],
   "source": [
    "from pyspark import SparkConf\n",
    "from pyspark import SparkContext\n",
    "from pyspark.mllib.recommendation import ALS\n",
    "\n",
    "class MatrixFactorization:\n",
    "    def __init__(self, maxIter=15, regParam=0.01, rank=10):\n",
    "        self.maxIter = maxIter\n",
    "        self.regParam = regParam\n",
    "        self.rank = rank\n",
    "        conf = SparkConf().setAppName(\"appName\").setMaster(\"local[*]\")\n",
    "        conf.set(\"spark.driver.memory\",\"14g\")\n",
    "        conf.set(\"spark.executor.memory\",\"14g\")       \n",
    "        self.spark = SparkContext(conf=conf)            \n",
    "        print(\"New SparkSession started...\")\n",
    "\n",
    "    def change_parameter(self, regParam):\n",
    "        self.regParam = regParam\n",
    "\n",
    "    def matrix_factorization(self, train_lst):\n",
    "        ratings = self.spark.parallelize(train_lst)\n",
    "        model = ALS.train(ratings, self.rank, seed=10, \\\n",
    "                          iterations=self.maxIter, \\\n",
    "                          lambda_=self.regParam)\n",
    "        print(\"MF DONE\")\n",
    "        productFeatures = sorted(model.userFeatures().collect(), key=lambda d: d[0], reverse=False)\n",
    "        userFeatures = sorted(model.productFeatures().collect(), key=lambda d: d[0], reverse=False)\n",
    "        itemProfile = {each[0]: each[1].tolist() for each in productFeatures}\n",
    "        userProfile = {each[0]: each[1].tolist() for each in userFeatures}\n",
    "             \n",
    "        return userProfile, itemProfile\n",
    "\n",
    "    def end(self):\n",
    "        self.spark.stop()\n",
    "        print(\"SparkSession stopped.\")"
   ]
  },
  {
   "cell_type": "code",
   "execution_count": 10,
   "metadata": {
    "collapsed": true
   },
   "outputs": [],
   "source": [
    "lambda_list = [0.005, 0.01, 0.03, 0.05, 0.07, 0.08, 0.09, 0.10, 0.11, 0.12, 0.13, 0.14, 0.15]\n",
    "\n",
    "prediction_model = {}\n",
    "rmst_dict = {\"0\":[],\"1\":[],\"2\":[],\"3\":[],\"4\":[],\"5\":[],\"6\":[],\"7\":[],\"8\":[],\"9\":[],\"10\":[]}"
   ]
  },
  {
   "cell_type": "code",
   "execution_count": 14,
   "metadata": {},
   "outputs": [
    {
     "name": "stdout",
     "output_type": "stream",
     "text": [
      "New SparkSession started...\n"
     ]
    }
   ],
   "source": [
    "MF = MatrixFactorization()"
   ]
  },
  {
   "cell_type": "code",
   "execution_count": 15,
   "metadata": {
    "scrolled": true
   },
   "outputs": [
    {
     "name": "stdout",
     "output_type": "stream",
     "text": [
      "level: 4\n",
      "Rating Number of level 4: 4004809\n",
      "Current plambda: 0.005\n",
      "MF DONE\n",
      "Current RMSE: 0.939938731637\n",
      "--------------------------------\n",
      "Current plambda: 0.01\n",
      "MF DONE\n",
      "Current RMSE: 0.92348395155\n",
      "--------------------------------\n",
      "Current plambda: 0.03\n",
      "MF DONE\n",
      "Current RMSE: 0.900122722109\n",
      "--------------------------------\n",
      "Current plambda: 0.05\n",
      "MF DONE\n",
      "Current RMSE: 0.888915175308\n",
      "--------------------------------\n",
      "Current plambda: 0.07\n",
      "MF DONE\n",
      "Current RMSE: 0.882333625443\n",
      "--------------------------------\n",
      "Current plambda: 0.08\n",
      "MF DONE\n",
      "Current RMSE: 0.880452439454\n",
      "--------------------------------\n",
      "Current plambda: 0.09\n",
      "MF DONE\n",
      "Current RMSE: 0.879430889025\n",
      "--------------------------------\n",
      "Current plambda: 0.1\n",
      "MF DONE\n",
      "Current RMSE: 0.879214863745\n",
      "--------------------------------\n",
      "Current plambda: 0.11\n",
      "MF DONE\n",
      "Current RMSE: 0.879747050235\n",
      "--------------------------------\n",
      "min RMSE: 0.879214863745\n"
     ]
    },
    {
     "data": {
      "image/png": "[encoded data removed]",
      "text/plain": [
       "<matplotlib.figure.Figure at 0x187fe1c8588>"
      ]
     },
     "metadata": {},
     "output_type": "display_data"
    },
    {
     "name": "stdout",
     "output_type": "stream",
     "text": [
      "level: 5\n",
      "Rating Number of level 5: 6608876\n",
      "Current plambda: 0.005\n",
      "MF DONE\n",
      "Current RMSE: 0.933285806548\n",
      "--------------------------------\n",
      "Current plambda: 0.01\n",
      "MF DONE\n",
      "Current RMSE: 0.920518469278\n",
      "--------------------------------\n",
      "Current plambda: 0.03\n",
      "MF DONE\n",
      "Current RMSE: 0.897411368728\n",
      "--------------------------------\n",
      "Current plambda: 0.05\n",
      "MF DONE\n",
      "Current RMSE: 0.885150121521\n",
      "--------------------------------\n",
      "Current plambda: 0.07\n",
      "MF DONE\n",
      "Current RMSE: 0.878342945443\n",
      "--------------------------------\n",
      "Current plambda: 0.08\n",
      "MF DONE\n",
      "Current RMSE: 0.87655863648\n",
      "--------------------------------\n",
      "Current plambda: 0.09\n",
      "MF DONE\n",
      "Current RMSE: 0.875717423987\n",
      "--------------------------------\n",
      "Current plambda: 0.1\n",
      "MF DONE\n",
      "Current RMSE: 0.875731179191\n",
      "--------------------------------\n",
      "min RMSE: 0.875717423987\n"
     ]
    },
    {
     "data": {
      "image/png": "[encoded data removed]",
      "text/plain": [
       "<matplotlib.figure.Figure at 0x187c56212e8>"
      ]
     },
     "metadata": {},
     "output_type": "display_data"
    },
    {
     "name": "stdout",
     "output_type": "stream",
     "text": [
      "level: 6\n",
      "Rating Number of level 6: 9558341\n",
      "Current plambda: 0.005\n",
      "MF DONE\n",
      "Current RMSE: 0.949131668995\n",
      "--------------------------------\n",
      "Current plambda: 0.01\n",
      "MF DONE\n",
      "Current RMSE: 0.932773878028\n",
      "--------------------------------\n",
      "Current plambda: 0.03\n",
      "MF DONE\n",
      "Current RMSE: 0.905097527485\n",
      "--------------------------------\n",
      "Current plambda: 0.05\n",
      "MF DONE\n",
      "Current RMSE: 0.891660624155\n",
      "--------------------------------\n",
      "Current plambda: 0.07\n",
      "MF DONE\n",
      "Current RMSE: 0.884609202539\n",
      "--------------------------------\n",
      "Current plambda: 0.08\n",
      "MF DONE\n",
      "Current RMSE: 0.882789420331\n",
      "--------------------------------\n",
      "Current plambda: 0.09\n",
      "MF DONE\n",
      "Current RMSE: 0.881892450882\n",
      "--------------------------------\n",
      "Current plambda: 0.1\n",
      "MF DONE\n",
      "Current RMSE: 0.881803554129\n",
      "--------------------------------\n",
      "Current plambda: 0.11\n",
      "MF DONE\n",
      "Current RMSE: 0.88242968033\n",
      "--------------------------------\n",
      "min RMSE: 0.881803554129\n"
     ]
    },
    {
     "data": {
      "image/png": "[encoded data removed]",
      "text/plain": [
       "<matplotlib.figure.Figure at 0x187a3730a20>"
      ]
     },
     "metadata": {},
     "output_type": "display_data"
    },
    {
     "name": "stdout",
     "output_type": "stream",
     "text": [
      "read: 5297.366285 s\n"
     ]
    }
   ],
   "source": [
    "start = time.clock()\n",
    "for level in range(depth_threshold):\n",
    "    if level < 4:\n",
    "        continue\n",
    "    with h5py.File('treeFile/targetNode_' + str(level + 1) + '.mat') as data:\n",
    "        targetNode = [data[element[0]][:] for element in data['targetNode']]\n",
    "    with h5py.File('treeFile/rated_user_' + str(level + 1) + '.mat') as data:\n",
    "        rated_users = [data[element[0]][:] for element in data['rated_user']]          \n",
    "    level = str(level)\n",
    "    print(\"level:\", level)    \n",
    "                   \n",
    "    prediction_model.setdefault(level, {})\n",
    "    train_lst = []    \n",
    "    \n",
    "    for pseudo_item_bound, itemid in zip(lr_bound[level], range(len(lr_bound[level]))):\n",
    "        if pseudo_item_bound[0] > pseudo_item_bound[1]:\n",
    "            continue\n",
    "        pseudo_item_lst = tree[pseudo_item_bound[0]:(pseudo_item_bound[1] + 1)]\n",
    "        pseudo_matrix = np.array(rating_matrix_train[:, pseudo_item_lst].sum(axis=1))[:,0] / \\\n",
    "                                     (rating_matrix_train[:, pseudo_item_lst].getnnz(axis=1)+1e-9)\n",
    "        train_lst += [(itemid, userid, float(pseudo_matrix[userid])) \\\n",
    "                      for userid in range(pseudo_matrix.shape[0]) if pseudo_matrix[userid]]        \n",
    "\n",
    "    print(\"Rating Number of level \" + level + \": \" + str(len(train_lst)))\n",
    "    \n",
    "    #### Train MF and Do validation ####\n",
    "    min_RMSE = -1\n",
    "    user_profile_list = []\n",
    "    item_profile_list = []\n",
    "    for plambda in lambda_list:\n",
    "#         if int(level) == 5 and plambda <= 0.075:\n",
    "#             continue\n",
    "        print(\"Current plambda: \" + str(plambda))\n",
    "        MF.change_parameter(plambda)\n",
    "        user_profile, item_profile = MF.matrix_factorization(train_lst)\n",
    "        prediction_model[level]['ipro'] = item_profile\n",
    "        user_profile_list.append(user_profile)\n",
    "        item_profile_list.append(item_profile)\n",
    "        \n",
    "        P = np.dot(np.array(list(user_profile.values())), np.array(list(item_profile.values())).T)            \n",
    "        P_test = np.zeros(rating_matrix_test.shape)\n",
    "        rating_matrix_test_unqueried = rating_matrix_test.toarray()\n",
    "        for itemid in range(rating_matrix_test.shape[1]):\n",
    "#             if itemid  % 2000 == 0:\n",
    "#                 print(\"%.2f%%\" % (100 * itemid / rating_matrix_test.shape[1]))      \n",
    "            pred_index = int(targetNode[itemid].T[0][1]) - 1\n",
    "            final_level = int(targetNode[itemid].T[0][0]) - 1\n",
    "            if rated_users[itemid].sum() == 0 or np.sum(rated_users[itemid] == [1, 0]):\n",
    "                rated_user = []\n",
    "            else:\n",
    "                rated_user = [int(i-1) for i in list((rated_users[itemid]).T[0])]\n",
    "            \n",
    "            pred_index = list(prediction_model[str(final_level)]['ipro'].keys()).index(pred_index)\n",
    "            P_test[:, itemid] = P[:, pred_index]\n",
    "            rating_matrix_test_unqueried[rated_user, itemid] = 0\n",
    "\n",
    "        rating_matrix_test_unqueried = csc_matrix(rating_matrix_test_unqueried)\n",
    "        P_test = (rating_matrix_test_unqueried!=0).multiply(P_test)\n",
    "        dif = P_test - rating_matrix_test_unqueried\n",
    "        RMSE = ( dif.multiply(dif).sum() / (rating_matrix_test_unqueried!=0).sum() )**0.5\n",
    "        print(\"Current RMSE: \" + str(RMSE))\n",
    "        print(\"--------------------------------\")\n",
    "        rmst_dict[level].append(RMSE)\n",
    "        ## if RMSE goes up, stop test for this level\n",
    "        if len(rmst_dict[level]) - 1 != 0 and rmst_dict[level][len(rmst_dict[level]) - 1] > rmst_dict[level][len(rmst_dict[level]) - 2]:\n",
    "            break        \n",
    "        \n",
    "    min_MF = rmst_dict[level].index(min(rmst_dict[level]))   \n",
    "    prediction_model[level]['upro'] = user_profile_list[min_MF]\n",
    "    prediction_model[level]['ipro'] = item_profile_list[min_MF]\n",
    "    prediction_model[level]['plambda'] = lambda_list[min_MF]\n",
    "    print(\"min RMSE: \" + str(min(rmst_dict[level])))\n",
    "    \n",
    "    plt.figure(1)\n",
    "    plt.title('RMSE for level ' + level)\n",
    "    plt.xlabel('plambda')\n",
    "    plt.ylabel('RMSE')\n",
    "    plt.plot(lambda_list[0:len(rmst_dict[level])], rmst_dict[level])\n",
    "    plt.show()\n",
    "\n",
    "\n",
    "end = time.clock()\n",
    "print(\"read: %f s\" % (end - start))"
   ]
  },
  {
   "cell_type": "code",
   "execution_count": 13,
   "metadata": {
    "scrolled": false
   },
   "outputs": [
    {
     "name": "stdout",
     "output_type": "stream",
     "text": [
      "SparkSession stopped.\n"
     ]
    }
   ],
   "source": [
    "MF.end()"
   ]
  },
  {
   "cell_type": "code",
   "execution_count": null,
   "metadata": {
    "collapsed": true
   },
   "outputs": [],
   "source": [
    "10 : 0.882525401874\n",
    "50 : 0.875717423987"
   ]
  },
  {
   "cell_type": "markdown",
   "metadata": {},
   "source": [
    "### In case Spark fails halfway"
   ]
  },
  {
   "cell_type": "code",
   "execution_count": 13,
   "metadata": {
    "collapsed": true
   },
   "outputs": [],
   "source": [
    "rmst_dict[\"7\"] = []\n",
    "prediction_model[\"7\"]={}"
   ]
  },
  {
   "cell_type": "code",
   "execution_count": 14,
   "metadata": {
    "collapsed": true
   },
   "outputs": [],
   "source": [
    "with shelve.open(\"treeFile/prediction_model\", protocol=pickle.HIGHEST_PROTOCOL) as d:\n",
    "    d['content'] = prediction_model\n",
    "with shelve.open(\"treeFile/rmst_dict\", protocol=pickle.HIGHEST_PROTOCOL) as d:\n",
    "    d['content'] = rmst_dict"
   ]
  },
  {
   "cell_type": "code",
   "execution_count": 15,
   "metadata": {
    "collapsed": true
   },
   "outputs": [],
   "source": [
    "with shelve.open(\"treeFile/prediction_model\", protocol=pickle.HIGHEST_PROTOCOL) as d:\n",
    "    prediction_model = d['content']\n",
    "with shelve.open(\"treeFile/rmst_dict\", protocol=pickle.HIGHEST_PROTOCOL) as d:\n",
    "    rmst_dict = d['content']"
   ]
  },
  {
   "cell_type": "markdown",
   "metadata": {},
   "source": [
    "### Save results"
   ]
  },
  {
   "cell_type": "code",
   "execution_count": 16,
   "metadata": {
    "collapsed": true
   },
   "outputs": [],
   "source": [
    "import klepto\n",
    "Tree = klepto.archives.dir_archive('treeFile', cached=True, serialized=True)\n",
    "Tree['prediction_model_20m_4_50c'] = prediction_model\n",
    "Tree.dump()\n",
    "Tree.clear()"
   ]
  },
  {
   "cell_type": "code",
   "execution_count": 17,
   "metadata": {
    "collapsed": true
   },
   "outputs": [],
   "source": [
    "min_rmse_list = []\n",
    "for i in range(4,7):\n",
    "    min_rmse_list.append(min(rmst_dict[str(i)]))"
   ]
  },
  {
   "cell_type": "code",
   "execution_count": 22,
   "metadata": {},
   "outputs": [
    {
     "data": {
      "image/png": "[encoded data removed]",
      "text/plain": [
       "<matplotlib.figure.Figure at 0x28b24e36d68>"
      ]
     },
     "metadata": {},
     "output_type": "display_data"
    }
   ],
   "source": [
    "plt.figure(1)\n",
    "plt.xlabel('level')\n",
    "plt.ylabel('min RMSE')\n",
    "plt.plot(list(range(depth_threshold)), min_rmse_list)\n",
    "plt.show()"
   ]
  },
  {
   "cell_type": "code",
   "execution_count": 16,
   "metadata": {
    "collapsed": true
   },
   "outputs": [],
   "source": [
    "for i in range(depth_threshold - 1):\n",
    "    sio.savemat('rmse_list' + str(i) + '.mat', {'rmse_list': rmst_dict[str(i)]})"
   ]
  },
  {
   "cell_type": "code",
   "execution_count": 18,
   "metadata": {
    "collapsed": true
   },
   "outputs": [],
   "source": [
    "sio.savemat('min_rmse_list.mat', {'min_rmse_list':min_rmse_list})"
   ]
  },
  {
   "cell_type": "markdown",
   "metadata": {},
   "source": [
    "### Prediction for multiple trees"
   ]
  },
  {
   "cell_type": "code",
   "execution_count": 9,
   "metadata": {
    "collapsed": true,
    "scrolled": true
   },
   "outputs": [],
   "source": [
    "import klepto\n",
    "Tree = klepto.archives.dir_archive('treeFile', {}, serialized=True)\n",
    "Tree.load()\n",
    "prediction_model = Tree['prediction_model_20m_4']"
   ]
  },
  {
   "cell_type": "code",
   "execution_count": 10,
   "metadata": {},
   "outputs": [
    {
     "name": "stdout",
     "output_type": "stream",
     "text": [
      "level: 5\n",
      "Current RMSE: 0.877820709312\n"
     ]
    }
   ],
   "source": [
    "level = 5\n",
    "\n",
    "with h5py.File('treeFile/targetNode_' + str(level + 1) + '.mat') as data:\n",
    "    targetNode = [data[element[0]][:] for element in data['targetNode']]\n",
    "with h5py.File('treeFile/rated_user_' + str(level + 1) + '.mat') as data:\n",
    "    rated_users = [data[element[0]][:] for element in data['rated_user']]\n",
    "\n",
    "level = str(level)\n",
    "print(\"level:\", level)    \n",
    "P = np.dot(np.array(list(prediction_model[level]['upro'].values())), np.array(list(prediction_model[level]['ipro'].values())).T)\n",
    "P_test = np.zeros(rating_matrix_test.shape)\n",
    "rated_matrix = np.zeros(rating_matrix_test.shape)\n",
    "rating_matrix_test_unqueried = rating_matrix_test.toarray()\n",
    "for itemid in range(rating_matrix_test.shape[1]):  \n",
    "    pred_index = int(targetNode[itemid].T[0][1]) - 1\n",
    "    final_level = int(targetNode[itemid].T[0][0]) - 1\n",
    "    if rated_users[itemid].sum() == 0 or np.sum(rated_users[itemid] == [1, 0]):\n",
    "        rated_user = []\n",
    "    else:\n",
    "        rated_user = [int(i-1) for i in list((rated_users[itemid]).T[0])]\n",
    "\n",
    "    P_test[:, itemid] = P[:, pred_index]\n",
    "    rating_matrix_test_unqueried[rated_user, itemid] = 0\n",
    "    rated_matrix[rated_user, itemid] = 1\n",
    "\n",
    "rating_matrix_test_unqueried = csc_matrix(rating_matrix_test_unqueried)\n",
    "P_test = (rating_matrix_test_unqueried!=0).multiply(P_test)\n",
    "dif = P_test - rating_matrix_test_unqueried\n",
    "RMSE = ( dif.multiply(dif).sum() / (rating_matrix_test_unqueried!=0).sum() )**0.5\n",
    "print(\"Current RMSE: \" + str(RMSE))\n",
    "rated_matrix = rated_matrix==0"
   ]
  },
  {
   "cell_type": "code",
   "execution_count": 12,
   "metadata": {
    "collapsed": true
   },
   "outputs": [],
   "source": [
    "with shelve.open(\"test_1m/P_test\", protocol=pickle.HIGHEST_PROTOCOL) as d:\n",
    "    d['content'] = P_test\n",
    "with shelve.open(\"test_1m/rated_matrix\", protocol=pickle.HIGHEST_PROTOCOL) as d:\n",
    "    d['content'] = rated_matrix"
   ]
  },
  {
   "cell_type": "markdown",
   "metadata": {
    "collapsed": true
   },
   "source": [
    "### RMSE of Different ratings obtained"
   ]
  },
  {
   "cell_type": "code",
   "execution_count": 18,
   "metadata": {},
   "outputs": [
    {
     "name": "stdout",
     "output_type": "stream",
     "text": [
      "level: 5\n"
     ]
    }
   ],
   "source": [
    "level = 5\n",
    "\n",
    "with h5py.File('treeFile/targetNode_' + str(level + 1) + '.mat') as data:\n",
    "    targetNode = [data[element[0]][:] for element in data['targetNode']]\n",
    "with h5py.File('treeFile/rated_user_' + str(level + 1) + '.mat') as data:\n",
    "    rated_users = [data[element[0]][:] for element in data['rated_user']]\n",
    "\n",
    "level = str(level)\n",
    "print(\"level:\", level)    \n",
    "P = np.dot(np.array(list(prediction_model[level]['upro'].values())), np.array(list(prediction_model[level]['ipro'].values())).T)\n",
    "P_test = np.zeros(rating_matrix_test.shape)\n",
    "rated_matrix = np.zeros(rating_matrix_test.shape)\n",
    "rating_matrix_test_unqueried = rating_matrix_test.toarray()\n",
    "for itemid in range(rating_matrix_test.shape[1]):  \n",
    "    pred_index = int(targetNode[itemid].T[0][1]) - 1\n",
    "    final_level = int(targetNode[itemid].T[0][0]) - 1\n",
    "    if rated_users[itemid].sum() == 0 or np.sum(rated_users[itemid] == [1, 0]):\n",
    "        rated_user = []\n",
    "    else:\n",
    "        rated_user = [int(i-1) for i in list((rated_users[itemid]).T[0])]\n",
    "#     print(rated_users[itemid])\n",
    "    P_test[:, itemid] = P[:, pred_index]\n",
    "    rating_matrix_test_unqueried[rated_user, itemid] = 0\n",
    "    rated_matrix[rated_user, itemid] = 1\n",
    "\n",
    "rating_matrix_test_unqueried = csc_matrix(rating_matrix_test_unqueried)\n",
    "\n",
    "P_test = (rating_matrix_test_unqueried!=0).multiply(P_test)\n",
    "dif = P_test - rating_matrix_test_unqueried"
   ]
  },
  {
   "cell_type": "code",
   "execution_count": 19,
   "metadata": {
    "collapsed": true
   },
   "outputs": [],
   "source": [
    "rated_number = rated_matrix.sum(axis=0)"
   ]
  },
  {
   "cell_type": "code",
   "execution_count": 20,
   "metadata": {
    "collapsed": true
   },
   "outputs": [],
   "source": [
    "rated_number_sorted = sorted(rated_number, reverse=True)\n",
    "for zeroPos in range(len(rated_number_sorted)):\n",
    "    if rated_number_sorted[zeroPos] == 0:\n",
    "        break"
   ]
  },
  {
   "cell_type": "code",
   "execution_count": 21,
   "metadata": {
    "collapsed": true
   },
   "outputs": [],
   "source": [
    "rated_number_index = sorted(range(len(rated_number)), key=lambda k: rated_number[k])\n",
    "rated_number_index.reverse()"
   ]
  },
  {
   "cell_type": "code",
   "execution_count": 39,
   "metadata": {
    "collapsed": true
   },
   "outputs": [],
   "source": [
    "rmse_list = []\n",
    "interval_list = []"
   ]
  },
  {
   "cell_type": "code",
   "execution_count": 40,
   "metadata": {},
   "outputs": [
    {
     "name": "stdout",
     "output_type": "stream",
     "text": [
      "0th:\n",
      "Start: 0\n",
      "End: 404\n",
      "Start Rating Number: 508.0\n",
      "End Rating Number: 52.0\n",
      "Current RMSE: 0.87035870983\n",
      "1th:\n",
      "Start: 405\n",
      "End: 808\n",
      "Start Rating Number: 52.0\n",
      "End Rating Number: 23.0\n",
      "Current RMSE: 0.874766174811\n",
      "2th:\n",
      "Start: 809\n",
      "End: 1212\n",
      "Start Rating Number: 23.0\n",
      "End Rating Number: 12.0\n",
      "Current RMSE: 0.885536687708\n",
      "3th:\n",
      "Start: 1213\n",
      "End: 1616\n",
      "Start Rating Number: 12.0\n",
      "End Rating Number: 6.0\n",
      "Current RMSE: 0.90327066476\n",
      "4th:\n",
      "Start: 1617\n",
      "End: 2020\n",
      "Start Rating Number: 6.0\n",
      "End Rating Number: 3.0\n",
      "Current RMSE: 0.92419338281\n",
      "5th:\n",
      "Start: 2021\n",
      "End: 2424\n",
      "Start Rating Number: 3.0\n",
      "End Rating Number: 2.0\n",
      "Current RMSE: 0.939945107362\n",
      "6th:\n",
      "Start: 2425\n",
      "End: 2828\n",
      "Start Rating Number: 2.0\n",
      "End Rating Number: 1.0\n",
      "Current RMSE: 0.941642125195\n",
      "7th:\n",
      "Start: 2829\n",
      "End: 3232\n",
      "Start Rating Number: 1.0\n",
      "End Rating Number: 1.0\n",
      "Current RMSE: 0.915319015086\n"
     ]
    }
   ],
   "source": [
    "subsetNum = 8;\n",
    "\n",
    "startPos = 0;\n",
    "endPos = int(zeroPos / subsetNum);\n",
    "for i in range(0, subsetNum):\n",
    "    \n",
    "    print(str(i) + 'th:')\n",
    "    print(\"Start: \" + str(startPos))\n",
    "    print(\"End: \" + str(endPos))\n",
    "    print(\"Start Rating Number: \" + str(rated_number[rated_number_index[startPos]]))\n",
    "    print(\"End Rating Number: \" + str(rated_number[rated_number_index[endPos]]))\n",
    "    item_set = rated_number_index[startPos:endPos]\n",
    "    RMSE = ( dif[:, item_set].multiply(dif[:, item_set]).sum() / (rating_matrix_test_unqueried[:, item_set]!=0).sum() )**0.5\n",
    "    rmse_list.append(RMSE)\n",
    "    interval_list.append((rated_number[rated_number_index[startPos]], rated_number[rated_number_index[endPos]]))\n",
    "    print(\"Current RMSE: \" + str(RMSE))\n",
    "\n",
    "    startPos = endPos + 1;\n",
    "#     if startPos>2988:\n",
    "#         endPos = len(rated_number_index)\n",
    "    if i == subsetNum - 1:   \n",
    "        endPos = len(rated_number_index)\n",
    "    else:\n",
    "        endPos = endPos + int(zeroPos  / subsetNum);"
   ]
  },
  {
   "cell_type": "code",
   "execution_count": 43,
   "metadata": {},
   "outputs": [
    {
     "name": "stdout",
     "output_type": "stream",
     "text": [
      "Start: 2829\n",
      "End: 7666\n",
      "Start Rating Number: 1.0\n",
      "End Rating Number: 0.0\n",
      "Current RMSE: 0.947759209605\n"
     ]
    }
   ],
   "source": [
    "startPos = 2829\n",
    "endPos = len(rated_number_index) - 1\n",
    "print(\"Start: \" + str(startPos))\n",
    "print(\"End: \" + str(endPos))\n",
    "print(\"Start Rating Number: \" + str(rated_number[rated_number_index[startPos]]))\n",
    "print(\"End Rating Number: \" + str(rated_number[rated_number_index[endPos]]))\n",
    "item_set = rated_number_index[startPos:endPos]\n",
    "RMSE = ( dif[:, item_set].multiply(dif[:, item_set]).sum() / (rating_matrix_test_unqueried[:, item_set]!=0).sum() )**0.5\n",
    "rmse_list[len(rmse_list) - 1]  = RMSE\n",
    "interval_list[len(rmse_list) - 1]  = (rated_number[rated_number_index[startPos]], rated_number[rated_number_index[endPos]])\n",
    "print(\"Current RMSE: \" + str(RMSE))"
   ]
  },
  {
   "cell_type": "code",
   "execution_count": 44,
   "metadata": {
    "collapsed": true
   },
   "outputs": [],
   "source": [
    "sio.savemat('rmse_list.mat', {'rmse_list':rmse_list})"
   ]
  },
  {
   "cell_type": "code",
   "execution_count": 45,
   "metadata": {
    "collapsed": true
   },
   "outputs": [],
   "source": [
    "sio.savemat('interval_list.mat', {'interval_list':interval_list})"
   ]
  },
  {
   "cell_type": "code",
   "execution_count": null,
   "metadata": {
    "collapsed": true
   },
   "outputs": [],
   "source": []
  }
 ],
 "metadata": {
  "kernelspec": {
   "display_name": "Python 3",
   "language": "python",
   "name": "python3"
  },
  "language_info": {
   "codemirror_mode": {
    "name": "ipython",
    "version": 3
   },
   "file_extension": ".py",
   "mimetype": "text/x-python",
   "name": "python",
   "nbconvert_exporter": "python",
   "pygments_lexer": "ipython3",
   "version": "3.5.4"
  }
 },
 "nbformat": 4,
 "nbformat_minor": 1
}
