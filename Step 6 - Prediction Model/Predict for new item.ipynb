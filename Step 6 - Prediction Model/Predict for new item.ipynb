{
 "cells": [
  {
   "cell_type": "code",
   "execution_count": 1,
   "metadata": {},
   "outputs": [],
   "source": [
    "import random as rd\n",
    "import numpy as np\n",
    "import h5py\n",
    "import klepto\n",
    "import shelve\n",
    "import pickle\n",
    "import scipy.io as sio\n",
    "from scipy.sparse import *"
   ]
  },
  {
   "cell_type": "markdown",
   "metadata": {},
   "source": [
    "## Input Prediction Model"
   ]
  },
  {
   "cell_type": "code",
   "execution_count": 9,
   "metadata": {},
   "outputs": [],
   "source": [
    "import shelve\n",
    "import pickle\n",
    "prediction_model = {}\n",
    "tree_num = 3\n",
    "dataset = '1m'\n",
    "\n",
    "for i in range(tree_num):\n",
    "    with shelve.open(\"./s%s/P_test\"%(str(i+1)), protocol=pickle.HIGHEST_PROTOCOL) as d:\n",
    "        P_test_tree = d['content'].tocsc().toarray()\n",
    "    with shelve.open(\"./s%s/rated_matrix\"%(str(i+1)), protocol=pickle.HIGHEST_PROTOCOL) as d:\n",
    "        rated_matrix_tree = d['content']\n",
    "    prediction_model[i] = {'P_test': P_test_tree, 'rated_matrix': rated_matrix_tree}"
   ]
  },
  {
   "cell_type": "markdown",
   "metadata": {},
   "source": [
    "## Input Test item info"
   ]
  },
  {
   "cell_type": "code",
   "execution_count": 4,
   "metadata": {},
   "outputs": [],
   "source": [
    "feature=h5py.File('test_list.mat')  \n",
    "test_list = feature['test_list'][:]\n",
    "test_list = list(map(int, test_list.T[0]))\n",
    "test_list = [i-1 for i in test_list] \n",
    "feature=h5py.File('train_list.mat')\n",
    "train_list = feature['train_list'][:]\n",
    "train_list = list(map(int, train_list.T[0]))\n",
    "train_list = [i-1 for i in train_list]"
   ]
  },
  {
   "cell_type": "code",
   "execution_count": 6,
   "metadata": {},
   "outputs": [
    {
     "name": "stdout",
     "output_type": "stream",
     "text": [
      "file load DONE\n"
     ]
    }
   ],
   "source": [
    "rating_matrix = load_npz('sparse_matrix_ml-' + dataset + '_selected.npz').tocsc()\n",
    "rating_matrix_train = rating_matrix[:, train_list]\n",
    "rating_matrix_test  = rating_matrix[:, test_list]\n",
    "print(\"file load DONE\")\n",
    "rating_matrix_test = rating_matrix_test.toarray()"
   ]
  },
  {
   "cell_type": "markdown",
   "metadata": {},
   "source": [
    "## Aggregate Three Tree models"
   ]
  },
  {
   "cell_type": "code",
   "execution_count": 13,
   "metadata": {},
   "outputs": [],
   "source": [
    "tree_res = {}\n",
    "for i in range(tree_num):\n",
    "    tree_res[i] = []\n",
    "for itemid in range(rating_matrix_test.shape[1]):\n",
    "    model_ind = rd.randint(0, tree_num-1)\n",
    "    tree_res[model_ind].append(itemid)\n",
    "    \n",
    "P_test = {}\n",
    "rated_user = {}\n",
    "rating_matrix_test_unqueried = {}\n",
    "for i in range(tree_num):\n",
    "    P_test[i] = prediction_model[i]['P_test'][:, tree_res[i]]\n",
    "    rated_user[i] = prediction_model[i]['rated_matrix'][:, tree_res[i]]\n",
    "    rating_matrix_test_unqueried[i] = rating_matrix_test[:, tree_res[i]] * rated_user[i]\n",
    "\n",
    "RMSE_nominator = 0\n",
    "RMSE_denominator = 0\n",
    "Precision_nominator = 0\n",
    "Precision_denominator = 0\n",
    "for i in range(tree_num):\n",
    "    dif = P_test[i]*(rating_matrix_test_unqueried[i]!=0) - rating_matrix_test_unqueried[i]\n",
    "    RMSE_nominator += (dif**2).sum()\n",
    "    RMSE_denominator += (rating_matrix_test_unqueried[i]!=0).sum()\n",
    "    Precision_nominator += np.multiply(P_test[i]>3, rating_matrix_test_unqueried[i]>3).sum()\n",
    "    Precision_denominator += (rating_matrix_test_unqueried[i]>3).sum()\n",
    "    \n",
    "RMSE = ( RMSE_nominator/RMSE_denominator )**0.5\n",
    "Precision =  Precision_nominator/Precision_denominator"
   ]
  },
  {
   "cell_type": "code",
   "execution_count": 14,
   "metadata": {},
   "outputs": [
    {
     "data": {
      "text/plain": [
       "0.92263236067525467"
      ]
     },
     "execution_count": 14,
     "metadata": {},
     "output_type": "execute_result"
    }
   ],
   "source": [
    "Precision"
   ]
  },
  {
   "cell_type": "code",
   "execution_count": 15,
   "metadata": {},
   "outputs": [
    {
     "data": {
      "text/plain": [
       "0.92350529194348741"
      ]
     },
     "execution_count": 15,
     "metadata": {},
     "output_type": "execute_result"
    }
   ],
   "source": [
    "RMSE"
   ]
  },
  {
   "cell_type": "code",
   "execution_count": null,
   "metadata": {},
   "outputs": [],
   "source": []
  }
 ],
 "metadata": {
  "kernelspec": {
   "display_name": "Python 3",
   "language": "python",
   "name": "python3"
  },
  "language_info": {
   "codemirror_mode": {
    "name": "ipython",
    "version": 3
   },
   "file_extension": ".py",
   "mimetype": "text/x-python",
   "name": "python",
   "nbconvert_exporter": "python",
   "pygments_lexer": "ipython3",
   "version": "3.6.3"
  }
 },
 "nbformat": 4,
 "nbformat_minor": 2
}
