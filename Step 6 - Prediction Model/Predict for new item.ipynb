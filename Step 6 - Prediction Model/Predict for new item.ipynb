{
 "cells": [
  {
   "cell_type": "code",
   "execution_count": 1,
   "metadata": {},
   "outputs": [],
   "source": [
    "import random as rd\n",
    "import numpy as np\n",
    "import h5py\n",
    "import klepto\n",
    "import shelve\n",
    "import pickle\n",
    "import scipy.io as sio\n",
    "from scipy.sparse import *"
   ]
  },
  {
   "cell_type": "markdown",
   "metadata": {},
   "source": [
    "## Input Prediction Model"
   ]
  },
  {
   "cell_type": "code",
   "execution_count": 2,
   "metadata": {},
   "outputs": [
    {
     "name": "stdout",
     "output_type": "stream",
     "text": [
      "0\n",
      "1\n",
      "2\n",
      "3\n",
      "4\n",
      "5\n",
      "6\n",
      "7\n",
      "8\n",
      "9\n"
     ]
    }
   ],
   "source": [
    "import shelve\n",
    "import pickle\n",
    "prediction_model = {}\n",
    "tree_num = 10\n",
    "dataset = '20m'\n",
    "\n",
    "for i in range(tree_num):\n",
    "    print(i)\n",
    "    with shelve.open(\"F:/paper data/movielens-20M/matlab data files/test/%s/P_test\"%(str(i+1)), protocol=pickle.HIGHEST_PROTOCOL) as d:\n",
    "        P_test_tree = d['content']\n",
    "    with shelve.open(\"F:/paper data/movielens-20M/matlab data files/test/%s/rated_matrix\"%(str(i+1)), protocol=pickle.HIGHEST_PROTOCOL) as d:\n",
    "        rated_matrix_tree = d['content']\n",
    "    prediction_model[i] = {'P_test': P_test_tree, 'rated_matrix': rated_matrix_tree}"
   ]
  },
  {
   "cell_type": "markdown",
   "metadata": {},
   "source": [
    "## Input Test item info"
   ]
  },
  {
   "cell_type": "code",
   "execution_count": 3,
   "metadata": {},
   "outputs": [],
   "source": [
    "feature=h5py.File('test_list.mat')  \n",
    "test_list = feature['test_list'][:]\n",
    "test_list = list(map(int, test_list.T[0]))\n",
    "test_list = [i-1 for i in test_list] \n",
    "feature=h5py.File('train_list.mat')\n",
    "train_list = feature['train_list'][:]\n",
    "train_list = list(map(int, train_list.T[0]))\n",
    "train_list = [i-1 for i in train_list]"
   ]
  },
  {
   "cell_type": "code",
   "execution_count": 4,
   "metadata": {},
   "outputs": [
    {
     "name": "stdout",
     "output_type": "stream",
     "text": [
      "file load DONE\n"
     ]
    }
   ],
   "source": [
    "rating_matrix = load_npz('sparse_matrix_ml-' + dataset + '_selected.npz').tocsc()\n",
    "rating_matrix_train = rating_matrix[:, train_list]\n",
    "rating_matrix_test  = rating_matrix[:, test_list]\n",
    "print(\"file load DONE\")\n",
    "rating_matrix_test = rating_matrix_test.toarray()"
   ]
  },
  {
   "cell_type": "markdown",
   "metadata": {},
   "source": [
    "## Test Preparation"
   ]
  },
  {
   "cell_type": "code",
   "execution_count": 44,
   "metadata": {},
   "outputs": [],
   "source": [
    "tree_res = {}\n",
    "P_test = {}\n",
    "rated_user = {}\n",
    "rating_matrix_test_unqueried = {}\n",
    "\n",
    "for i in range(tree_num):\n",
    "    tree_res[i] = []\n",
    "for itemid in range(rating_matrix_test.shape[1]):\n",
    "    model_ind = rd.randint(0, tree_num-1)\n",
    "    tree_res[model_ind].append(itemid)\n",
    "    \n",
    "for i in range(tree_num):\n",
    "    P_test[i] = (prediction_model[i]['P_test'].tocsc())[:, tree_res[i]]\n",
    "    rated_user[i] = prediction_model[i]['rated_matrix'][:, tree_res[i]]\n",
    "    rating_matrix_test_unqueried[i] = rating_matrix_test[:, tree_res[i]] * rated_user[i]"
   ]
  },
  {
   "cell_type": "markdown",
   "metadata": {},
   "source": [
    "## Aggregate Three Tree models"
   ]
  },
  {
   "cell_type": "code",
   "execution_count": 45,
   "metadata": {},
   "outputs": [],
   "source": [
    "RMSE_nominator = 0\n",
    "RMSE_denominator = 0\n",
    "Precision_nominator = 0\n",
    "Precision_denominator = 0\n",
    "for i in range(tree_num):\n",
    "    P_test_array = P_test[i].toarray()\n",
    "    dif = P_test_array*(rating_matrix_test_unqueried[i]!=0) - rating_matrix_test_unqueried[i]\n",
    "    RMSE_nominator += (dif**2).sum()\n",
    "    RMSE_denominator += (rating_matrix_test_unqueried[i]!=0).sum()\n",
    "    Precision_nominator += np.multiply(P_test_array>3, rating_matrix_test_unqueried[i]>3).sum()\n",
    "    Precision_denominator += (rating_matrix_test_unqueried[i]>3).sum()\n",
    "    \n",
    "RMSE = ( RMSE_nominator/RMSE_denominator )**0.5\n",
    "Precision =  Precision_nominator/Precision_denominator"
   ]
  },
  {
   "cell_type": "code",
   "execution_count": 46,
   "metadata": {},
   "outputs": [
    {
     "data": {
      "text/plain": [
       "0.9056462765080241"
      ]
     },
     "execution_count": 46,
     "metadata": {},
     "output_type": "execute_result"
    }
   ],
   "source": [
    "Precision"
   ]
  },
  {
   "cell_type": "code",
   "execution_count": 47,
   "metadata": {},
   "outputs": [
    {
     "data": {
      "text/plain": [
       "0.87873137081736874"
      ]
     },
     "execution_count": 47,
     "metadata": {},
     "output_type": "execute_result"
    }
   ],
   "source": [
    "RMSE"
   ]
  },
  {
   "cell_type": "code",
   "execution_count": null,
   "metadata": {},
   "outputs": [],
   "source": [
    "0.8780"
   ]
  }
 ],
 "metadata": {
  "kernelspec": {
   "display_name": "Python 3",
   "language": "python",
   "name": "python3"
  },
  "language_info": {
   "codemirror_mode": {
    "name": "ipython",
    "version": 3
   },
   "file_extension": ".py",
   "mimetype": "text/x-python",
   "name": "python",
   "nbconvert_exporter": "python",
   "pygments_lexer": "ipython3",
   "version": "3.6.3"
  }
 },
 "nbformat": 4,
 "nbformat_minor": 2
}
