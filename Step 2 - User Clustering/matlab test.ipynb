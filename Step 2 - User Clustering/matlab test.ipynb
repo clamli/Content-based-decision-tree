{
 "cells": [
  {
   "cell_type": "code",
   "execution_count": 2,
   "metadata": {},
   "outputs": [
    {
     "name": "stderr",
     "output_type": "stream",
     "text": [
      "\u001b[1;31m请求的 270000x270000 (543.1GB)数组超过预设的最大数组大小。创建大于此限制的数组可能需要较长时间，并且会导致 MATLAB 无响应。有关详细信息，请参阅<a href=\"matlab: helpview([docroot '/matlab/helptargets.map'], 'matlab_env_workspace_prefs')\">数组大小限制</a>或预设项面板。\n",
      "\n",
      "\u001b[0m"
     ]
    }
   ],
   "source": [
    "m = zeros(270000,270000)"
   ]
  },
  {
   "cell_type": "code",
   "execution_count": null,
   "metadata": {
    "collapsed": true
   },
   "outputs": [],
   "source": []
  }
 ],
 "metadata": {
  "kernelspec": {
   "display_name": "Matlab",
   "language": "matlab",
   "name": "matlab"
  },
  "language_info": {
   "codemirror_mode": "octave",
   "file_extension": ".m",
   "help_links": [
    {
     "text": "MetaKernel Magics",
     "url": "https://github.com/calysto/metakernel/blob/master/metakernel/magics/README.md"
    }
   ],
   "mimetype": "text/x-octave",
   "name": "matlab",
   "version": "0.15.0"
  }
 },
 "nbformat": 4,
 "nbformat_minor": 2
}
