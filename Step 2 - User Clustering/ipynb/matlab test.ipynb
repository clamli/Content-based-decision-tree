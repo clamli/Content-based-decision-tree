{
 "cells": [
  {
   "cell_type": "code",
   "execution_count": 35,
   "metadata": {},
   "outputs": [
    {
     "name": "stdout",
     "output_type": "stream",
     "text": [
      "\n",
      "userNum =\n",
      "\n",
      "      270897\n",
      "\n",
      "\n",
      "itemNum =\n",
      "\n",
      "      176276\n",
      "\n",
      "\n"
     ]
    }
   ],
   "source": [
    "rating_matrix = load('../data/sparse_matrix_ml-latest.mat');\n",
    "rating_matrix = rating_matrix.content(1:size(rating_matrix.content,1),:);\n",
    "mean_all = load('../data/mean_all.mat');\n",
    "mean_all = mean_all.mean_all;\n",
    "[userNum, itemNum] = size(rating_matrix);\n",
    "rating_matrix_tenth = rating_matrix(1:int32(userNum*0.1),find(sum(rating_matrix)));"
   ]
  },
  {
   "cell_type": "code",
   "execution_count": 4,
   "metadata": {},
   "outputs": [
    {
     "name": "stdout",
     "output_type": "stream",
     "text": [
      "\n"
     ]
    }
   ],
   "source": [
    "userDist_m = zeros(int32(rowNum * 0.1),int32(rowNum * 0.1));"
   ]
  },
  {
   "cell_type": "code",
   "execution_count": 5,
   "metadata": {},
   "outputs": [
    {
     "name": "stdout",
     "output_type": "stream",
     "text": [
      "\n",
      "totalNum =\n",
      "\n",
      "  int32\n",
      "\n",
      "   733868100\n",
      "\n",
      "\n"
     ]
    }
   ],
   "source": [
    "totalNum = int32(rowNum * 0.1)^2"
   ]
  },
  {
   "cell_type": "code",
   "execution_count": 35,
   "metadata": {},
   "outputs": [
    {
     "name": "stdout",
     "output_type": "stream",
     "text": [
      "\n"
     ]
    }
   ],
   "source": [
    "k = 0\n",
    "for i = 1:int32(rowNum * 0.1)\n",
    "    for j = 1:int32(rowNum * 0.1)\n",
    "        %if mod(k, 100000)==0\n",
    "        %disp(k)\n",
    "        %end\n",
    "        k = k + 1;\n",
    "        userDist_m(i,j) = dist(rating_matrix_tenth(i,:),rating_matrix_tenth(j,:));\n",
    "    end\n",
    "end"
   ]
  },
  {
   "cell_type": "code",
   "execution_count": 43,
   "metadata": {},
   "outputs": [
    {
     "name": "stdout",
     "output_type": "stream",
     "text": [
      "\n"
     ]
    }
   ],
   "source": [
    "i = full(rating_matrix_tenth(3425,:));\n",
    "j = full(rating_matrix_tenth(1244,:));"
   ]
  },
  {
   "cell_type": "code",
   "execution_count": 4,
   "metadata": {
    "scrolled": false
   },
   "outputs": [
    {
     "name": "stderr",
     "output_type": "stream",
     "text": [
      "\u001b[1;31m\n",
      "  File D:\\Git\\Content-based-decision-tree\\Step 2 - User Clustering\\dist.m, line 12, in dist\n",
      "输入参数的数目不足。\n",
      "\n",
      "\u001b[0m"
     ]
    }
   ],
   "source": [
    "dist(rating_matrix_tenth(3425,:),rating_matrix_tenth(1244,:))"
   ]
  },
  {
   "cell_type": "code",
   "execution_count": 44,
   "metadata": {},
   "outputs": [
    {
     "name": "stderr",
     "output_type": "stream",
     "text": [
      "\u001b[1;31m内存不足。请键入 HELP MEMORY 查看选项。\n",
      "\n",
      "\u001b[0m"
     ]
    }
   ],
   "source": [
    "%function [distance] = dist(i, m, mean_all)\n",
    "% size_i = size(find(i),2);\n",
    "% size_j = size(find(j),2);\n",
    "% if size_i == 0 || size_j == 0\n",
    "%     print('cold user!')\n",
    "%     ppc = 0;\n",
    "% else\n",
    "i_full = repmat(full(i),size(rating_matrix_tenth,1),1);\n",
    "lap = find(i_full .* rating_matrix_tenth);"
   ]
  },
  {
   "cell_type": "code",
   "execution_count": 42,
   "metadata": {},
   "outputs": [
    {
     "name": "stdout",
     "output_type": "stream",
     "text": [
      "\n",
      "ans =\n",
      "\n",
      "     1     1\n",
      "\n",
      "\n"
     ]
    }
   ],
   "source": [
    "size(i_full)"
   ]
  },
  {
   "cell_type": "code",
   "execution_count": 7,
   "metadata": {},
   "outputs": [
    {
     "name": "stdout",
     "output_type": "stream",
     "text": [
      "\n",
      "ans =\n",
      "\n",
      "     2604551           1\n",
      "\n",
      "\n"
     ]
    }
   ],
   "source": [
    "size(lap)"
   ]
  },
  {
   "cell_type": "code",
   "execution_count": null,
   "metadata": {
    "collapsed": true
   },
   "outputs": [],
   "source": [
    "\n",
    "if size(lap, 2) == 0\n",
    "    ppc = 0;\n",
    "else\n",
    "    lap_i = i(:,lap) - mean_i;\n",
    "    lap_j = j(:,lap) - mean_j;\n",
    "    if sum(lap_i(:))==0 || sum(lap_j(:))==0\n",
    "        ppc = 0;\n",
    "    else\n",
    "        ppc = sum(lap_i .* lap_j)/((sum(lap_i.^2) * sum(lap_j.^2)).^0.5);\n",
    "    end\n",
    "end\n",
    "% end\n",
    "distance = 1 - ppc;"
   ]
  }
 ],
 "metadata": {
  "kernelspec": {
   "display_name": "Matlab",
   "language": "matlab",
   "name": "matlab"
  },
  "language_info": {
   "codemirror_mode": "octave",
   "file_extension": ".m",
   "help_links": [
    {
     "text": "MetaKernel Magics",
     "url": "https://github.com/calysto/metakernel/blob/master/metakernel/magics/README.md"
    }
   ],
   "mimetype": "text/x-octave",
   "name": "matlab",
   "version": "0.15.0"
  }
 },
 "nbformat": 4,
 "nbformat_minor": 2
}
