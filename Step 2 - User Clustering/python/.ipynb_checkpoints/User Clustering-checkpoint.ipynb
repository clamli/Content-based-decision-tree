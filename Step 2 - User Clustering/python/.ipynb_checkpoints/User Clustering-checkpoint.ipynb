{
 "cells": [
  {
   "cell_type": "code",
   "execution_count": 1,
   "metadata": {
    "collapsed": true
   },
   "outputs": [],
   "source": [
    "import numpy as np\n",
    "import matplotlib.pyplot as plt\n",
    "from scipy.sparse import * "
   ]
  },
  {
   "cell_type": "code",
   "execution_count": 3,
   "metadata": {},
   "outputs": [],
   "source": [
    "rating_matrix_csr = load_npz('../../Step 1 - Movielens Data preprocessing/ml-latest/sparse_matrix_ml-latest.npz').tocsr()"
   ]
  },
  {
   "cell_type": "code",
   "execution_count": 4,
   "metadata": {
    "collapsed": true
   },
   "outputs": [],
   "source": [
    "rating_matrix_csr_tenth = rating_matrix_csr[1:int(0.1 * rating_matrix_csr.shape[0]),:]"
   ]
  },
  {
   "cell_type": "code",
   "execution_count": 5,
   "metadata": {
    "collapsed": true
   },
   "outputs": [],
   "source": [
    "def dist(i, j):\n",
    "    if i.getnnz() == 0 or j.getnnz() == 0:\n",
    "        print(\"cold user!\")\n",
    "        return -1\n",
    "    mean_i = i.sum()/i.getnnz()\n",
    "    mean_j = j.sum()/j.getnnz()\n",
    "    lap = i.toarray() * j.toarray()\n",
    "    if len(lap.nonzero()[0]) == 0:\n",
    "        print(\"here\")\n",
    "        return 0\n",
    "    else:\n",
    "        lap_i = i[lap.nonzero()] - np.ones((len(lap.nonzero()[0]))) * mean_i\n",
    "        lap_j = j[lap.nonzero()] - np.ones((len(lap.nonzero()[0]))) * mean_j\n",
    "        if lap_i.sum()==0 or lap_j.sum()==0:  \n",
    "            print(\"no here\")          \n",
    "            return 0\n",
    "        else:\n",
    "            ppc = np.multiply(lap_i, lap_j).sum()/((np.multiply(lap_i, lap_i).sum() * np.multiply(lap_j, lap_j).sum()) ** 0.5)\n",
    "            return 1 - ppc"
   ]
  },
  {
   "cell_type": "code",
   "execution_count": 43,
   "metadata": {
    "collapsed": true
   },
   "outputs": [],
   "source": [
    "import matlab.engine\n",
    "eng = matlab.engine.start_matlab()\n",
    "# eng.quit()"
   ]
  },
  {
   "cell_type": "markdown",
   "metadata": {},
   "source": [
    "## k-means"
   ]
  },
  {
   "cell_type": "code",
   "execution_count": 38,
   "metadata": {
    "collapsed": true
   },
   "outputs": [],
   "source": [
    "import random\n",
    "def k_means(data,k):\n",
    "    sample_num = data.shape[0]  \n",
    "    center_index = random.sample(range(sample_num),k)\n",
    "    cluster_cen = data[center_index,:]\n",
    "  \n",
    "    is_change=1  \n",
    "    cat=np.zeros(sample_num)    \n",
    "  \n",
    "    while is_change: \n",
    "        print(\"is_change\")\n",
    "        is_change=0    \n",
    "        for i in range(sample_num):  \n",
    "            if i % 50 == 0:\n",
    "                print(\"sample_num: \" + str(i))\n",
    "            min_distance=100000  \n",
    "            min_index=0  \n",
    "  \n",
    "            for j in range(k):  \n",
    "                if j % 50 == 0:\n",
    "                    print(\"find: \" + str(j))\n",
    "                distance = dist(data[i,:], cluster_cen[j,:])\n",
    "                if distance < min_distance:  \n",
    "                    min_distance = distance  \n",
    "                    min_index = j + 1  \n",
    "  \n",
    "            if cat[i] != min_index:  \n",
    "                is_change = 1  \n",
    "                cat[i] = min_index  \n",
    "        for j in range(k):  \n",
    "            cluster_cen[j] = np.mean(data[cat == (j + 1)],axis = 0)  \n",
    "  \n",
    "    return cat,cluster_cen  "
   ]
  },
  {
   "cell_type": "code",
   "execution_count": 40,
   "metadata": {},
   "outputs": [
    {
     "name": "stdout",
     "output_type": "stream",
     "text": [
      "is_change\n",
      "sample_num: 0\n",
      "find: 0\n",
      "find: 50\n",
      "find: 100\n",
      "find: 150\n",
      "find: 200\n",
      "find: 250\n",
      "find: 300\n",
      "find: 350\n",
      "find: 400\n",
      "find: 450\n",
      "find: 500\n",
      "find: 550\n",
      "find: 600\n",
      "find: 650\n",
      "find: 700\n",
      "find: 750\n",
      "find: 800\n",
      "find: 850\n",
      "find: 900\n",
      "find: 950\n",
      "find: 0\n",
      "find: 50\n",
      "find: 100\n",
      "find: 150\n",
      "find: 200\n",
      "find: 250\n",
      "find: 300\n",
      "find: 350\n",
      "find: 400\n",
      "find: 450\n",
      "find: 500\n",
      "find: 550\n",
      "find: 600\n",
      "find: 650\n",
      "find: 700\n",
      "find: 750\n",
      "find: 800\n",
      "find: 850\n",
      "find: 900\n",
      "find: 950\n",
      "find: 0\n",
      "find: 50\n",
      "find: 100\n",
      "find: 150\n",
      "find: 200\n",
      "find: 250\n",
      "find: 300\n",
      "find: 350\n",
      "find: 400\n",
      "find: 450\n",
      "find: 500\n",
      "find: 550\n",
      "find: 600\n",
      "find: 650\n",
      "find: 700\n",
      "find: 750\n",
      "find: 800\n",
      "find: 850\n",
      "find: 900\n",
      "find: 950\n",
      "find: 0\n",
      "find: 50\n",
      "find: 100\n",
      "find: 150\n",
      "find: 200\n",
      "find: 250\n",
      "find: 300\n",
      "find: 350\n",
      "find: 400\n",
      "find: 450\n",
      "find: 500\n",
      "find: 550\n",
      "find: 600\n",
      "find: 650\n",
      "find: 700\n",
      "find: 750\n",
      "find: 800\n",
      "find: 850\n",
      "find: 900\n",
      "find: 950\n",
      "find: 0\n",
      "find: 50\n",
      "find: 100\n",
      "find: 150\n",
      "find: 200\n",
      "find: 250\n",
      "find: 300\n",
      "find: 350\n",
      "find: 400\n",
      "find: 450\n",
      "find: 500\n",
      "find: 550\n",
      "find: 600\n",
      "find: 650\n",
      "find: 700\n",
      "find: 750\n",
      "find: 800\n",
      "find: 850\n",
      "find: 900\n",
      "find: 950\n",
      "find: 0\n",
      "find: 50\n",
      "find: 100\n",
      "find: 150\n",
      "find: 200\n",
      "find: 250\n",
      "find: 300\n",
      "find: 350\n",
      "find: 400\n",
      "find: 450\n",
      "find: 500\n",
      "find: 550\n",
      "find: 600\n",
      "find: 650\n",
      "find: 700\n",
      "find: 750\n",
      "find: 800\n",
      "find: 850\n",
      "find: 900\n",
      "find: 950\n",
      "find: 0\n",
      "find: 50\n",
      "find: 100\n",
      "find: 150\n",
      "find: 200\n"
     ]
    },
    {
     "ename": "KeyboardInterrupt",
     "evalue": "",
     "output_type": "error",
     "traceback": [
      "\u001b[1;31m---------------------------------------------------------------------------\u001b[0m",
      "\u001b[1;31mKeyboardInterrupt\u001b[0m                         Traceback (most recent call last)",
      "\u001b[1;32m<ipython-input-40-cdeb69c8df17>\u001b[0m in \u001b[0;36m<module>\u001b[1;34m()\u001b[0m\n\u001b[1;32m----> 1\u001b[1;33m \u001b[0mk_means\u001b[0m\u001b[1;33m(\u001b[0m\u001b[0mrating_matrix_csr_tenth\u001b[0m\u001b[1;33m,\u001b[0m \u001b[1;36m1000\u001b[0m\u001b[1;33m)\u001b[0m\u001b[1;33m\u001b[0m\u001b[0m\n\u001b[0m",
      "\u001b[1;32m<ipython-input-38-b7cf7a6d85ae>\u001b[0m in \u001b[0;36mk_means\u001b[1;34m(data, k)\u001b[0m\n\u001b[0;32m     20\u001b[0m                 \u001b[1;32mif\u001b[0m \u001b[0mj\u001b[0m \u001b[1;33m%\u001b[0m \u001b[1;36m50\u001b[0m \u001b[1;33m==\u001b[0m \u001b[1;36m0\u001b[0m\u001b[1;33m:\u001b[0m\u001b[1;33m\u001b[0m\u001b[0m\n\u001b[0;32m     21\u001b[0m                     \u001b[0mprint\u001b[0m\u001b[1;33m(\u001b[0m\u001b[1;34m\"find: \"\u001b[0m \u001b[1;33m+\u001b[0m \u001b[0mstr\u001b[0m\u001b[1;33m(\u001b[0m\u001b[0mj\u001b[0m\u001b[1;33m)\u001b[0m\u001b[1;33m)\u001b[0m\u001b[1;33m\u001b[0m\u001b[0m\n\u001b[1;32m---> 22\u001b[1;33m                 \u001b[0mdistance\u001b[0m \u001b[1;33m=\u001b[0m \u001b[0mdist\u001b[0m\u001b[1;33m(\u001b[0m\u001b[0mdata\u001b[0m\u001b[1;33m[\u001b[0m\u001b[0mi\u001b[0m\u001b[1;33m,\u001b[0m\u001b[1;33m:\u001b[0m\u001b[1;33m]\u001b[0m\u001b[1;33m,\u001b[0m \u001b[0mcluster_cen\u001b[0m\u001b[1;33m[\u001b[0m\u001b[0mj\u001b[0m\u001b[1;33m,\u001b[0m\u001b[1;33m:\u001b[0m\u001b[1;33m]\u001b[0m\u001b[1;33m)\u001b[0m\u001b[1;33m\u001b[0m\u001b[0m\n\u001b[0m\u001b[0;32m     23\u001b[0m                 \u001b[1;32mif\u001b[0m \u001b[0mdistance\u001b[0m \u001b[1;33m<\u001b[0m \u001b[0mmin_distance\u001b[0m\u001b[1;33m:\u001b[0m\u001b[1;33m\u001b[0m\u001b[0m\n\u001b[0;32m     24\u001b[0m                     \u001b[0mmin_distance\u001b[0m \u001b[1;33m=\u001b[0m \u001b[0mdistance\u001b[0m\u001b[1;33m\u001b[0m\u001b[0m\n",
      "\u001b[1;32m<ipython-input-33-fba958559905>\u001b[0m in \u001b[0;36mdist\u001b[1;34m(i, j)\u001b[0m\n\u001b[0;32m      6\u001b[0m     \u001b[0mmean_j\u001b[0m \u001b[1;33m=\u001b[0m \u001b[0mj\u001b[0m\u001b[1;33m.\u001b[0m\u001b[0msum\u001b[0m\u001b[1;33m(\u001b[0m\u001b[1;33m)\u001b[0m\u001b[1;33m/\u001b[0m\u001b[0mj\u001b[0m\u001b[1;33m.\u001b[0m\u001b[0mgetnnz\u001b[0m\u001b[1;33m(\u001b[0m\u001b[1;33m)\u001b[0m\u001b[1;33m\u001b[0m\u001b[0m\n\u001b[0;32m      7\u001b[0m     \u001b[0mlap\u001b[0m \u001b[1;33m=\u001b[0m \u001b[0mi\u001b[0m\u001b[1;33m.\u001b[0m\u001b[0mtoarray\u001b[0m\u001b[1;33m(\u001b[0m\u001b[1;33m)\u001b[0m \u001b[1;33m*\u001b[0m \u001b[0mj\u001b[0m\u001b[1;33m.\u001b[0m\u001b[0mtoarray\u001b[0m\u001b[1;33m(\u001b[0m\u001b[1;33m)\u001b[0m\u001b[1;33m\u001b[0m\u001b[0m\n\u001b[1;32m----> 8\u001b[1;33m     \u001b[1;32mif\u001b[0m \u001b[0mlen\u001b[0m\u001b[1;33m(\u001b[0m\u001b[0mlap\u001b[0m\u001b[1;33m.\u001b[0m\u001b[0mnonzero\u001b[0m\u001b[1;33m(\u001b[0m\u001b[1;33m)\u001b[0m\u001b[1;33m[\u001b[0m\u001b[1;36m0\u001b[0m\u001b[1;33m]\u001b[0m\u001b[1;33m)\u001b[0m \u001b[1;33m==\u001b[0m \u001b[1;36m0\u001b[0m\u001b[1;33m:\u001b[0m\u001b[1;33m\u001b[0m\u001b[0m\n\u001b[0m\u001b[0;32m      9\u001b[0m         \u001b[1;32mreturn\u001b[0m \u001b[1;36m0\u001b[0m\u001b[1;33m\u001b[0m\u001b[0m\n\u001b[0;32m     10\u001b[0m     \u001b[1;32melse\u001b[0m\u001b[1;33m:\u001b[0m\u001b[1;33m\u001b[0m\u001b[0m\n",
      "\u001b[1;31mKeyboardInterrupt\u001b[0m: "
     ]
    }
   ],
   "source": [
    "k_means(rating_matrix_csr_tenth, 1000)"
   ]
  },
  {
   "cell_type": "code",
   "execution_count": 6,
   "metadata": {},
   "outputs": [
    {
     "data": {
      "text/plain": [
       "1.2082264521179129"
      ]
     },
     "execution_count": 6,
     "metadata": {},
     "output_type": "execute_result"
    }
   ],
   "source": [
    "dist(rating_matrix_csr_tenth[3424,:], rating_matrix_csr_tenth[1243,:])"
   ]
  },
  {
   "cell_type": "code",
   "execution_count": null,
   "metadata": {
    "collapsed": true
   },
   "outputs": [],
   "source": []
  }
 ],
 "metadata": {
  "kernelspec": {
   "display_name": "Python 3",
   "language": "python",
   "name": "python3"
  },
  "language_info": {
   "codemirror_mode": {
    "name": "ipython",
    "version": 3
   },
   "file_extension": ".py",
   "mimetype": "text/x-python",
   "name": "python",
   "nbconvert_exporter": "python",
   "pygments_lexer": "ipython3",
   "version": "3.5.0"
  }
 },
 "nbformat": 4,
 "nbformat_minor": 2
}
