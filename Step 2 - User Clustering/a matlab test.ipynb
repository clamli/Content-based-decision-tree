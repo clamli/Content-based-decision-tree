{
 "cells": [
  {
   "cell_type": "code",
   "execution_count": 1,
   "metadata": {},
   "outputs": [
    {
     "name": "stdout",
     "output_type": "stream",
     "text": [
      "\n"
     ]
    }
   ],
   "source": [
    "rating_matrix = load('../data/sparse_matrix_ml-latest.mat');\n",
    "rating_matrix = rating_matrix.content(2:size(rating_matrix.content,1),:);\n",
    "mean_all = load('../data/mean_all.mat');\n",
    "mean_all = single(full(mean_all.mean_all));\n",
    "[userNum, itemNum] = size(rating_matrix);\n",
    "rating_matrix_tenth = rating_matrix(1:int32(userNum*0.1),find(sum(rating_matrix)));"
   ]
  },
  {
   "cell_type": "code",
   "execution_count": 2,
   "metadata": {},
   "outputs": [
    {
     "name": "stdout",
     "output_type": "stream",
     "text": [
      "\n"
     ]
    }
   ],
   "source": [
    "clear rating_matrix"
   ]
  },
  {
   "cell_type": "code",
   "execution_count": 3,
   "metadata": {},
   "outputs": [
    {
     "name": "stdout",
     "output_type": "stream",
     "text": [
      "\n",
      "ans =\n",
      "\n",
      "   (1,1)        9192476\n",
      "\n",
      "\n",
      "ans =\n",
      "\n",
      "       27090       45115\n",
      "\n",
      "\n"
     ]
    }
   ],
   "source": [
    "sum(rating_matrix_tenth(:))\n",
    "size(rating_matrix_tenth)"
   ]
  },
  {
   "cell_type": "code",
   "execution_count": 7,
   "metadata": {},
   "outputs": [
    {
     "name": "stdout",
     "output_type": "stream",
     "text": [
      "\n",
      "ans =\n",
      "\n",
      "    1.2082\n",
      "\n",
      "\n"
     ]
    }
   ],
   "source": [
    "i = full(rating_matrix_tenth(3425,:));\n",
    "j = full(rating_matrix_tenth(1244,:));\n",
    "dist0d(i,j)"
   ]
  },
  {
   "cell_type": "code",
   "execution_count": 8,
   "metadata": {
    "scrolled": false
   },
   "outputs": [
    {
     "name": "stdout",
     "output_type": "stream",
     "text": [
      "\n",
      "ans =\n",
      "\n",
      "    0.6319\n",
      "\n",
      "\n"
     ]
    }
   ],
   "source": [
    "i = full(rating_matrix_tenth(1598,:));\n",
    "j = full(rating_matrix_tenth(8563,:));\n",
    "dist0d(i,j)"
   ]
  },
  {
   "cell_type": "code",
   "execution_count": 6,
   "metadata": {},
   "outputs": [
    {
     "name": "stdout",
     "output_type": "stream",
     "text": [
      "\n",
      "ans =\n",
      "\n",
      "     0\n",
      "\n",
      "\n"
     ]
    }
   ],
   "source": [
    "i = full(rating_matrix_tenth(1,:));\n",
    "j = full(rating_matrix_tenth(1,:));\n",
    "dist0d(i,j)"
   ]
  },
  {
   "cell_type": "code",
   "execution_count": null,
   "metadata": {
    "collapsed": true
   },
   "outputs": [],
   "source": []
  },
  {
   "cell_type": "code",
   "execution_count": null,
   "metadata": {
    "collapsed": true
   },
   "outputs": [],
   "source": []
  }
 ],
 "metadata": {
  "kernelspec": {
   "display_name": "Matlab",
   "language": "matlab",
   "name": "matlab"
  },
  "language_info": {
   "codemirror_mode": "octave",
   "file_extension": ".m",
   "help_links": [
    {
     "text": "MetaKernel Magics",
     "url": "https://github.com/calysto/metakernel/blob/master/metakernel/magics/README.md"
    }
   ],
   "mimetype": "text/x-octave",
   "name": "matlab",
   "version": "0.15.0"
  }
 },
 "nbformat": 4,
 "nbformat_minor": 2
}
