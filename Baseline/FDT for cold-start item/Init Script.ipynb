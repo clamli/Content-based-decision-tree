{
 "cells": [
  {
   "cell_type": "code",
   "execution_count": 1,
   "metadata": {
    "collapsed": true
   },
   "outputs": [],
   "source": [
    "import numpy as np\n",
    "import pickle\n",
    "from scipy.sparse import *\n",
    "import shelve\n",
    "import h5py"
   ]
  },
  {
   "cell_type": "markdown",
   "metadata": {},
   "source": [
    "## FDTree Class"
   ]
  },
  {
   "cell_type": "code",
   "execution_count": 2,
   "metadata": {
    "collapsed": true
   },
   "outputs": [],
   "source": [
    "class DecisionTreeModel:\n",
    "    def __init__(self, source, depth_threshold=10, plambda=7, MSP_item=200):\n",
    "\n",
    "        self.plambda = plambda\n",
    "        self.rI = list(set(source.nonzero()[0]))\n",
    "        self.sMatrix = source\n",
    "        self.tree = list(range(self.sMatrix.shape[1]))\n",
    "        self.real_item_num = self.sMatrix.shape[0]\n",
    "        self.global_mean = self.sMatrix.sum()/self.sMatrix.getnnz()\n",
    "        x = find(source)\n",
    "        itemset = x[0]\n",
    "        userset = x[1]\n",
    "        self.rU = {}\n",
    "        \n",
    "        print(\"rU Generation start:\")\n",
    "        num_ratings = len(userset)\n",
    "        i = 0\n",
    "        for itemid, userid in zip(itemset, userset):\n",
    "            # put approximate 5000 user in each file. Divide user num with 5000.\n",
    "            n_i = int(userid/5000)\n",
    "            if i%100000 == 0:\n",
    "                print(\"%.2f%%\" %(100 * i/num_ratings))\n",
    "            i += 1\n",
    "            if n_i in self.rU:\n",
    "                self.rU[n_i].setdefault(userid, {})[itemid] = int(source[itemid, userid])\n",
    "            else:\n",
    "                self.rU.setdefault(n_i, {userid: {itemid: int(source[itemid, userid])}})                 \n",
    "        print(\"rU Generation DONE\")\n",
    "        \n",
    "        print(\"bias, sum_cur_t, sum_2_cur_t Generation start:\")\n",
    "        self.biasU = np.zeros(self.sMatrix.shape[1])\n",
    "        self.sum_cur_t = np.zeros(self.real_item_num)\n",
    "        self.sum_2_cur_t = np.zeros(self.real_item_num)\n",
    "        self.sum_cntt = np.zeros(self.real_item_num)\n",
    "        i = 0\n",
    "        for userid in self.tree:\n",
    "            if i % 50000 == 0:\n",
    "                print(\"%.2f%%\" % (100 * i / (0.75 * 480189)))\n",
    "            i += 1\n",
    "\n",
    "            self.biasU[userid] = (self.sMatrix.getcol(userid).sum() \\\n",
    "                                     + self.plambda * self.global_mean) /   \\\n",
    "                                 (self.plambda + self.sMatrix.getcol(userid).getnnz())\n",
    "            user_all_rating_id = self.sMatrix.getcol(userid).nonzero()[0]\n",
    "            user_all_rating = find(self.sMatrix.getcol(userid))[2]\n",
    "            self.sum_cur_t[user_all_rating_id[:]] += user_all_rating[:] - self.biasU[userid]\n",
    "            self.sum_2_cur_t[user_all_rating_id[:]] += (user_all_rating[:] - self.biasU[userid]) ** 2\n",
    "            self.sum_cntt[user_all_rating_id[:]] += 1\n",
    "            \n",
    "        print(\"bias, sum_cur_t, sum_2_cur_t Generation DONE\")\n",
    "        \n",
    "        print(\"Initiation DONE!\")"
   ]
  },
  {
   "cell_type": "markdown",
   "metadata": {},
   "source": [
    "## Step 1: Input Dataset"
   ]
  },
  {
   "cell_type": "code",
   "execution_count": 3,
   "metadata": {
    "collapsed": true
   },
   "outputs": [],
   "source": [
    "dataset = '20m'"
   ]
  },
  {
   "cell_type": "code",
   "execution_count": 4,
   "metadata": {
    "collapsed": true
   },
   "outputs": [],
   "source": [
    "feature=h5py.File('movielens/' + dataset + '/test_list.mat')  \n",
    "test_list = feature['test_list'][:]\n",
    "test_list = list(map(int, test_list.T[0]))\n",
    "test_list = [i-1 for i in test_list] \n",
    "feature=h5py.File('movielens/' + dataset + '/train_list.mat')  \n",
    "train_list = feature['train_list'][:]\n",
    "train_list = list(map(int, train_list.T[0]))\n",
    "train_list = [i-1 for i in train_list] "
   ]
  },
  {
   "cell_type": "code",
   "execution_count": 5,
   "metadata": {},
   "outputs": [
    {
     "name": "stdout",
     "output_type": "stream",
     "text": [
      "file load DONE\n"
     ]
    }
   ],
   "source": [
    "rating_matrix_csc = load_npz('movielens/sparse_matrix_ml-' + dataset + '_selected.npz').tocsc()\n",
    "rating_matrix_csc_train = rating_matrix_csc[:, train_list]\n",
    "rating_matrix_csc_test  = rating_matrix_csc[:, test_list]\n",
    "print(\"file load DONE\")"
   ]
  },
  {
   "cell_type": "code",
   "execution_count": 12,
   "metadata": {},
   "outputs": [
    {
     "data": {
      "text/plain": [
       "<138493x17889 sparse matrix of type '<class 'numpy.float64'>'\n",
       "\twith 13915986 stored elements in Compressed Sparse Column format>"
      ]
     },
     "execution_count": 12,
     "metadata": {},
     "output_type": "execute_result"
    }
   ],
   "source": [
    "rating_matrix_csc_train"
   ]
  },
  {
   "cell_type": "code",
   "execution_count": 6,
   "metadata": {},
   "outputs": [
    {
     "name": "stdout",
     "output_type": "stream",
     "text": [
      "rU Generation start:\n",
      "0.00%\n",
      "0.72%\n",
      "1.44%\n",
      "2.16%\n",
      "2.87%\n",
      "3.59%\n",
      "4.31%\n",
      "5.03%\n",
      "5.75%\n",
      "6.47%\n",
      "7.19%\n",
      "7.90%\n",
      "8.62%\n",
      "9.34%\n",
      "10.06%\n",
      "10.78%\n",
      "11.50%\n",
      "12.22%\n",
      "12.93%\n",
      "13.65%\n",
      "14.37%\n",
      "15.09%\n",
      "15.81%\n",
      "16.53%\n",
      "17.25%\n",
      "17.96%\n",
      "18.68%\n",
      "19.40%\n",
      "20.12%\n",
      "20.84%\n",
      "21.56%\n",
      "22.28%\n",
      "23.00%\n",
      "23.71%\n",
      "24.43%\n",
      "25.15%\n",
      "25.87%\n",
      "26.59%\n",
      "27.31%\n",
      "28.03%\n",
      "28.74%\n",
      "29.46%\n",
      "30.18%\n",
      "30.90%\n",
      "31.62%\n",
      "32.34%\n",
      "33.06%\n",
      "33.77%\n",
      "34.49%\n",
      "35.21%\n",
      "35.93%\n",
      "36.65%\n",
      "37.37%\n",
      "38.09%\n",
      "38.80%\n",
      "39.52%\n",
      "40.24%\n",
      "40.96%\n",
      "41.68%\n",
      "42.40%\n",
      "43.12%\n",
      "43.83%\n",
      "44.55%\n",
      "45.27%\n",
      "45.99%\n",
      "46.71%\n",
      "47.43%\n",
      "48.15%\n",
      "48.86%\n",
      "49.58%\n",
      "50.30%\n",
      "51.02%\n",
      "51.74%\n",
      "52.46%\n",
      "53.18%\n",
      "53.89%\n",
      "54.61%\n",
      "55.33%\n",
      "56.05%\n",
      "56.77%\n",
      "57.49%\n",
      "58.21%\n",
      "58.93%\n",
      "59.64%\n",
      "60.36%\n",
      "61.08%\n",
      "61.80%\n",
      "62.52%\n",
      "63.24%\n",
      "63.96%\n",
      "64.67%\n",
      "65.39%\n",
      "66.11%\n",
      "66.83%\n",
      "67.55%\n",
      "68.27%\n",
      "68.99%\n",
      "69.70%\n",
      "70.42%\n",
      "71.14%\n",
      "71.86%\n",
      "72.58%\n",
      "73.30%\n",
      "74.02%\n",
      "74.73%\n",
      "75.45%\n",
      "76.17%\n",
      "76.89%\n",
      "77.61%\n",
      "78.33%\n",
      "79.05%\n",
      "79.76%\n",
      "80.48%\n",
      "81.20%\n",
      "81.92%\n",
      "82.64%\n",
      "83.36%\n",
      "84.08%\n",
      "84.79%\n",
      "85.51%\n",
      "86.23%\n",
      "86.95%\n",
      "87.67%\n",
      "88.39%\n",
      "89.11%\n",
      "89.82%\n",
      "90.54%\n",
      "91.26%\n",
      "91.98%\n",
      "92.70%\n",
      "93.42%\n",
      "94.14%\n",
      "94.85%\n",
      "95.57%\n",
      "96.29%\n",
      "97.01%\n",
      "97.73%\n",
      "98.45%\n",
      "99.17%\n",
      "99.89%\n",
      "rU Generation DONE\n",
      "bias, sum_cur_t, sum_2_cur_t Generation start:\n",
      "0.00%\n",
      "bias, sum_cur_t, sum_2_cur_t Generation DONE\n",
      "Initiation DONE!\n"
     ]
    }
   ],
   "source": [
    "dt_model = DecisionTreeModel(rating_matrix_csc_train)"
   ]
  },
  {
   "cell_type": "code",
   "execution_count": 9,
   "metadata": {},
   "outputs": [
    {
     "name": "stdout",
     "output_type": "stream",
     "text": [
      "DONE!\n"
     ]
    }
   ],
   "source": [
    "for dictname in dt_model.rU:\n",
    "    d = shelve.open('rU_data/' + str(dictname), protocol = pickle.HIGHEST_PROTOCOL)\n",
    "    d['content'] = dt_model.rU[dictname]\n",
    "    d.close()\n",
    "print(\"DONE!\")"
   ]
  },
  {
   "cell_type": "code",
   "execution_count": 10,
   "metadata": {},
   "outputs": [
    {
     "name": "stdout",
     "output_type": "stream",
     "text": [
      "0\n",
      "1\n",
      "2\n",
      "3\n"
     ]
    }
   ],
   "source": [
    "dictt = {}\n",
    "for dictname in dt_model.rU:\n",
    "    print(dictname)\n",
    "    d = shelve.open('./rU_data/'+str(dictname), protocol = pickle.HIGHEST_PROTOCOL)\n",
    "    dictt.update(d['content'])\n",
    "    d.close()"
   ]
  },
  {
   "cell_type": "code",
   "execution_count": 11,
   "metadata": {},
   "outputs": [
    {
     "name": "stdout",
     "output_type": "stream",
     "text": [
      "17889\n"
     ]
    }
   ],
   "source": [
    "print(len(dictt.keys()))"
   ]
  },
  {
   "cell_type": "code",
   "execution_count": 13,
   "metadata": {
    "collapsed": true
   },
   "outputs": [],
   "source": [
    "import klepto\n",
    "Tree = klepto.archives.dir_archive('treeFile', cached=True, serialized=True)\n",
    "\n",
    "Tree['biasU'] = dt_model.biasU\n",
    "Tree['sum_cur_t'] = dt_model.sum_cur_t\n",
    "Tree['sum_2_cur_t'] = dt_model.sum_2_cur_t\n",
    "Tree['sum_cntt'] = dt_model.sum_cntt\n",
    "Tree['rI'] = dt_model.rI\n",
    "\n",
    "Tree.dump()\n",
    "Tree.clear()\n",
    "\n",
    "# save_npz('netflix/biasUM', dt_model.biasUM.tocsr())"
   ]
  },
  {
   "cell_type": "code",
   "execution_count": null,
   "metadata": {
    "collapsed": true
   },
   "outputs": [],
   "source": []
  },
  {
   "cell_type": "code",
   "execution_count": null,
   "metadata": {
    "collapsed": true
   },
   "outputs": [],
   "source": []
  }
 ],
 "metadata": {
  "kernelspec": {
   "display_name": "Python 3",
   "language": "python",
   "name": "python3"
  },
  "language_info": {
   "codemirror_mode": {
    "name": "ipython",
    "version": 3
   },
   "file_extension": ".py",
   "mimetype": "text/x-python",
   "name": "python",
   "nbconvert_exporter": "python",
   "pygments_lexer": "ipython3",
   "version": "3.5.4"
  }
 },
 "nbformat": 4,
 "nbformat_minor": 2
}
