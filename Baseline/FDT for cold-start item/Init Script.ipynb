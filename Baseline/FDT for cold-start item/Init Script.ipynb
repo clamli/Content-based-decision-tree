{
 "cells": [
  {
   "cell_type": "markdown",
   "metadata": {},
   "source": [
    "## FDTree Class"
   ]
  },
  {
   "cell_type": "code",
   "execution_count": 67,
   "metadata": {},
   "outputs": [],
   "source": [
    "import numpy as np\n",
    "import pickle\n",
    "from scipy.sparse import *\n",
    "import shelve\n",
    "import pickle\n",
    "\n",
    "class DecisionTreeModel:\n",
    "    def __init__(self, source, depth_threshold=10, plambda=7, MSP_item=200):\n",
    "\n",
    "        self.plambda = plambda\n",
    "        self.rI = list(set(source.nonzero()[0]))\n",
    "        self.sMatrix = source\n",
    "        self.tree = list(range(1, self.sMatrix.shape[1]))\n",
    "        self.real_item_num = self.sMatrix.shape[0]\n",
    "        self.global_mean = self.sMatrix.sum()/self.sMatrix.getnnz()\n",
    "        x = find(source)\n",
    "        itemset = x[0]\n",
    "        userset = x[1]\n",
    "        self.rU = {}\n",
    "        \n",
    "        print(\"rU Generation start:\")\n",
    "        num_ratings = len(userset)\n",
    "        i = 0\n",
    "        for itemid, userid in zip(itemset, userset):\n",
    "            # put approximate 5000 user in each file. Divide user num with 5000.\n",
    "            n_i = int(userid/5000)\n",
    "            if i%100000 == 0:\n",
    "                print(\"%.2f%%\" %(100 * i/num_ratings))\n",
    "            i += 1\n",
    "            if n_i in self.rU:\n",
    "                self.rU[n_i].setdefault(userid, {})[itemid] = int(source[itemid, userid])\n",
    "            else:\n",
    "                self.rU.setdefault(n_i, {userid: {itemid: int(source[itemid, userid])}})                 \n",
    "        print(\"rU Generation DONE\")\n",
    "        \n",
    "        print(\"bias, sum_cur_t, sum_2_cur_t Generation start:\")\n",
    "        self.biasU = np.zeros(self.sMatrix.shape[1])\n",
    "        self.sum_cur_t = np.zeros(self.real_item_num)\n",
    "        self.sum_2_cur_t = np.zeros(self.real_item_num)\n",
    "        self.sum_cntt = np.zeros(self.real_item_num)\n",
    "        i = 0\n",
    "        for userid in self.tree:\n",
    "            if i % 50000 == 0:\n",
    "                print(\"%.2f%%\" % (100 * i / (0.75 * 480189)))\n",
    "            i += 1\n",
    "\n",
    "            self.biasU[userid] = (self.sMatrix.getcol(userid).sum() \\\n",
    "                                     + self.plambda * self.global_mean) /   \\\n",
    "                                 (self.plambda + self.sMatrix.getcol(userid).getnnz())\n",
    "            user_all_rating_id = self.sMatrix.getcol(userid).nonzero()[0]\n",
    "            user_all_rating = find(self.sMatrix.getcol(userid))[2]\n",
    "            self.sum_cur_t[user_all_rating_id[:]] += user_all_rating[:] - self.biasU[userid]\n",
    "            self.sum_2_cur_t[user_all_rating_id[:]] += (user_all_rating[:] - self.biasU[userid]) ** 2\n",
    "            self.sum_cntt[user_all_rating_id[:]] += 1\n",
    "            \n",
    "        print(\"bias, sum_cur_t, sum_2_cur_t Generation DONE\")\n",
    "        \n",
    "        print(\"Initiation DONE!\")"
   ]
  },
  {
   "cell_type": "markdown",
   "metadata": {},
   "source": [
    "## Step 1: Input Dataset"
   ]
  },
  {
   "cell_type": "code",
   "execution_count": 68,
   "metadata": {},
   "outputs": [],
   "source": [
    "from scipy.sparse import load_npz"
   ]
  },
  {
   "cell_type": "code",
   "execution_count": 69,
   "metadata": {},
   "outputs": [],
   "source": [
    "dataset = '1m'"
   ]
  },
  {
   "cell_type": "code",
   "execution_count": 79,
   "metadata": {},
   "outputs": [
    {
     "name": "stdout",
     "output_type": "stream",
     "text": [
      "file load DONE\n"
     ]
    }
   ],
   "source": [
    "rating_matrix_csc = load_npz('movielens/sparse_matrix_ml-' + dataset + '_selected.npz').tocsc() \n",
    "rating_matrix_csc_train = rating_matrix_csc[:, 0:int(rating_matrix_csc.shape[1] * 0.7)]\n",
    "rating_matrix_csc_test  = rating_matrix_csc[:, int(rating_matrix_csc.shape[1] * 0.7) + 1:]\n",
    "print(\"file load DONE\")"
   ]
  },
  {
   "cell_type": "code",
   "execution_count": 80,
   "metadata": {},
   "outputs": [
    {
     "name": "stdout",
     "output_type": "stream",
     "text": [
      "rU Generation start:\n",
      "0.00%\n",
      "13.21%\n",
      "26.42%\n",
      "39.63%\n",
      "52.84%\n",
      "66.05%\n",
      "79.26%\n",
      "92.47%\n",
      "rU Generation DONE\n",
      "bias, sum_cur_t, sum_2_cur_t Generation start:\n",
      "0.00%\n",
      "bias, sum_cur_t, sum_2_cur_t Generation DONE\n",
      "Initiation DONE!\n"
     ]
    }
   ],
   "source": [
    "dt_model = DecisionTreeModel(rating_matrix_csc_train)"
   ]
  },
  {
   "cell_type": "code",
   "execution_count": 78,
   "metadata": {},
   "outputs": [
    {
     "data": {
      "text/plain": [
       "<6040x2590 sparse matrix of type '<class 'numpy.float64'>'\n",
       "\twith 757019 stored elements in Compressed Sparse Column format>"
      ]
     },
     "execution_count": 78,
     "metadata": {},
     "output_type": "execute_result"
    }
   ],
   "source": [
    "rating_matrix_csc_train"
   ]
  },
  {
   "cell_type": "code",
   "execution_count": 81,
   "metadata": {},
   "outputs": [
    {
     "name": "stdout",
     "output_type": "stream",
     "text": [
      "DONE!\n"
     ]
    }
   ],
   "source": [
    "for dictname in dt_model.rU:\n",
    "    d = shelve.open('rU_data/' + str(dictname), protocol = pickle.HIGHEST_PROTOCOL)\n",
    "    d['content'] = dt_model.rU[dictname]\n",
    "    d.close()\n",
    "print(\"DONE!\")"
   ]
  },
  {
   "cell_type": "code",
   "execution_count": 82,
   "metadata": {},
   "outputs": [
    {
     "name": "stdout",
     "output_type": "stream",
     "text": [
      "0\n"
     ]
    }
   ],
   "source": [
    "dictt = {}\n",
    "for dictname in dt_model.rU:\n",
    "    print(dictname)\n",
    "    d = shelve.open('./rU_data/'+str(dictname), protocol = pickle.HIGHEST_PROTOCOL)\n",
    "    dictt.update(d['content'])\n",
    "    d.close()"
   ]
  },
  {
   "cell_type": "code",
   "execution_count": 83,
   "metadata": {},
   "outputs": [
    {
     "name": "stdout",
     "output_type": "stream",
     "text": [
      "2590\n"
     ]
    }
   ],
   "source": [
    "print(len(dictt.keys()))"
   ]
  },
  {
   "cell_type": "code",
   "execution_count": 85,
   "metadata": {},
   "outputs": [],
   "source": [
    "import klepto\n",
    "Tree = klepto.archives.dir_archive('treeFile', cached=True, serialized=True)\n",
    "\n",
    "Tree['biasU'] = dt_model.biasU\n",
    "Tree['sum_cur_t'] = dt_model.sum_cur_t\n",
    "Tree['sum_2_cur_t'] = dt_model.sum_2_cur_t\n",
    "Tree['sum_cntt'] = dt_model.sum_cntt\n",
    "Tree['rI'] = dt_model.rI\n",
    "\n",
    "Tree.dump()\n",
    "Tree.clear()\n",
    "\n",
    "# save_npz('netflix/biasUM', dt_model.biasUM.tocsr())"
   ]
  },
  {
   "cell_type": "code",
   "execution_count": null,
   "metadata": {},
   "outputs": [],
   "source": []
  }
 ],
 "metadata": {
  "kernelspec": {
   "display_name": "Python 3",
   "language": "python",
   "name": "python3"
  },
  "language_info": {
   "codemirror_mode": {
    "name": "ipython",
    "version": 3
   },
   "file_extension": ".py",
   "mimetype": "text/x-python",
   "name": "python",
   "nbconvert_exporter": "python",
   "pygments_lexer": "ipython3",
   "version": "3.6.2"
  }
 },
 "nbformat": 4,
 "nbformat_minor": 2
}
