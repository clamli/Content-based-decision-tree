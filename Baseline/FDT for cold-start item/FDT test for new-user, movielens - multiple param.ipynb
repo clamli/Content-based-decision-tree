{
 "cells": [
  {
   "cell_type": "markdown",
   "metadata": {},
   "source": [
    "## FDTree Class"
   ]
  },
  {
   "cell_type": "code",
   "execution_count": 1,
   "metadata": {
    "scrolled": true
   },
   "outputs": [],
   "source": [
    "import time\n",
    "import klepto\n",
    "import shelve\n",
    "import pickle\n",
    "import h5py\n",
    "import numpy as np\n",
    "from scipy.sparse import *\n",
    "import matplotlib.pyplot as plt"
   ]
  },
  {
   "cell_type": "code",
   "execution_count": 2,
   "metadata": {},
   "outputs": [],
   "source": [
    "dataset = '1m'"
   ]
  },
  {
   "cell_type": "code",
   "execution_count": 3,
   "metadata": {},
   "outputs": [],
   "source": [
    "feature=h5py.File('movielens/test_list.mat')  \n",
    "test_list = feature['test_list'][:]\n",
    "test_list = list(map(int, test_list.T[0]))\n",
    "test_list = [i-1 for i in test_list] \n",
    "feature=h5py.File('movielens/train_list.mat')  \n",
    "train_list = feature['train_list'][:]\n",
    "train_list = list(map(int, train_list.T[0]))\n",
    "train_list = [i-1 for i in train_list] "
   ]
  },
  {
   "cell_type": "code",
   "execution_count": 4,
   "metadata": {},
   "outputs": [
    {
     "name": "stdout",
     "output_type": "stream",
     "text": [
      "file load DONE\n"
     ]
    }
   ],
   "source": [
    "rating_matrix_csc = load_npz('sparse_matrix_ml-' + dataset + '_selected.npz').tocsc()\n",
    "rating_matrix_csc_train = rating_matrix_csc[:, train_list]\n",
    "rating_matrix_csc_test  = rating_matrix_csc[:, test_list]\n",
    "print(\"file load DONE\")\n",
    "depth_threshold = 4"
   ]
  },
  {
   "cell_type": "markdown",
   "metadata": {},
   "source": [
    "## Step 1: Input Dataset"
   ]
  },
  {
   "cell_type": "code",
   "execution_count": 10,
   "metadata": {},
   "outputs": [],
   "source": [
    "class DecisionTreeModel:\n",
    "    def __init__(self, source, depth_threshold=10, plambda=7, MSP_item=200):\n",
    "        \n",
    "        self.sMatrix = source\n",
    "        self.depth_threshold = depth_threshold\n",
    "        self.plambda = plambda\n",
    "        self.MSP_item = MSP_item\n",
    "\n",
    "        #### Calculate rate of progress ####\n",
    "        self.cur_depth = 0\n",
    "        self.node_num = 0\n",
    "        self.cur_node = 0\n",
    "        for i in range(self.depth_threshold):\n",
    "            self.node_num += 3 ** i\n",
    "        \n",
    "        #### Initiate Tree, lr_bound ####\n",
    "        self.tree = list(range(self.sMatrix.shape[1]))\n",
    "        self.split_item = []\n",
    "        self.lr_bound = {'0': [[0, len(self.tree) - 1]]}\n",
    "\n",
    "        #### Generate bias, sum_cur_t, sum_2_cur_t ####\n",
    "        #### Generate rU ####        \n",
    "        self.rU = {}        \n",
    "        for dictname in range(int(self.sMatrix.shape[1]/5000) + 1):\n",
    "            d = shelve.open('rU_data/'+str(dictname), protocol = pickle.HIGHEST_PROTOCOL)\n",
    "            self.rU.update(d['content'])\n",
    "            d.close()\n",
    "        print(\"rU DONE\")\n",
    "        \n",
    "        Tree = klepto.archives.dir_archive('treeFile', {}, serialized=True)\n",
    "        Tree.load()\n",
    "        self.biasU       = Tree[\"biasU\"]\n",
    "        self.sum_cur_t   = Tree[\"sum_cur_t\"]\n",
    "        self.sum_2_cur_t = Tree[\"sum_2_cur_t\"]\n",
    "        self.sum_cntt    = Tree[\"sum_cntt\"]\n",
    "        self.item_size = self.sMatrix.shape[0]\n",
    "        self.user_size = len(self.tree)        \n",
    "        self.MPS = []\n",
    "        print(\"Initiation DONE!\")\n",
    "\n",
    "    def calculate_error(self, sumt, sumt_2, cntt):\n",
    "        ''' Calculate error for one item-split in one node '''\n",
    "        Error_i = np.sum(sumt_2 - (sumt ** 2) / (cntt + 1e-9))\n",
    "\n",
    "        return Error_i\n",
    "\n",
    "    def generate_decision_tree(self, lr_bound_for_node, chosen_id):\n",
    "        #### Terminate ####\n",
    "        self.cur_depth += 1\n",
    "        if self.cur_depth > self.depth_threshold or len(chosen_id) == self.item_size:\n",
    "            return        \n",
    "        #### Choose Most Popular Items of This Node ####        \n",
    "        MPS_item_id = list(range(200))\n",
    "#         MPS_status = {}\n",
    "#         num_rec = np.zeros(self.item_size)\n",
    "#         for userid in self.tree[lr_bound_for_node[0]:(lr_bound_for_node[1] + 1)]:\n",
    "#             user_all_rating_id = np.array(list(self.rU[userid].keys()))\n",
    "#             num_rec[user_all_rating_id] += 1\n",
    "#         MPS_item_id = list(np.argsort(-num_rec)[:])\n",
    "#         for item_id in chosen_id:\n",
    "#             MPS_item_id.remove(item_id)\n",
    "#         MPS_item_id = MPS_item_id[:self.MSP_item]\n",
    "#         for MPS_item in MPS_item_id:\n",
    "#             MPS_status[MPS_item] = int(num_rec[MPS_item])\n",
    "#         print(MPS_status)\n",
    "        #### Find optimum item to split ####\n",
    "        min_sumtL, min_sumtD, min_sumtL_2, min_sumtD_2, min_sumtU, min_sumtU_2, Error = {}, {}, {}, {}, {}, {}, {}\n",
    "        min_Error = \"None\"\n",
    "        for itemid in MPS_item_id:\n",
    "            if itemid in chosen_id:\n",
    "                continue\n",
    "            '''\n",
    "                user_rating_item_in_nodet: np.array([ [uid01, rating01], [uid02, rating02], ... ])\n",
    "                to find all users in node t who rates item i\n",
    "            '''\n",
    "            \n",
    "            user_rating_item_in_nodet = np.array([[userid, self.rU[userid][itemid]] for userid in\n",
    "                                         self.tree[lr_bound_for_node[0]:(lr_bound_for_node[1] + 1)] if\n",
    "                                         itemid in self.rU[userid]])         \n",
    "            sumt = np.zeros((self.item_size, 3))\n",
    "            sumt_2 = np.zeros((self.item_size, 3))\n",
    "            cntt = np.zeros((self.item_size, 3))\n",
    "            for user in user_rating_item_in_nodet:\n",
    "                ''' user_all_rating: array [ [itemid11, rating11], [itemid12, rating12], ... ] '''\n",
    "                user_all_rating_id = np.array(list(self.rU[user[0]].keys()))\n",
    "                user_all_rating = np.array(list(self.rU[user[0]].values()))\n",
    "                #### calculate sumtL for node LIKE ####\n",
    "                if user[1] > 3:\n",
    "#                     split.setdefault(itemid, []).append(user[0])\n",
    "                    sumt[user_all_rating_id[:], 0] += user_all_rating[:] - self.biasU[user[0]]\n",
    "                    sumt_2[user_all_rating_id[:], 0] += (user_all_rating[:] - self.biasU[user[0]]) ** 2\n",
    "                    cntt[user_all_rating_id[:], 0] += 1\n",
    "                #### calculate sumtD for node DISLIKE ####\n",
    "                elif user[1] <= 3:\n",
    "                    sumt[user_all_rating_id[:], 1] += user_all_rating[:] - self.biasU[user[0]]\n",
    "                    sumt_2[user_all_rating_id[:], 1] += (user_all_rating[:] - self.biasU[user[0]]) ** 2\n",
    "                    cntt[user_all_rating_id[:], 1] += 1\n",
    "\n",
    "            #### calculate sumtU for node UNKNOWN ####\n",
    "            sumt[:, 2] = self.sum_cur_t[:] - sumt[:, 0] - sumt[:, 1]\n",
    "            sumt_2[:, 2] = self.sum_2_cur_t[:] - sumt_2[:, 0] - sumt_2[:, 1]\n",
    "            cntt[:, 2] = self.sum_cntt[:] - cntt[:, 0] - cntt[:, 1]\n",
    "            Error[itemid] = self.calculate_error(sumt, sumt_2, cntt)\n",
    "            if min_Error == \"None\" or Error[itemid] < min_Error:\n",
    "                min_sumt = sumt\n",
    "                min_sumt_2 = sumt_2\n",
    "                min_cntt = cntt\n",
    "                min_Error = Error[itemid]\n",
    "        #### Find optimum split-item ####\n",
    "        optimum_itemid = min(Error, key=Error.get)\n",
    "        if len(self.split_item) == self.cur_depth - 1:\n",
    "            self.split_item.append([optimum_itemid])\n",
    "        else:\n",
    "            self.split_item[self.cur_depth - 1].append(optimum_itemid)\n",
    "        chosen_id.append(optimum_itemid)\n",
    "#         print(Error)\n",
    "        print(\"split item found!\")\n",
    "#         print(optimum_itemid)\n",
    "        #### sort tree ####\n",
    "        self.lr_bound.setdefault(str(self.cur_depth), []).append([])  # for LIKE\n",
    "        self.lr_bound[str(self.cur_depth)].append([])  # for DISLIKE\n",
    "        self.lr_bound[str(self.cur_depth)].append([])  # for UNKNOWN\n",
    "        listU, listL, listD = [], [], []\n",
    "        for userid in self.tree[lr_bound_for_node[0]:(lr_bound_for_node[1] + 1)]:\n",
    "            if optimum_itemid not in self.rU[userid]:\n",
    "                listU.append(userid)\n",
    "            elif self.rU[userid][optimum_itemid] >= 4:\n",
    "                listL.append(userid)\n",
    "            elif self.rU[userid][optimum_itemid] <= 3:\n",
    "                listD.append(userid)\n",
    "        self.tree[lr_bound_for_node[0]:(lr_bound_for_node[1] + 1)] = listL + listD + listU\n",
    "        self.lr_bound[str(self.cur_depth)][-3] = [lr_bound_for_node[0],\n",
    "                                                  lr_bound_for_node[0] + len(listL) - 1]  # for LIKE\n",
    "        self.lr_bound[str(self.cur_depth)][-2] = [lr_bound_for_node[0] + len(listL),\n",
    "                                                  lr_bound_for_node[0] + len(listL) + len(listD) - 1]  # for DISLIKE\n",
    "        self.lr_bound[str(self.cur_depth)][-1] = [lr_bound_for_node[0] + len(listL) + len(listD),\n",
    "                                                  lr_bound_for_node[0] + len(listL) + len(listD) + len(listU) - 1]  # for UNKNOWN\n",
    "\n",
    "        #### Generate Subtree of Node LIKE ####\n",
    "        self.sum_cur_t = min_sumt[:, 0]\n",
    "        self.sum_2_cur_t = min_sumt_2[:, 0]\n",
    "        self.sum_cntt = min_cntt[:, 0]\n",
    "        self.generate_decision_tree(self.lr_bound[str(self.cur_depth)][-3], chosen_id[:])\n",
    "        self.cur_depth -= 1\n",
    "\n",
    "        #### Generate Subtree of Node DISLIKE ####\n",
    "        self.sum_cur_t = min_sumt[:, 1]\n",
    "        self.sum_2_cur_t = min_sumt_2[:, 1]\n",
    "        self.sum_cntt = min_cntt[:, 1]\n",
    "        self.generate_decision_tree(self.lr_bound[str(self.cur_depth)][-2], chosen_id[:])\n",
    "        self.cur_depth -= 1\n",
    "\n",
    "        #### Generate Subtree of Node UNKNOWN ####\n",
    "        self.sum_cur_t = min_sumt[:, 2]\n",
    "        self.sum_2_cur_t = min_sumt_2[:, 2]\n",
    "        self.sum_cntt = min_cntt[:, 2]\n",
    "        self.generate_decision_tree(self.lr_bound[str(self.cur_depth)][-1], chosen_id[:])\n",
    "        self.cur_depth -= 1\n",
    "\n",
    "        #### Show Rating Progress ####\n",
    "        for i in range(self.cur_depth - 1):\n",
    "            print(\"┃\", end=\"\")\n",
    "        print(\"┏\", end=\"\")\n",
    "        self.cur_node += 1\n",
    "        print(\"Current depth: \" + str(self.cur_depth) + \"        %.2f%%\" % (100 * self.cur_node / self.node_num))\n",
    "\n",
    "    def build_model(self):\n",
    "        #### Construct the tree & get the prediction model ####\n",
    "        self.generate_decision_tree(self.lr_bound['0'][0], [])"
   ]
  },
  {
   "cell_type": "markdown",
   "metadata": {},
   "source": [
    "## Tree Init"
   ]
  },
  {
   "cell_type": "code",
   "execution_count": 68,
   "metadata": {
    "scrolled": true
   },
   "outputs": [
    {
     "name": "stdout",
     "output_type": "stream",
     "text": [
      "rU DONE\n",
      "Initiation DONE!\n"
     ]
    }
   ],
   "source": [
    "dtmodel_realdata = DecisionTreeModel(rating_matrix_csc_train, depth_threshold)"
   ]
  },
  {
   "cell_type": "markdown",
   "metadata": {},
   "source": [
    "## Build Tree"
   ]
  },
  {
   "cell_type": "code",
   "execution_count": 69,
   "metadata": {
    "scrolled": true
   },
   "outputs": [
    {
     "name": "stdout",
     "output_type": "stream",
     "text": [
      "split item found!\n",
      "split item found!\n",
      "split item found!\n",
      "split item found!\n",
      "┃┃┃┏Current depth: 4        2.50%\n",
      "split item found!\n",
      "┃┃┃┏Current depth: 4        5.00%\n",
      "split item found!\n",
      "┃┃┃┏Current depth: 4        7.50%\n",
      "┃┃┏Current depth: 3        10.00%\n",
      "split item found!\n",
      "split item found!\n",
      "┃┃┃┏Current depth: 4        12.50%\n",
      "split item found!\n",
      "┃┃┃┏Current depth: 4        15.00%\n",
      "split item found!\n",
      "┃┃┃┏Current depth: 4        17.50%\n",
      "┃┃┏Current depth: 3        20.00%\n",
      "split item found!\n",
      "split item found!\n",
      "┃┃┃┏Current depth: 4        22.50%\n",
      "split item found!\n",
      "┃┃┃┏Current depth: 4        25.00%\n",
      "split item found!\n",
      "┃┃┃┏Current depth: 4        27.50%\n",
      "┃┃┏Current depth: 3        30.00%\n",
      "┃┏Current depth: 2        32.50%\n",
      "split item found!\n",
      "split item found!\n",
      "split item found!\n",
      "┃┃┃┏Current depth: 4        35.00%\n",
      "split item found!\n",
      "┃┃┃┏Current depth: 4        37.50%\n",
      "split item found!\n",
      "┃┃┃┏Current depth: 4        40.00%\n",
      "┃┃┏Current depth: 3        42.50%\n",
      "split item found!\n",
      "split item found!\n",
      "┃┃┃┏Current depth: 4        45.00%\n",
      "split item found!\n",
      "┃┃┃┏Current depth: 4        47.50%\n",
      "split item found!\n",
      "┃┃┃┏Current depth: 4        50.00%\n",
      "┃┃┏Current depth: 3        52.50%\n",
      "split item found!\n",
      "split item found!\n",
      "┃┃┃┏Current depth: 4        55.00%\n",
      "split item found!\n",
      "┃┃┃┏Current depth: 4        57.50%\n",
      "split item found!\n",
      "┃┃┃┏Current depth: 4        60.00%\n",
      "┃┃┏Current depth: 3        62.50%\n",
      "┃┏Current depth: 2        65.00%\n",
      "split item found!\n",
      "split item found!\n",
      "split item found!\n",
      "┃┃┃┏Current depth: 4        67.50%\n",
      "split item found!\n",
      "┃┃┃┏Current depth: 4        70.00%\n",
      "split item found!\n",
      "┃┃┃┏Current depth: 4        72.50%\n",
      "┃┃┏Current depth: 3        75.00%\n",
      "split item found!\n",
      "split item found!\n",
      "┃┃┃┏Current depth: 4        77.50%\n",
      "split item found!\n",
      "┃┃┃┏Current depth: 4        80.00%\n",
      "split item found!\n",
      "┃┃┃┏Current depth: 4        82.50%\n",
      "┃┃┏Current depth: 3        85.00%\n",
      "split item found!\n",
      "split item found!\n",
      "┃┃┃┏Current depth: 4        87.50%\n",
      "split item found!\n",
      "┃┃┃┏Current depth: 4        90.00%\n",
      "split item found!\n",
      "┃┃┃┏Current depth: 4        92.50%\n",
      "┃┃┏Current depth: 3        95.00%\n",
      "┃┏Current depth: 2        97.50%\n",
      "┏Current depth: 1        100.00%\n"
     ]
    }
   ],
   "source": [
    "dtmodel_realdata.build_model()"
   ]
  },
  {
   "cell_type": "code",
   "execution_count": 70,
   "metadata": {
    "collapsed": true
   },
   "outputs": [],
   "source": [
    "Tree = klepto.archives.dir_archive('treeFile', cached=True, serialized=True)\n",
    "\n",
    "Tree['lr_bound'] = dtmodel_realdata.lr_bound\n",
    "Tree['tree'] = dtmodel_realdata.tree\n",
    "Tree['split_item'] = dtmodel_realdata.split_item\n",
    "\n",
    "Tree.dump()\n",
    "Tree.clear()"
   ]
  },
  {
   "cell_type": "code",
   "execution_count": 71,
   "metadata": {},
   "outputs": [
    {
     "data": {
      "text/plain": [
       "'2017-12-07 19:38:07'"
      ]
     },
     "execution_count": 71,
     "metadata": {},
     "output_type": "execute_result"
    }
   ],
   "source": [
    "time.localtime(time.time())\n",
    "time.strftime('%Y-%m-%d %H:%M:%S',time.localtime(time.time()))"
   ]
  },
  {
   "cell_type": "code",
   "execution_count": 72,
   "metadata": {
    "collapsed": true
   },
   "outputs": [],
   "source": [
    "del dtmodel_realdata"
   ]
  },
  {
   "cell_type": "markdown",
   "metadata": {},
   "source": [
    "## MF part"
   ]
  },
  {
   "cell_type": "code",
   "execution_count": 38,
   "metadata": {},
   "outputs": [],
   "source": [
    "from pyspark import SparkConf\n",
    "from pyspark import SparkContext\n",
    "from pyspark.mllib.recommendation import ALS\n",
    "\n",
    "class MatrixFactorization:\n",
    "    def __init__(self, maxIter=15, regParam=0.01, rank=10):\n",
    "        self.maxIter = maxIter\n",
    "        self.regParam = regParam\n",
    "        self.rank = rank\n",
    "        conf = SparkConf().setAppName(\"appName\").setMaster(\"local[*]\")\n",
    "        conf.set(\"spark.driver.memory\",\"8g\")\n",
    "        conf.set(\"spark.executor.memory\",\"8g\")\n",
    "        self.spark = SparkContext(conf=conf)\n",
    "                    \n",
    "        print(\"New SparkSession started...\")\n",
    "\n",
    "    def change_parameter(self, regParam):\n",
    "        self.regParam = regParam\n",
    "\n",
    "    def matrix_factorization(self, train_lst):\n",
    "        ratings = self.spark.parallelize(train_lst)\n",
    "#         print('create dataframe!')\n",
    "        model = ALS.train(ratings, self.rank, seed=10, \\\n",
    "                          iterations=self.maxIter, \\\n",
    "                          lambda_=self.regParam)\n",
    "        print(\"MF DONE\")\n",
    "        userFeatures = sorted(model.userFeatures().collect(), key=lambda d: d[0], reverse=False)\n",
    "        productFeatures = sorted(model.productFeatures().collect(), key=lambda d: d[0], reverse=False)\n",
    "        userProfile = {each[0]: each[1].tolist() for each in userFeatures}\n",
    "        itemProfile = {each[0]: each[1].tolist() for each in productFeatures}\n",
    "        \n",
    "        \n",
    "        return userProfile, itemProfile\n",
    "\n",
    "    def end(self):\n",
    "        self.spark.stop()\n",
    "        print(\"SparkSession stopped.\")"
   ]
  },
  {
   "cell_type": "markdown",
   "metadata": {},
   "source": [
    "## Load Tree from file"
   ]
  },
  {
   "cell_type": "code",
   "execution_count": 39,
   "metadata": {},
   "outputs": [],
   "source": [
    "import klepto\n",
    "import numpy as np\n",
    "Tree = klepto.archives.dir_archive('treeFile', {}, serialized=True)\n",
    "Tree.load()"
   ]
  },
  {
   "cell_type": "code",
   "execution_count": 40,
   "metadata": {},
   "outputs": [],
   "source": [
    "def read_h5py(filename):\n",
    "    with h5py.File(filename + \".mat\") as data:\n",
    "        file = [data[element[0]][:] for element in data[filename]]\n",
    "    return file"
   ]
  },
  {
   "cell_type": "code",
   "execution_count": 41,
   "metadata": {},
   "outputs": [],
   "source": [
    "split_item = read_h5py('split_item')\n",
    "for i in range(len(split_item)):\n",
    "    split_item[i].T[0] = split_item[i].T[0] - 1\n",
    "    \n",
    "lr_bound_list = read_h5py('lr_bound')\n",
    "\n",
    "i = 0\n",
    "for i in range(len(lr_bound_list)):\n",
    "    level = lr_bound_list[i]\n",
    "    lr_bound_list[i] = []\n",
    "    level = list((level.T)[0])\n",
    "    for boundNum in range(0, len(level), 2):\n",
    "        lr_bound_list[i].append([int(level[boundNum]) - 1, int(level[boundNum + 1]) - 1])\n",
    "    i += 1\n",
    "\n",
    "lr_bound = {}\n",
    "for i in range(len(lr_bound_list)):\n",
    "    lr_bound[str(i)] = lr_bound_list[i]\n",
    "    \n",
    "feature=h5py.File('tree.mat')  \n",
    "tree = list(feature['tree'][:].T[0])\n",
    "tree = [i-1 for i in tree] "
   ]
  },
  {
   "cell_type": "code",
   "execution_count": 42,
   "metadata": {},
   "outputs": [],
   "source": [
    "lambda_list = [0.005, 0.01,  0.02,  0.04,  0.08, 0.16,  0.32,  0.64,  1.28]"
   ]
  },
  {
   "cell_type": "code",
   "execution_count": 75,
   "metadata": {
    "collapsed": true
   },
   "outputs": [],
   "source": [
    "split_item = Tree['split_item']\n",
    "lr_bound = Tree['lr_bound']\n",
    "tree = Tree['tree']\n",
    "lambda_list = [0.005, 0.01,  0.02,  0.04,  0.08, 0.16,  0.32,  0.64,  1.28]#,  2.56, 5.12, 10.24, 20.48, 40.96, 81.92];\n",
    "# lambda_list = [0.09, 0.10, 0.11, 0.12, 0.13, 0.14, 0.15, 0.16, 0.17, 0.18, 0.19, 0.20, 0.21, 0.22, 0.25]"
   ]
  },
  {
   "cell_type": "code",
   "execution_count": 169,
   "metadata": {},
   "outputs": [
    {
     "name": "stdout",
     "output_type": "stream",
     "text": [
      "New SparkSession started...\n"
     ]
    }
   ],
   "source": [
    "MF = MatrixFactorization()"
   ]
  },
  {
   "cell_type": "code",
   "execution_count": 170,
   "metadata": {
    "scrolled": true
   },
   "outputs": [
    {
     "name": "stdout",
     "output_type": "stream",
     "text": [
      "level: 0\n",
      "Rating Number of level 0: 6040\n",
      "Current plambda: 0.005\n",
      "MF DONE\n",
      "321187.915036\n",
      "303382\n",
      "Current RMSE: 1.02892730665\n",
      "Current plambda: 0.01\n",
      "MF DONE\n",
      "321178.441206\n",
      "303382\n",
      "Current RMSE: 1.02891213181\n",
      "Current plambda: 0.02\n",
      "MF DONE\n",
      "321163.439997\n",
      "303382\n",
      "Current RMSE: 1.02888810294\n",
      "Current plambda: 0.04\n",
      "MF DONE\n",
      "321190.414201\n",
      "303382\n",
      "Current RMSE: 1.02893130969\n",
      "Current plambda: 0.08\n",
      "MF DONE\n",
      "321798.589219\n",
      "303382\n",
      "Current RMSE: 1.02990499126\n",
      "Current plambda: 0.16\n",
      "MF DONE\n",
      "326477.110154\n",
      "303382\n",
      "Current RMSE: 1.03736469587\n",
      "Current plambda: 0.32\n",
      "MF DONE\n",
      "347977.336812\n",
      "303382\n",
      "Current RMSE: 1.07097806244\n",
      "Current plambda: 0.64\n",
      "MF DONE\n",
      "433291.811346\n",
      "303382\n",
      "Current RMSE: 1.19507547973\n",
      "Current plambda: 1.28\n",
      "MF DONE\n",
      "777795.210943\n",
      "303382\n",
      "Current RMSE: 1.60117104313\n",
      "min RMSE: 1.02888810294\n"
     ]
    },
    {
     "data": {
      "image/png": "[encoded data removed]",
      "text/plain": [
       "<matplotlib.figure.Figure at 0x7fcd285eb438>"
      ]
     },
     "metadata": {},
     "output_type": "display_data"
    },
    {
     "name": "stdout",
     "output_type": "stream",
     "text": [
      "level: 1\n",
      "Rating Number of level 1: 17960\n",
      "Current plambda: 0.005\n",
      "MF DONE\n"
     ]
    },
    {
     "name": "stderr",
     "output_type": "stream",
     "text": [
      "/home/zhaozihan/miniconda3/lib/python3.6/site-packages/scipy/sparse/compressed.py:274: SparseEfficiencyWarning: Comparing a sparse matrix with a scalar greater than zero using <= is inefficient, try using > instead.\n",
      "  warn(bad_scalar_msg, SparseEfficiencyWarning)\n"
     ]
    },
    {
     "name": "stdout",
     "output_type": "stream",
     "text": [
      "311452.424071\n",
      "303375\n",
      "Current RMSE: 1.01322515427\n",
      "Current plambda: 0.01\n",
      "MF DONE\n",
      "311172.374362\n",
      "303375\n",
      "Current RMSE: 1.01276951932\n",
      "Current plambda: 0.02\n",
      "MF DONE\n",
      "310711.909241\n",
      "303375\n",
      "Current RMSE: 1.01201990636\n",
      "Current plambda: 0.04\n",
      "MF DONE\n",
      "310137.075421\n",
      "303375\n",
      "Current RMSE: 1.01108332722\n",
      "Current plambda: 0.08\n",
      "MF DONE\n",
      "310422.897785\n",
      "303375\n",
      "Current RMSE: 1.01154912718\n",
      "Current plambda: 0.16\n",
      "MF DONE\n",
      "317766.677955\n",
      "303375\n",
      "Current RMSE: 1.02344446643\n",
      "Current plambda: 0.32\n",
      "MF DONE\n",
      "344053.426419\n",
      "303375\n",
      "Current RMSE: 1.06493487314\n",
      "Current plambda: 0.64\n",
      "MF DONE\n",
      "430154.06694\n",
      "303375\n",
      "Current RMSE: 1.19075419995\n",
      "Current plambda: 1.28\n",
      "MF DONE\n",
      "775674.02207\n",
      "303375\n",
      "Current RMSE: 1.59900465751\n",
      "min RMSE: 1.01108332722\n"
     ]
    },
    {
     "data": {
      "image/png": "[encoded data removed]",
      "text/plain": [
       "<matplotlib.figure.Figure at 0x7fcd1b45e7f0>"
      ]
     },
     "metadata": {},
     "output_type": "display_data"
    },
    {
     "name": "stdout",
     "output_type": "stream",
     "text": [
      "level: 2\n",
      "Rating Number of level 2: 49309\n",
      "Current plambda: 0.005\n",
      "MF DONE\n",
      "324698.588152\n",
      "303366\n",
      "Current RMSE: 1.03456253596\n",
      "Current plambda: 0.01\n",
      "MF DONE\n",
      "314319.908792\n",
      "303366\n",
      "Current RMSE: 1.01789385433\n",
      "Current plambda: 0.02\n",
      "MF DONE\n",
      "306668.670503\n",
      "303366\n",
      "Current RMSE: 1.00542864109\n",
      "Current plambda: 0.04\n",
      "MF DONE\n",
      "302006.841404\n",
      "303366\n",
      "Current RMSE: 0.997757355204\n",
      "Current plambda: 0.08\n",
      "MF DONE\n",
      "299395.566836\n",
      "303366\n",
      "Current RMSE: 0.993434481669\n",
      "Current plambda: 0.16\n",
      "MF DONE\n",
      "306720.046528\n",
      "303366\n",
      "Current RMSE: 1.005512857\n",
      "Current plambda: 0.32\n",
      "MF DONE\n",
      "332499.623155\n",
      "303366\n",
      "Current RMSE: 1.04691669645\n",
      "Current plambda: 0.64\n",
      "MF DONE\n",
      "416677.08651\n",
      "303366\n",
      "Current RMSE: 1.17196962759\n",
      "Current plambda: 1.28\n",
      "MF DONE\n",
      "755400.003027\n",
      "303366\n",
      "Current RMSE: 1.57799287699\n",
      "min RMSE: 0.993434481669\n"
     ]
    },
    {
     "data": {
      "image/png": "[encoded data removed]",
      "text/plain": [
       "<matplotlib.figure.Figure at 0x7fcd648943c8>"
      ]
     },
     "metadata": {},
     "output_type": "display_data"
    },
    {
     "name": "stdout",
     "output_type": "stream",
     "text": [
      "level: 3\n",
      "Rating Number of level 3: 115742\n",
      "Current plambda: 0.005\n",
      "MF DONE\n",
      "323569.224147\n",
      "303349\n",
      "Current RMSE: 1.03279070334\n",
      "Current plambda: 0.01\n",
      "MF DONE\n",
      "318646.826897\n",
      "303349\n",
      "Current RMSE: 1.02490477204\n",
      "Current plambda: 0.02\n",
      "MF DONE\n",
      "312689.030336\n",
      "303349\n",
      "Current RMSE: 1.01527814837\n",
      "Current plambda: 0.04\n",
      "MF DONE\n",
      "305972.705199\n",
      "303349\n",
      "Current RMSE: 1.00431525472\n",
      "Current plambda: 0.08\n",
      "MF DONE\n",
      "299663.08479\n",
      "303349\n",
      "Current RMSE: 0.993906061326\n",
      "Current plambda: 0.16\n",
      "MF DONE\n",
      "304022.762282\n",
      "303349\n",
      "Current RMSE: 1.00110992385\n",
      "Current plambda: 0.32\n",
      "MF DONE\n",
      "330221.522049\n",
      "303349\n",
      "Current RMSE: 1.04335332304\n",
      "Current plambda: 0.64\n",
      "MF DONE\n",
      "414765.046474\n",
      "303349\n",
      "Current RMSE: 1.16931034288\n",
      "Current plambda: 1.28\n",
      "MF DONE\n",
      "756137.632727\n",
      "303349\n",
      "Current RMSE: 1.57880736197\n",
      "min RMSE: 0.993906061326\n"
     ]
    },
    {
     "data": {
      "image/png": "[encoded data removed]",
      "text/plain": [
       "<matplotlib.figure.Figure at 0x7fcd33d70128>"
      ]
     },
     "metadata": {},
     "output_type": "display_data"
    },
    {
     "name": "stdout",
     "output_type": "stream",
     "text": [
      "level: 4\n",
      "Rating Number of level 4: 231579\n",
      "Current plambda: 0.005\n",
      "MF DONE\n",
      "318425.175686\n",
      "303336\n",
      "Current RMSE: 1.02457020156\n",
      "Current plambda: 0.01\n",
      "MF DONE\n",
      "314069.534678\n",
      "303336\n",
      "Current RMSE: 1.01753868137\n",
      "Current plambda: 0.02\n",
      "MF DONE\n",
      "308876.488835\n",
      "303336\n",
      "Current RMSE: 1.00909126804\n",
      "Current plambda: 0.04\n",
      "MF DONE\n",
      "302294.410651\n",
      "303336\n",
      "Current RMSE: 0.998281633181\n",
      "Current plambda: 0.08\n",
      "MF DONE\n",
      "295937.8169\n",
      "303336\n",
      "Current RMSE: 0.98773002374\n",
      "Current plambda: 0.16\n",
      "MF DONE\n",
      "301987.82886\n",
      "303336\n",
      "Current RMSE: 0.997775284736\n",
      "Current plambda: 0.32\n",
      "MF DONE\n",
      "327244.840897\n",
      "303336\n",
      "Current RMSE: 1.03866243876\n",
      "Current plambda: 0.64\n",
      "MF DONE\n",
      "409796.619603\n",
      "303336\n",
      "Current RMSE: 1.16231062552\n",
      "Current plambda: 1.28\n",
      "MF DONE\n",
      "746354.790622\n",
      "303336\n",
      "Current RMSE: 1.5685944881\n",
      "min RMSE: 0.98773002374\n"
     ]
    },
    {
     "data": {
      "image/png": "[encoded data removed]",
      "text/plain": [
       "<matplotlib.figure.Figure at 0x7fcd6481e898>"
      ]
     },
     "metadata": {},
     "output_type": "display_data"
    }
   ],
   "source": [
    "prediction_model = {}\n",
    "rmst_dict = {\"0\":[],\"1\":[],\"2\":[],\"3\":[],\"4\":[],\"5\":[],\"6\":[],\"7\":[],\"8\":[],\"9\":[],\"10\":[]}\n",
    "for level in range(depth_threshold + 1):\n",
    "    level = str(level)\n",
    "    print(\"level:\", level)\n",
    "    prediction_model.setdefault(level, {})\n",
    "    train_lst = []       \n",
    "    for pseudo_user_bound, userid in zip(lr_bound[level], range(len(lr_bound[level]))):\n",
    "        if pseudo_user_bound[0] > pseudo_user_bound[1]:\n",
    "            continue\n",
    "        pseudo_user_lst = tree[pseudo_user_bound[0]:(pseudo_user_bound[1] + 1)]\n",
    "        ratings_Pseudo_u2i = np.array(rating_matrix_csc_train[:, pseudo_user_lst].sum(axis=1))[:,0] / \\\n",
    "                                     (rating_matrix_csc_train[:, pseudo_user_lst].getnnz(axis=1)+1e-9)\n",
    "        train_lst += [(userid, itemid, float(ratings_Pseudo_u2i[itemid])) \\\n",
    "                      for itemid in range(ratings_Pseudo_u2i.shape[0]) if ratings_Pseudo_u2i[itemid]]        \n",
    "\n",
    "    print(\"Rating Number of level \" + level + \": \" + str(len(train_lst)))\n",
    "    \n",
    "    #### Train MF and Do validation ####\n",
    "    min_RMSE = -1\n",
    "    user_profile_list = []\n",
    "    item_profile_list = []\n",
    "    for plambda in lambda_list:\n",
    "        print(\"Current plambda: \" + str(plambda))\n",
    "        MF.change_parameter(plambda)\n",
    "        user_profile, item_profile = MF.matrix_factorization(train_lst)\n",
    "        user_profile_list.append(user_profile)\n",
    "        item_profile_list.append(item_profile)\n",
    "        prediction_model[level]['upro'], prediction_model[level]['ipro'], prediction_model[level]['plambda'] \\\n",
    "                                         = user_profile, item_profile, plambda\n",
    "        rmse = 0\n",
    "        rmseNum = 0\n",
    "        for userid in range(rating_matrix_csc_test.shape[1]):\n",
    "    #         if userid % 100 == 0:\n",
    "    #             print(\"%.2f%%\" % (100 * userid / rating_matrix_csc_test.shape[1]))  \n",
    "            pred_index = 0\n",
    "            final_level = 0\n",
    "            rated_item = []\n",
    "            user_all_ratings = rating_matrix_csc_test[:,userid].nonzero()[0]\n",
    "            for depth in range(int(level)):\n",
    "                if split_item[depth][pred_index] not in user_all_ratings:\n",
    "                    tmp_pred_index = 3*pred_index + 2\n",
    "                    if tmp_pred_index in prediction_model[str(int(depth)+1)]['upro']:\n",
    "                        final_level += 1\n",
    "                        pred_index = tmp_pred_index\n",
    "                    else:\n",
    "                        break\n",
    "                elif rating_matrix_csc_test[split_item[depth][pred_index], userid] > 3:\n",
    "                    tmp_pred_index = 3*pred_index\n",
    "                    if tmp_pred_index in prediction_model[str(int(depth)+1)]['upro']:\n",
    "                        rated_item.append(split_item[depth][pred_index][0]-1)\n",
    "                        final_level += 1\n",
    "                        pred_index = tmp_pred_index\n",
    "                    else:\n",
    "                        break\n",
    "                elif rating_matrix_csc_test[split_item[depth][pred_index], userid] <= 3:\n",
    "                    tmp_pred_index = 3*pred_index + 1\n",
    "                    if tmp_pred_index in prediction_model[str(int(depth)+1)]['upro']:\n",
    "                        rated_item.append(split_item[depth][pred_index][0]-1)\n",
    "                        final_level += 1\n",
    "                        pred_index = tmp_pred_index\n",
    "                    else:\n",
    "                        break   \n",
    "                        \n",
    "            pred_rating = np.dot(np.array(prediction_model[str(final_level)]['upro'][pred_index]), \\\n",
    "                                 np.array(list(prediction_model[str(final_level)]['ipro'].values())).T) \n",
    "            real_rating = rating_matrix_csc_test[:, userid].toarray()\n",
    "            non_zeros = list(np.nonzero(real_rating)[0])\n",
    "            non_zeros = list(set(non_zeros).difference(set(rated_item)))\n",
    "            non_zerosNum = pred_rating[non_zeros].shape[1]\n",
    "            rmse += np.sum((pred_rating[non_zeros].T.reshape(non_zerosNum, 1)-real_rating[non_zeros])**2)\n",
    "            rmseNum += len(non_zeros)\n",
    "        RMSE = (rmse/rmseNum)**0.5\n",
    "        print(rmse)\n",
    "        print(rmseNum)\n",
    "        print(\"Current RMSE: \" + str(RMSE))\n",
    "        rmst_dict[level].append(RMSE)\n",
    "    min_MF = rmst_dict[level].index(min(rmst_dict[level]))   \n",
    "    prediction_model[level]['upro'] = user_profile_list[min_MF]\n",
    "    prediction_model[level]['ipro'] = item_profile_list[min_MF]\n",
    "    prediction_model[level]['plambda'] = lambda_list[min_MF]\n",
    "    print(\"min RMSE: \" + str(min(rmst_dict[level])))\n",
    "    plt.figure(1)\n",
    "    plt.title('RMSE for level ' + level)\n",
    "    plt.xlabel('plambda')\n",
    "    plt.ylabel('RMSE')\n",
    "    plt.plot(lambda_list, rmst_dict[level])\n",
    "    plt.show()"
   ]
  },
  {
   "cell_type": "code",
   "execution_count": 171,
   "metadata": {},
   "outputs": [
    {
     "name": "stdout",
     "output_type": "stream",
     "text": [
      "SparkSession stopped.\n"
     ]
    }
   ],
   "source": [
    "MF.end()"
   ]
  },
  {
   "cell_type": "code",
   "execution_count": null,
   "metadata": {
    "collapsed": true
   },
   "outputs": [],
   "source": [
    "import klepto\n",
    "Tree = klepto.archives.dir_archive('treeFile', cached=True, serialized=True)\n",
    "Tree['prediction_model'] = prediction_model\n",
    "Tree.dump()\n",
    "Tree.clear()"
   ]
  },
  {
   "cell_type": "code",
   "execution_count": 172,
   "metadata": {},
   "outputs": [],
   "source": [
    "min_rmse_list = [1.02888810294, \n",
    "                 1.01108332722,\n",
    "                 0.993434481669,\n",
    "                 0.993906061326,\n",
    "                 0.98773002374]"
   ]
  },
  {
   "cell_type": "code",
   "execution_count": 175,
   "metadata": {},
   "outputs": [
    {
     "data": {
      "image/png": "[encoded data removed]",
      "text/plain": [
       "<matplotlib.figure.Figure at 0x7fcd38aeb7f0>"
      ]
     },
     "metadata": {},
     "output_type": "display_data"
    }
   ],
   "source": [
    "plt.figure(1)\n",
    "plt.xlabel('min RMSE')\n",
    "plt.ylabel('level')\n",
    "plt.plot(list(range(5)), min_rmse_list)\n",
    "plt.show()"
   ]
  },
  {
   "cell_type": "code",
   "execution_count": 65,
   "metadata": {},
   "outputs": [],
   "source": [
    "treal_rating = rating_matrix_csc_test[:, 1].toarray()"
   ]
  },
  {
   "cell_type": "code",
   "execution_count": 66,
   "metadata": {},
   "outputs": [],
   "source": [
    "non_zeros = list(np.nonzero(treal_rating)[0])"
   ]
  },
  {
   "cell_type": "code",
   "execution_count": 68,
   "metadata": {},
   "outputs": [],
   "source": [
    "non_zeros = list(set(non_zeros).difference(set([])))"
   ]
  },
  {
   "cell_type": "code",
   "execution_count": 70,
   "metadata": {},
   "outputs": [],
   "source": [
    "t=rating_matrix_csc_test[:,1].nonzero()[0]"
   ]
  },
  {
   "cell_type": "code",
   "execution_count": 80,
   "metadata": {},
   "outputs": [],
   "source": [
    "pred_rating = np.dot(np.array(prediction_model[\"0\"]['upro'][0]), \\\n",
    "                     np.array(list(prediction_model[\"0\"]['ipro'].values())).T) "
   ]
  },
  {
   "cell_type": "code",
   "execution_count": 81,
   "metadata": {},
   "outputs": [
    {
     "data": {
      "text/plain": [
       "array([ 4.08449802,  3.77205881,  3.94233877, ...,  3.91949047,\n",
       "        3.88800869,  3.53263267])"
      ]
     },
     "execution_count": 81,
     "metadata": {},
     "output_type": "execute_result"
    }
   ],
   "source": [
    "pred_rating"
   ]
  },
  {
   "cell_type": "code",
   "execution_count": 83,
   "metadata": {},
   "outputs": [
    {
     "data": {
      "text/plain": [
       "(10, 6040)"
      ]
     },
     "execution_count": 83,
     "metadata": {},
     "output_type": "execute_result"
    }
   ],
   "source": [
    "np.array(list(prediction_model[\"0\"]['ipro'].values())).T.shape"
   ]
  },
  {
   "cell_type": "code",
   "execution_count": null,
   "metadata": {},
   "outputs": [
    {
     "name": "stderr",
     "output_type": "stream",
     "text": [
      "----------------------------------------\n",
      "Exception happened during processing of request from ('127.0.0.1', 55746)\n",
      "Traceback (most recent call last):\n",
      "  File \"/home/zhaozihan/miniconda3/lib/python3.6/socketserver.py\", line 317, in _handle_request_noblock\n",
      "    self.process_request(request, client_address)\n",
      "  File \"/home/zhaozihan/miniconda3/lib/python3.6/socketserver.py\", line 348, in process_request\n",
      "    self.finish_request(request, client_address)\n",
      "  File \"/home/zhaozihan/miniconda3/lib/python3.6/socketserver.py\", line 361, in finish_request\n",
      "    self.RequestHandlerClass(request, client_address, self)\n",
      "  File \"/home/zhaozihan/miniconda3/lib/python3.6/socketserver.py\", line 696, in __init__\n",
      "    self.handle()\n",
      "  File \"/usr/lib/spark/spark-2.2.0-bin-hadoop2.6/python/pyspark/accumulators.py\", line 235, in handle\n",
      "    num_updates = read_int(self.rfile)\n",
      "  File \"/usr/lib/spark/spark-2.2.0-bin-hadoop2.6/python/pyspark/serializers.py\", line 577, in read_int\n",
      "    raise EOFError\n",
      "EOFError\n",
      "----------------------------------------\n"
     ]
    }
   ],
   "source": [
    "np.multiply(np.ones(rating_matrix_csc_test.shape) * 3.5839332018605505, rating_matrix_csc_test!=0)"
   ]
  },
  {
   "cell_type": "code",
   "execution_count": 55,
   "metadata": {},
   "outputs": [
    {
     "data": {
      "text/plain": [
       "{0: [0.19403712451457977,\n",
       "  0.0832921639084816,\n",
       "  0.6274546384811401,\n",
       "  -0.42187848687171936,\n",
       "  -0.30671998858451843,\n",
       "  0.11419331282377243,\n",
       "  0.29262134432792664,\n",
       "  -0.5510282516479492,\n",
       "  0.1493316888809204,\n",
       "  0.05447138473391533]}"
      ]
     },
     "execution_count": 55,
     "metadata": {},
     "output_type": "execute_result"
    }
   ],
   "source": []
  },
  {
   "cell_type": "code",
   "execution_count": 48,
   "metadata": {},
   "outputs": [
    {
     "data": {
      "text/plain": [
       "array([[ 0.],\n",
       "       [ 0.],\n",
       "       [ 0.],\n",
       "       ..., \n",
       "       [ 0.],\n",
       "       [ 0.],\n",
       "       [ 0.]])"
      ]
     },
     "execution_count": 48,
     "metadata": {},
     "output_type": "execute_result"
    }
   ],
   "source": [
    "real_rating"
   ]
  },
  {
   "cell_type": "code",
   "execution_count": null,
   "metadata": {},
   "outputs": [],
   "source": [
    "\n",
    "rating_matrix_csc_test"
   ]
  }
 ],
 "metadata": {
  "kernelspec": {
   "display_name": "Python 3",
   "language": "python",
   "name": "python3"
  },
  "language_info": {
   "codemirror_mode": {
    "name": "ipython",
    "version": 3
   },
   "file_extension": ".py",
   "mimetype": "text/x-python",
   "name": "python",
   "nbconvert_exporter": "python",
   "pygments_lexer": "ipython3",
   "version": "3.6.2"
  }
 },
 "nbformat": 4,
 "nbformat_minor": 1
}
