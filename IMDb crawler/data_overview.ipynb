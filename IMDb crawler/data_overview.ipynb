{
 "cells": [
  {
   "cell_type": "markdown",
   "metadata": {},
   "source": [
    "## 1. Movie Year Information"
   ]
  },
  {
   "cell_type": "markdown",
   "metadata": {},
   "source": [
    "### 1.1 20M movielens"
   ]
  },
  {
   "cell_type": "code",
   "execution_count": 1,
   "metadata": {},
   "outputs": [],
   "source": [
    "import shelve\n",
    "import pickle\n",
    "with shelve.open(\"./movie-years-20M/years_20M.pkl\", protocol=pickle.HIGHEST_PROTOCOL) as d:\n",
    "    movie_years_dict_20M = d['content']"
   ]
  },
  {
   "cell_type": "code",
   "execution_count": 5,
   "metadata": {},
   "outputs": [
    {
     "data": {
      "text/plain": [
       "45843"
      ]
     },
     "execution_count": 5,
     "metadata": {},
     "output_type": "execute_result"
    }
   ],
   "source": [
    "len(movie_years_dict_20M)"
   ]
  },
  {
   "cell_type": "markdown",
   "metadata": {},
   "source": [
    "### 1.2 1M movielens"
   ]
  },
  {
   "cell_type": "code",
   "execution_count": 4,
   "metadata": {},
   "outputs": [],
   "source": [
    "import shelve\n",
    "import pickle\n",
    "with shelve.open(\"./movie-years-1M/years_1M.pkl\", protocol=pickle.HIGHEST_PROTOCOL) as d:\n",
    "    movie_years_dict_1M = d['content']"
   ]
  },
  {
   "cell_type": "code",
   "execution_count": 6,
   "metadata": {},
   "outputs": [
    {
     "data": {
      "text/plain": [
       "3883"
      ]
     },
     "execution_count": 6,
     "metadata": {},
     "output_type": "execute_result"
    }
   ],
   "source": [
    "len(movie_years_dict_1M)"
   ]
  },
  {
   "cell_type": "markdown",
   "metadata": {},
   "source": [
    "## 2. Movie Name Information"
   ]
  },
  {
   "cell_type": "markdown",
   "metadata": {},
   "source": [
    "### 2.1 20M movielens"
   ]
  },
  {
   "cell_type": "code",
   "execution_count": 15,
   "metadata": {},
   "outputs": [],
   "source": [
    "import shelve\n",
    "import pickle\n",
    "with shelve.open(\"./movie-titles-20M/titles_20M.pkl\", protocol=pickle.HIGHEST_PROTOCOL) as d:\n",
    "    movie_titles_dict_20M = d['content']"
   ]
  },
  {
   "cell_type": "code",
   "execution_count": 16,
   "metadata": {},
   "outputs": [
    {
     "data": {
      "text/plain": [
       "45843"
      ]
     },
     "execution_count": 16,
     "metadata": {},
     "output_type": "execute_result"
    }
   ],
   "source": [
    "len(movie_titles_dict_20M)"
   ]
  },
  {
   "cell_type": "markdown",
   "metadata": {},
   "source": [
    "### 2.2 1M movielens"
   ]
  },
  {
   "cell_type": "code",
   "execution_count": 11,
   "metadata": {},
   "outputs": [],
   "source": [
    "import shelve\n",
    "import pickle\n",
    "with shelve.open(\"./movie-titles-1M/titles_1M.pkl\", protocol=pickle.HIGHEST_PROTOCOL) as d:\n",
    "    movie_titles_dict_1M = d['content']"
   ]
  },
  {
   "cell_type": "code",
   "execution_count": 12,
   "metadata": {},
   "outputs": [
    {
     "data": {
      "text/plain": [
       "3883"
      ]
     },
     "execution_count": 12,
     "metadata": {},
     "output_type": "execute_result"
    }
   ],
   "source": [
    "len(movie_titles_dict_1M)"
   ]
  },
  {
   "cell_type": "markdown",
   "metadata": {},
   "source": [
    "## 3. Movie Genre Information"
   ]
  },
  {
   "cell_type": "markdown",
   "metadata": {},
   "source": [
    "### 3.1 20M movielens"
   ]
  },
  {
   "cell_type": "code",
   "execution_count": 2,
   "metadata": {},
   "outputs": [],
   "source": [
    "import shelve\n",
    "import pickle\n",
    "with shelve.open(\"./movie-genre-20M/movie_genre_20M.pkl\", protocol=pickle.HIGHEST_PROTOCOL) as d:\n",
    "    movie_genre_dict_20M = d['content']"
   ]
  },
  {
   "cell_type": "code",
   "execution_count": 3,
   "metadata": {},
   "outputs": [
    {
     "data": {
      "text/plain": [
       "45843"
      ]
     },
     "execution_count": 3,
     "metadata": {},
     "output_type": "execute_result"
    }
   ],
   "source": [
    "len(movie_genre_dict_20M)"
   ]
  },
  {
   "cell_type": "code",
   "execution_count": 19,
   "metadata": {},
   "outputs": [],
   "source": [
    "with shelve.open(\"./movie-genre-20M/genre_20M.pkl\", protocol=pickle.HIGHEST_PROTOCOL) as d:\n",
    "    movie_genre_lst_20M = d['content']"
   ]
  },
  {
   "cell_type": "code",
   "execution_count": 20,
   "metadata": {},
   "outputs": [
    {
     "data": {
      "text/plain": [
       "['Western',\n",
       " 'Short',\n",
       " 'Comedy',\n",
       " 'Animation',\n",
       " 'Music',\n",
       " 'Musical',\n",
       " 'Fantasy',\n",
       " 'War',\n",
       " 'Thriller',\n",
       " 'Crime',\n",
       " 'Adventure',\n",
       " 'Film-Noir',\n",
       " 'Adult',\n",
       " 'Horror',\n",
       " 'Sci-Fi',\n",
       " 'Sport',\n",
       " 'Family',\n",
       " 'Action',\n",
       " 'History',\n",
       " 'Children',\n",
       " 'Romance',\n",
       " 'Reality-TV',\n",
       " 'News',\n",
       " 'Mystery',\n",
       " 'IMAX',\n",
       " 'Biography',\n",
       " 'Drama',\n",
       " 'Documentary']"
      ]
     },
     "execution_count": 20,
     "metadata": {},
     "output_type": "execute_result"
    }
   ],
   "source": [
    "movie_genre_lst_20M"
   ]
  },
  {
   "cell_type": "code",
   "execution_count": 24,
   "metadata": {},
   "outputs": [
    {
     "name": "stdout",
     "output_type": "stream",
     "text": [
      "70 in 20M dataset movies miss genres\n"
     ]
    }
   ],
   "source": [
    "cnt = 0\n",
    "for movieid in movie_genre_dict_20M:\n",
    "    if movie_genre_dict_20M[movieid] == []:\n",
    "        cnt += 1\n",
    "print(\"%d in 20M dataset movies miss genres\"%cnt)"
   ]
  },
  {
   "cell_type": "markdown",
   "metadata": {},
   "source": [
    "### 3.2 1M movielens"
   ]
  },
  {
   "cell_type": "code",
   "execution_count": 13,
   "metadata": {},
   "outputs": [],
   "source": [
    "import shelve\n",
    "import pickle\n",
    "with shelve.open(\"./movie-genre-1M/movie_genre_1M.pkl\", protocol=pickle.HIGHEST_PROTOCOL) as d:\n",
    "    movie_genre_dict_1M = d['content']"
   ]
  },
  {
   "cell_type": "code",
   "execution_count": 14,
   "metadata": {},
   "outputs": [
    {
     "data": {
      "text/plain": [
       "3883"
      ]
     },
     "execution_count": 14,
     "metadata": {},
     "output_type": "execute_result"
    }
   ],
   "source": [
    "len(movie_genre_dict_1M)"
   ]
  },
  {
   "cell_type": "code",
   "execution_count": 15,
   "metadata": {},
   "outputs": [],
   "source": [
    "with shelve.open(\"./movie-genre-1M/genre_1M.pkl\", protocol=pickle.HIGHEST_PROTOCOL) as d:\n",
    "    movie_genre_lst_1M = d['content']"
   ]
  },
  {
   "cell_type": "code",
   "execution_count": 30,
   "metadata": {},
   "outputs": [
    {
     "data": {
      "text/plain": [
       "['Action',\n",
       " 'Western',\n",
       " 'War',\n",
       " \"Children's\",\n",
       " 'Thriller',\n",
       " 'Horror',\n",
       " 'Film-Noir',\n",
       " 'Crime',\n",
       " 'Sci-Fi',\n",
       " 'Musical',\n",
       " 'Adventure',\n",
       " 'Mystery',\n",
       " 'Documentary',\n",
       " 'Romance',\n",
       " 'Fantasy',\n",
       " 'Animation',\n",
       " 'Drama',\n",
       " 'Comedy']"
      ]
     },
     "execution_count": 30,
     "metadata": {},
     "output_type": "execute_result"
    }
   ],
   "source": [
    "movie_genre_lst_1M"
   ]
  },
  {
   "cell_type": "code",
   "execution_count": 29,
   "metadata": {},
   "outputs": [
    {
     "name": "stdout",
     "output_type": "stream",
     "text": [
      "0 in 1M dataset movies miss genres\n"
     ]
    }
   ],
   "source": [
    "cnt = 0\n",
    "for movieid in movie_genre_dict_1M:\n",
    "    if movie_genre_dict_1M[movieid] == []:\n",
    "        cnt += 1\n",
    "print(\"%d in 1M dataset movies miss genres\"%cnt)"
   ]
  },
  {
   "cell_type": "markdown",
   "metadata": {},
   "source": [
    "## 4. Movie Tags Information"
   ]
  },
  {
   "cell_type": "markdown",
   "metadata": {},
   "source": [
    "### 4.1 20M movielens"
   ]
  },
  {
   "cell_type": "code",
   "execution_count": 6,
   "metadata": {},
   "outputs": [],
   "source": [
    "import shelve\n",
    "import pickle\n",
    "with shelve.open(\"./movie-tags-20M/tags_for_all_movie.pkl\", protocol=pickle.HIGHEST_PROTOCOL) as d:\n",
    "    movie_tag_dict_20M = d['content']"
   ]
  },
  {
   "cell_type": "code",
   "execution_count": 7,
   "metadata": {},
   "outputs": [
    {
     "data": {
      "text/plain": [
       "45843"
      ]
     },
     "execution_count": 7,
     "metadata": {},
     "output_type": "execute_result"
    }
   ],
   "source": [
    "len(movie_tag_dict_20M)"
   ]
  },
  {
   "cell_type": "code",
   "execution_count": 8,
   "metadata": {},
   "outputs": [
    {
     "name": "stdout",
     "output_type": "stream",
     "text": [
      "594 in 20M dataset movies miss tags\n"
     ]
    }
   ],
   "source": [
    "cnt = 0\n",
    "for movieid in movie_tag_dict_20M:\n",
    "    if movie_tag_dict_20M[movieid] == \"\":\n",
    "        cnt += 1\n",
    "print(\"%d in 20M dataset movies miss tags\"%cnt)"
   ]
  },
  {
   "cell_type": "markdown",
   "metadata": {},
   "source": [
    "### 4.2 1M movielens"
   ]
  },
  {
   "cell_type": "code",
   "execution_count": 17,
   "metadata": {},
   "outputs": [],
   "source": [
    "import shelve\n",
    "import pickle\n",
    "with shelve.open(\"./movie-tags-1M/tags_for_all_movie_1M.pkl\", protocol=pickle.HIGHEST_PROTOCOL) as d:\n",
    "    movie_tag_dict_1M = d['content']"
   ]
  },
  {
   "cell_type": "code",
   "execution_count": 18,
   "metadata": {},
   "outputs": [
    {
     "data": {
      "text/plain": [
       "3883"
      ]
     },
     "execution_count": 18,
     "metadata": {},
     "output_type": "execute_result"
    }
   ],
   "source": [
    "len(movie_tag_dict_1M)"
   ]
  },
  {
   "cell_type": "code",
   "execution_count": 19,
   "metadata": {},
   "outputs": [
    {
     "name": "stdout",
     "output_type": "stream",
     "text": [
      "12 in 1M dataset movies miss tags\n"
     ]
    }
   ],
   "source": [
    "cnt = 0\n",
    "for movieid in movie_tag_dict_1M:\n",
    "    if movie_tag_dict_1M[movieid] == \"\":\n",
    "        cnt += 1\n",
    "print(\"%d in 1M dataset movies miss tags\"%cnt)"
   ]
  },
  {
   "cell_type": "markdown",
   "metadata": {},
   "source": [
    "## 5. Drop some movies in 1M and 20M whose information are not complete"
   ]
  },
  {
   "cell_type": "markdown",
   "metadata": {},
   "source": [
    "### 5.1 20M movielens"
   ]
  },
  {
   "cell_type": "code",
   "execution_count": 4,
   "metadata": {},
   "outputs": [
    {
     "name": "stdout",
     "output_type": "stream",
     "text": [
      "70\n"
     ]
    }
   ],
   "source": [
    "missing_genre_id_20M = []\n",
    "for movieid in movie_genre_dict_20M:\n",
    "    if movie_genre_dict_20M[movieid] == []:\n",
    "        missing_genre_id_20M.append(movieid)\n",
    "print(len(missing_genre_id_20M))"
   ]
  },
  {
   "cell_type": "code",
   "execution_count": 9,
   "metadata": {},
   "outputs": [
    {
     "name": "stdout",
     "output_type": "stream",
     "text": [
      "594\n"
     ]
    }
   ],
   "source": [
    "missing_tags_id_20M = []\n",
    "for movieid in movie_tag_dict_20M:\n",
    "    if movie_tag_dict_20M[movieid] == \"\":\n",
    "        missing_tags_id_20M.append(movieid)\n",
    "print(len(missing_tags_id_20M))"
   ]
  },
  {
   "cell_type": "code",
   "execution_count": 11,
   "metadata": {},
   "outputs": [
    {
     "data": {
      "text/plain": [
       "644"
      ]
     },
     "execution_count": 11,
     "metadata": {},
     "output_type": "execute_result"
    }
   ],
   "source": [
    "delete_id_20M = list(set(missing_genre_id_20M + missing_tags_id_20M))\n",
    "len(delete_id_20M)"
   ]
  },
  {
   "cell_type": "markdown",
   "metadata": {},
   "source": [
    "### 5.2 1M movielens"
   ]
  },
  {
   "cell_type": "code",
   "execution_count": 16,
   "metadata": {},
   "outputs": [
    {
     "name": "stdout",
     "output_type": "stream",
     "text": [
      "0\n"
     ]
    }
   ],
   "source": [
    "missing_genre_id_1M = []\n",
    "for movieid in movie_genre_dict_1M:\n",
    "    if movie_genre_dict_1M[movieid] == []:\n",
    "        missing_genre_id_1M.append(movieid)\n",
    "print(len(missing_genre_id_1M))"
   ]
  },
  {
   "cell_type": "code",
   "execution_count": 20,
   "metadata": {},
   "outputs": [
    {
     "name": "stdout",
     "output_type": "stream",
     "text": [
      "12\n"
     ]
    }
   ],
   "source": [
    "missing_tags_id_1M = []\n",
    "for movieid in movie_tag_dict_1M:\n",
    "    if movie_tag_dict_1M[movieid] == \"\":\n",
    "        missing_tags_id_1M.append(movieid)\n",
    "print(len(missing_tags_id_1M))"
   ]
  },
  {
   "cell_type": "code",
   "execution_count": 21,
   "metadata": {},
   "outputs": [
    {
     "data": {
      "text/plain": [
       "12"
      ]
     },
     "execution_count": 21,
     "metadata": {},
     "output_type": "execute_result"
    }
   ],
   "source": [
    "delete_id_1M = list(set(missing_genre_id_1M + missing_tags_id_1M))\n",
    "len(delete_id_1M)"
   ]
  },
  {
   "cell_type": "markdown",
   "metadata": {},
   "source": [
    "### 5.3 Dump delete id out"
   ]
  },
  {
   "cell_type": "code",
   "execution_count": 23,
   "metadata": {},
   "outputs": [],
   "source": [
    "import shelve\n",
    "import pickle\n",
    "with shelve.open(\"./delete_movies_id_20M/delete_20M.pkl\", protocol=pickle.HIGHEST_PROTOCOL) as d:\n",
    "    d['content'] = delete_id_20M"
   ]
  },
  {
   "cell_type": "code",
   "execution_count": 24,
   "metadata": {},
   "outputs": [],
   "source": [
    "import shelve\n",
    "import pickle\n",
    "with shelve.open(\"./delete_movies_id_1M/delete_1M.pkl\", protocol=pickle.HIGHEST_PROTOCOL) as d:\n",
    "    d['content'] = delete_id_1M"
   ]
  },
  {
   "cell_type": "code",
   "execution_count": null,
   "metadata": {},
   "outputs": [],
   "source": []
  }
 ],
 "metadata": {
  "kernelspec": {
   "display_name": "Python 3",
   "language": "python",
   "name": "python3"
  },
  "language_info": {
   "codemirror_mode": {
    "name": "ipython",
    "version": 3
   },
   "file_extension": ".py",
   "mimetype": "text/x-python",
   "name": "python",
   "nbconvert_exporter": "python",
   "pygments_lexer": "ipython3",
   "version": "3.6.3"
  }
 },
 "nbformat": 4,
 "nbformat_minor": 2
}
