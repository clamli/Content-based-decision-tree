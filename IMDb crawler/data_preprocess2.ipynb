{
 "cells": [
  {
   "cell_type": "code",
   "execution_count": 116,
   "metadata": {
    "scrolled": false
   },
   "outputs": [],
   "source": [
    "import re\n",
    "\n",
    "# match = re.match(\"(.*)\\((\\d*)\\).*\", \"Associate, The (L'Associe)(1982)\")\n",
    "# if match:\n",
    "#     print(match.group(1))\n",
    "\n",
    "file = open('./ml-1m/movies.dat', 'rb')\n",
    "movie_year_dict = {}\n",
    "movie_name_dict = {}\n",
    "for line in file:\n",
    "    match1 = re.match(\"(.*)\\((\\d*)\\).*\", str(line).split(\"::\")[1])\n",
    "    match2 = re.match(\"([^\\d]*)(.\\d*).*\", str(line).split(\"::\")[0])\n",
    "    # if match1:\n",
    "    movie_name = match1.group(1)\n",
    "    movie_year = int(match1.group(2))\n",
    "#     else:\n",
    "#         movie_name = \"\"\n",
    "#         movie_year = 0\n",
    "    movieid = match2.group(2)\n",
    "    movie_name_dict[movieid] = movie_name\n",
    "    movie_year_dict[movieid] = movie_year\n",
    "\n",
    "# #     year_lst.append(match.group(1))\n",
    "# #print(len(year_lst))"
   ]
  },
  {
   "cell_type": "code",
   "execution_count": 118,
   "metadata": {},
   "outputs": [],
   "source": [
    "import shelve\n",
    "import pickle\n",
    "with shelve.open(\"./movie-years-1M/years_1M.pkl\", protocol=pickle.HIGHEST_PROTOCOL) as d:\n",
    "    d['content'] = movie_year_dict\n",
    "with shelve.open(\"./movie-titles-1M/titles_1M.pkl\", protocol=pickle.HIGHEST_PROTOCOL) as d:\n",
    "    d['content'] = movie_name_dict"
   ]
  },
  {
   "cell_type": "code",
   "execution_count": 56,
   "metadata": {},
   "outputs": [
    {
     "name": "stdout",
     "output_type": "stream",
     "text": [
      "File Read Done!\n"
     ]
    }
   ],
   "source": [
    "movie_dict = {}\n",
    "start = False\n",
    "with open('./ml-latest/links.csv') as csvfile:\n",
    "    reader = csv.reader(csvfile)\n",
    "    for row in reader:\n",
    "        if start is False:\n",
    "            start = True\n",
    "            continue\n",
    "        movie_dict[row[0]] = row[1]\n",
    "print(\"File Read Done!\")\n",
    "\n",
    "\n",
    "def getHtml(url):\n",
    "    with urllib.request.urlopen(url) as page:\n",
    "        html = page.read()\n",
    "        return html\n",
    "    \n",
    "def getYear(html):\n",
    "    soup = BeautifulSoup(html, 'html.parser', from_encoding='utf-8')\n",
    "    # print(html)\n",
    "    year = soup.find('div', 'title_wrapper').h1.span.a.string\n",
    "    return year"
   ]
  },
  {
   "cell_type": "code",
   "execution_count": 72,
   "metadata": {
    "scrolled": true
   },
   "outputs": [
    {
     "name": "stdout",
     "output_type": "stream",
     "text": [
      "done!\n"
     ]
    }
   ],
   "source": [
    "import re\n",
    "import csv\n",
    "import urllib.request\n",
    "from bs4 import BeautifulSoup\n",
    "start = False\n",
    "movie_year_dict_20M = {}\n",
    "movie_name_dict_20M = {}\n",
    "with open('./ml-latest/movies_utf8.csv',encoding='UTF-8') as csvfile:\n",
    "    reader = csv.reader(csvfile)\n",
    "    for row in reader:\n",
    "        if start is False:\n",
    "            start = True\n",
    "            continue\n",
    "        match = re.match(\"(.*)\\((\\d*)\\).*\", row[1])\n",
    "        if not match:\n",
    "            imdb_number = movie_dict[row[0]]\n",
    "            html = getHtml(\"http://www.imdb.com/title/tt%s\"%imdb_number)\n",
    "            year = getYear(html)\n",
    "            movie_year_dict_20M[row[0]] = year\n",
    "            movie_name_dict_20M[row[0]] = row[1]\n",
    "            # print(row[0], \":\", year, row[1])\n",
    "        else:\n",
    "            # print(row[0], \":\", match.group(2))\n",
    "            movie_year_dict_20M[row[0]] = int(match.group(2))\n",
    "            movie_name_dict_20M[row[0]] = match.group(1)\n",
    "print(\"done!\")"
   ]
  },
  {
   "cell_type": "code",
   "execution_count": 78,
   "metadata": {},
   "outputs": [],
   "source": [
    "import shelve\n",
    "import pickle\n",
    "with shelve.open(\"./movie-years-20M/years_20M.pkl\", protocol=pickle.HIGHEST_PROTOCOL) as d:\n",
    "    d['content'] = movie_year_dict_20M\n",
    "with shelve.open(\"./movie-titles-20M/titles_20M.pkl\", protocol=pickle.HIGHEST_PROTOCOL) as d:\n",
    "    d['content'] = movie_name_dict_20M"
   ]
  },
  {
   "cell_type": "code",
   "execution_count": null,
   "metadata": {},
   "outputs": [],
   "source": []
  }
 ],
 "metadata": {
  "kernelspec": {
   "display_name": "Python 3",
   "language": "python",
   "name": "python3"
  },
  "language_info": {
   "codemirror_mode": {
    "name": "ipython",
    "version": 3
   },
   "file_extension": ".py",
   "mimetype": "text/x-python",
   "name": "python",
   "nbconvert_exporter": "python",
   "pygments_lexer": "ipython3",
   "version": "3.6.3"
  }
 },
 "nbformat": 4,
 "nbformat_minor": 2
}
