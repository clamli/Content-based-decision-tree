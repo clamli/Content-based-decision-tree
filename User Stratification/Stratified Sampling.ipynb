{
 "cells": [
  {
   "cell_type": "markdown",
   "metadata": {},
   "source": [
    "## User Partition"
   ]
  },
  {
   "cell_type": "code",
   "execution_count": 28,
   "metadata": {},
   "outputs": [
    {
     "name": "stdout",
     "output_type": "stream",
     "text": [
      "6040\n",
      "6040\n"
     ]
    }
   ],
   "source": [
    "file = open('./ml-1m/users.dat', 'rb')\n",
    "user_stratification = {\n",
    "    'm_m': [],\n",
    "    'm_a': [],\n",
    "    'm_o': [],\n",
    "    'f_m': [],\n",
    "    'f_a': [],\n",
    "    'f_o': []\n",
    "}\n",
    "cnt = 0\n",
    "for line in file:\n",
    "    cnt += 1\n",
    "    #print(str(line).split(\"::\")[0][2:])\n",
    "    row_list = str(line).split(\"::\")\n",
    "    uid = int(row_list[0][2:])\n",
    "    gender = row_list[1]\n",
    "    age = int(row_list[2])\n",
    "    \n",
    "    if gender == 'M':\n",
    "        if age == 1:\n",
    "            user_stratification['m_m'].append(uid)\n",
    "        elif age <= 35:\n",
    "            user_stratification['m_a'].append(uid)\n",
    "        elif age >= 45:\n",
    "            user_stratification['m_o'].append(uid)\n",
    "    elif gender == 'F':\n",
    "        if age == 1:\n",
    "            user_stratification['f_m'].append(uid)\n",
    "        elif age <= 35:\n",
    "            user_stratification['f_a'].append(uid)\n",
    "        elif age >= 45:\n",
    "            user_stratification['f_o'].append(uid)\n",
    "print(cnt)\n",
    "length = len(user_stratification['m_m']) \\\n",
    "            + len(user_stratification['m_a']) \\\n",
    "            + len(user_stratification['m_o']) \\\n",
    "            + len(user_stratification['f_m']) \\\n",
    "            + len(user_stratification['f_a']) \\\n",
    "            + len(user_stratification['f_o'])\n",
    "print(length)"
   ]
  },
  {
   "cell_type": "markdown",
   "metadata": {},
   "source": [
    "## User Sampling"
   ]
  },
  {
   "cell_type": "code",
   "execution_count": 29,
   "metadata": {},
   "outputs": [],
   "source": [
    "user_sampling = {\n",
    "    '1': [],\n",
    "    '2': [],\n",
    "    '3': []\n",
    "}\n",
    "mm_bound1 = round(len(user_stratification['m_m'])/3)\n",
    "mm_bound2 = round(2*len(user_stratification['m_m'])/3)\n",
    "\n",
    "ma_bound1 = round(len(user_stratification['m_a'])/3)\n",
    "ma_bound2 = round(2*len(user_stratification['m_a'])/3)\n",
    "\n",
    "mo_bound1 = round(len(user_stratification['m_o'])/3)\n",
    "mo_bound2 = round(2*len(user_stratification['m_o'])/3)\n",
    "\n",
    "fm_bound1 = round(len(user_stratification['f_m'])/3)\n",
    "fm_bound2 = round(2*len(user_stratification['f_m'])/3)\n",
    "\n",
    "fa_bound1 = round(len(user_stratification['f_a'])/3)\n",
    "fa_bound2 = round(2*len(user_stratification['f_a'])/3)\n",
    "\n",
    "fo_bound1 = round(len(user_stratification['f_o'])/3)\n",
    "fo_bound2 = round(2*len(user_stratification['f_o'])/3)"
   ]
  },
  {
   "cell_type": "code",
   "execution_count": 30,
   "metadata": {},
   "outputs": [],
   "source": [
    "user_sampling['1'] = user_stratification['m_m'][0:mm_bound1] + user_stratification['m_a'][0:ma_bound1] \\\n",
    "                    + user_stratification['m_o'][0:mo_bound1] + user_stratification['f_m'][0:fm_bound1] \\\n",
    "                    + user_stratification['f_a'][0:fa_bound1] + user_stratification['f_o'][0:fo_bound1]\n",
    "\n",
    "user_sampling['2'] = user_stratification['m_m'][mm_bound1:mm_bound2] + user_stratification['m_a'][ma_bound1:ma_bound2] \\\n",
    "                    + user_stratification['m_o'][mo_bound1:mo_bound2] + user_stratification['f_m'][fm_bound1:fm_bound2] \\\n",
    "                    + user_stratification['f_a'][fa_bound1:fa_bound2] + user_stratification['f_o'][fo_bound1:fo_bound2]\n",
    "        \n",
    "user_sampling['3'] = user_stratification['m_m'][mm_bound2:] + user_stratification['m_a'][ma_bound2:] \\\n",
    "                    + user_stratification['m_o'][mo_bound2:] + user_stratification['f_m'][fm_bound2:] \\\n",
    "                    + user_stratification['f_a'][fa_bound2:] + user_stratification['f_o'][fo_bound2:]"
   ]
  },
  {
   "cell_type": "code",
   "execution_count": 31,
   "metadata": {},
   "outputs": [
    {
     "data": {
      "text/plain": [
       "6040"
      ]
     },
     "execution_count": 31,
     "metadata": {},
     "output_type": "execute_result"
    }
   ],
   "source": [
    "len(user_sampling['1'])+len(user_sampling['2'])+len(user_sampling['3'])"
   ]
  },
  {
   "cell_type": "markdown",
   "metadata": {},
   "source": [
    "## Save to Matlab Files"
   ]
  },
  {
   "cell_type": "code",
   "execution_count": 32,
   "metadata": {},
   "outputs": [
    {
     "name": "stdout",
     "output_type": "stream",
     "text": [
      "Done!\n"
     ]
    }
   ],
   "source": [
    "import scipy.io as sio\n",
    "import numpy as np\n",
    "sio.savemat('./User Stratification/users1.mat', {'users': np.array(user_sampling['1'])})\n",
    "sio.savemat('./User Stratification/users2.mat', {'users': np.array(user_sampling['2'])})\n",
    "sio.savemat('./User Stratification/users3.mat', {'users': np.array(user_sampling['3'])})\n",
    "print('Done!')"
   ]
  },
  {
   "cell_type": "code",
   "execution_count": null,
   "metadata": {},
   "outputs": [],
   "source": []
  }
 ],
 "metadata": {
  "kernelspec": {
   "display_name": "Python 3",
   "language": "python",
   "name": "python3"
  },
  "language_info": {
   "codemirror_mode": {
    "name": "ipython",
    "version": 3
   },
   "file_extension": ".py",
   "mimetype": "text/x-python",
   "name": "python",
   "nbconvert_exporter": "python",
   "pygments_lexer": "ipython3",
   "version": "3.6.3"
  }
 },
 "nbformat": 4,
 "nbformat_minor": 2
}
