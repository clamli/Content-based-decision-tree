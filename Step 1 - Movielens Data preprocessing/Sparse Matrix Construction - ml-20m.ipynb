{
 "cells": [
  {
   "cell_type": "code",
   "execution_count": 1,
   "metadata": {
    "collapsed": true
   },
   "outputs": [],
   "source": [
    "import pandas as pd\n",
    "\n",
    "import shelve\n",
    "import pickle\n",
    "\n",
    "import scipy.io as sio\n",
    "from scipy.sparse import *\n",
    "\n",
    "import numpy as np\n",
    "import matplotlib.pyplot as plt"
   ]
  },
  {
   "cell_type": "code",
   "execution_count": 2,
   "metadata": {
    "collapsed": true
   },
   "outputs": [],
   "source": [
    "ratingsFrame = pd.read_csv(\"ml-20m/csv/ratings.csv\").loc[:,[\"userId\", \"movieId\", \"rating\"]]\n",
    "moviesFrame = pd.read_csv(\"ml-20m/csv/movies.csv\").loc[:,[\"movieId\"]]"
   ]
  },
  {
   "cell_type": "code",
   "execution_count": 21,
   "metadata": {
    "collapsed": true
   },
   "outputs": [],
   "source": [
    "# ratingsFrame.iloc[ratingsFrame.shape[0] - 1][\"userId\"]\n",
    "# ratingsFrame.shape\n",
    "# type(ratingsFrame.loc[1,\"rating\"])"
   ]
  },
  {
   "cell_type": "markdown",
   "metadata": {},
   "source": [
    "#### movieId range:"
   ]
  },
  {
   "cell_type": "code",
   "execution_count": 5,
   "metadata": {},
   "outputs": [
    {
     "data": {
      "text/plain": [
       "131262"
      ]
     },
     "execution_count": 5,
     "metadata": {},
     "output_type": "execute_result"
    }
   ],
   "source": [
    "moviesFrame.iloc[moviesFrame.shape[0] - 1][\"movieId\"]"
   ]
  },
  {
   "cell_type": "code",
   "execution_count": null,
   "metadata": {
    "collapsed": true
   },
   "outputs": [],
   "source": [
    "ratingsFrame.sort_values(by = 'movieId', ascending=True, inplace=False).iloc[ratingsFrame.shape[0] - 1][\"movieId\"]"
   ]
  },
  {
   "cell_type": "markdown",
   "metadata": {},
   "source": [
    "####  generate sparse matrix:"
   ]
  },
  {
   "cell_type": "code",
   "execution_count": 7,
   "metadata": {
    "scrolled": true
   },
   "outputs": [
    {
     "name": "stdout",
     "output_type": "stream",
     "text": [
      "0.00%\n",
      "0.50%\n",
      "1.00%\n",
      "1.50%\n",
      "2.00%\n",
      "2.50%\n",
      "3.00%\n",
      "3.50%\n",
      "4.00%\n",
      "4.50%\n",
      "5.00%\n",
      "5.50%\n",
      "6.00%\n",
      "6.50%\n",
      "7.00%\n",
      "7.50%\n",
      "8.00%\n",
      "8.50%\n",
      "9.00%\n",
      "9.50%\n",
      "10.00%\n",
      "10.50%\n",
      "11.00%\n",
      "11.50%\n",
      "12.00%\n",
      "12.50%\n",
      "13.00%\n",
      "13.50%\n",
      "14.00%\n",
      "14.50%\n",
      "15.00%\n",
      "15.50%\n",
      "16.00%\n",
      "16.50%\n",
      "17.00%\n",
      "17.50%\n",
      "18.00%\n",
      "18.50%\n",
      "19.00%\n",
      "19.50%\n",
      "20.00%\n",
      "20.50%\n",
      "21.00%\n",
      "21.50%\n",
      "22.00%\n",
      "22.50%\n",
      "23.00%\n",
      "23.50%\n",
      "24.00%\n",
      "24.50%\n",
      "25.00%\n",
      "25.50%\n",
      "26.00%\n",
      "26.50%\n",
      "27.00%\n",
      "27.50%\n",
      "28.00%\n",
      "28.50%\n",
      "29.00%\n",
      "29.50%\n",
      "30.00%\n",
      "30.50%\n",
      "31.00%\n",
      "31.50%\n",
      "32.00%\n",
      "32.50%\n",
      "33.00%\n",
      "33.50%\n",
      "34.00%\n",
      "34.50%\n",
      "35.00%\n",
      "35.50%\n",
      "36.00%\n",
      "36.50%\n",
      "37.00%\n",
      "37.50%\n",
      "38.00%\n",
      "38.50%\n",
      "39.00%\n",
      "39.50%\n",
      "40.00%\n",
      "40.50%\n",
      "41.00%\n",
      "41.50%\n",
      "42.00%\n",
      "42.50%\n",
      "43.00%\n",
      "43.50%\n",
      "44.00%\n",
      "44.50%\n",
      "45.00%\n",
      "45.50%\n",
      "46.00%\n",
      "46.50%\n",
      "47.00%\n",
      "47.50%\n",
      "48.00%\n",
      "48.50%\n",
      "49.00%\n",
      "49.50%\n",
      "50.00%\n",
      "50.50%\n",
      "51.00%\n",
      "51.50%\n",
      "52.00%\n",
      "52.50%\n",
      "53.00%\n",
      "53.50%\n",
      "54.00%\n",
      "54.50%\n",
      "55.00%\n",
      "55.50%\n",
      "56.00%\n",
      "56.50%\n",
      "57.00%\n",
      "57.50%\n",
      "58.00%\n",
      "58.50%\n",
      "59.00%\n",
      "59.50%\n",
      "60.00%\n",
      "60.50%\n",
      "61.00%\n",
      "61.50%\n",
      "62.00%\n",
      "62.50%\n",
      "63.00%\n",
      "63.50%\n",
      "64.00%\n",
      "64.50%\n",
      "65.00%\n",
      "65.50%\n",
      "66.00%\n",
      "66.50%\n",
      "67.00%\n",
      "67.50%\n",
      "68.00%\n",
      "68.50%\n",
      "69.00%\n",
      "69.50%\n",
      "70.00%\n",
      "70.50%\n",
      "71.00%\n",
      "71.50%\n",
      "72.00%\n",
      "72.50%\n",
      "73.00%\n",
      "73.50%\n",
      "74.00%\n",
      "74.50%\n",
      "75.00%\n",
      "75.50%\n",
      "76.00%\n",
      "76.50%\n",
      "77.00%\n",
      "77.50%\n",
      "78.00%\n",
      "78.50%\n",
      "79.00%\n",
      "79.50%\n",
      "80.00%\n",
      "80.50%\n",
      "81.00%\n",
      "81.50%\n",
      "82.00%\n",
      "82.50%\n",
      "83.00%\n",
      "83.50%\n",
      "84.00%\n",
      "84.50%\n",
      "85.00%\n",
      "85.50%\n",
      "86.00%\n",
      "86.50%\n",
      "87.00%\n",
      "87.50%\n",
      "88.00%\n",
      "88.50%\n",
      "89.00%\n",
      "89.50%\n",
      "90.00%\n",
      "90.50%\n",
      "91.00%\n",
      "91.50%\n",
      "92.00%\n",
      "92.50%\n",
      "93.00%\n",
      "93.50%\n",
      "94.00%\n",
      "94.50%\n",
      "95.00%\n",
      "95.50%\n",
      "96.00%\n",
      "96.50%\n",
      "97.00%\n",
      "97.50%\n",
      "98.00%\n",
      "98.50%\n",
      "99.00%\n",
      "99.50%\n",
      "100.00%\n"
     ]
    }
   ],
   "source": [
    "rating_matrix_lil = coo_matrix(([], ([], [])), shape=(138493 + 1, 131262 + 1)).tolil()\n",
    "for index, row in ratingsFrame.iterrows():\n",
    "    if index % 100000 == 0:\n",
    "        print(\"%.2f%%\" % (100 * index / ratingsFrame.shape[0]))  \n",
    "    rating_matrix_lil[row[\"userId\"], row[\"movieId\"]] = row[\"rating\"]"
   ]
  },
  {
   "cell_type": "code",
   "execution_count": 8,
   "metadata": {},
   "outputs": [
    {
     "data": {
      "text/plain": [
       "<138494x131263 sparse matrix of type '<class 'numpy.float64'>'\n",
       "\twith 20000263 stored elements in LInked List format>"
      ]
     },
     "execution_count": 8,
     "metadata": {},
     "output_type": "execute_result"
    }
   ],
   "source": [
    "save_npz('ml-latest/sparse_matrix_ml-latest.npz', rating_matrix_lil.tocsr())\n",
    "rating_matrix_lil"
   ]
  },
  {
   "cell_type": "markdown",
   "metadata": {},
   "source": [
    "## Tag explore"
   ]
  },
  {
   "cell_type": "code",
   "execution_count": 9,
   "metadata": {},
   "outputs": [
    {
     "data": {
      "text/plain": [
       "4769"
      ]
     },
     "execution_count": 9,
     "metadata": {},
     "output_type": "execute_result"
    }
   ],
   "source": [
    "import shelve\n",
    "import pickle\n",
    "d = shelve.open('tags_for_all_movie.pkl', protocol = pickle.HIGHEST_PROTOCOL)\n",
    "tags_for_all_movie = d['content']\n",
    "d.close()\n",
    "movieId_empty = []\n",
    "for movieId in tags_for_all_movie:\n",
    "    if(tags_for_all_movie[movieId] == \"\"):\n",
    "        movieId_empty.append(int(movieId))\n",
    "len(movieId_empty)"
   ]
  },
  {
   "cell_type": "code",
   "execution_count": 10,
   "metadata": {},
   "outputs": [
    {
     "data": {
      "text/plain": [
       "<270897x4769 sparse matrix of type '<class 'numpy.float64'>'\n",
       "\twith 26394 stored elements in Compressed Sparse Row format>"
      ]
     },
     "execution_count": 10,
     "metadata": {},
     "output_type": "execute_result"
    }
   ],
   "source": [
    "rating_matrix_csr[:,movieId_empty]"
   ]
  },
  {
   "cell_type": "code",
   "execution_count": 11,
   "metadata": {},
   "outputs": [
    {
     "data": {
      "text/plain": [
       "<270897x1 sparse matrix of type '<class 'numpy.float64'>'\n",
       "\twith 27 stored elements in Compressed Sparse Row format>"
      ]
     },
     "execution_count": 11,
     "metadata": {},
     "output_type": "execute_result"
    }
   ],
   "source": [
    "rating_matrix_csr[:,135145]"
   ]
  },
  {
   "cell_type": "markdown",
   "metadata": {},
   "source": [
    "## Eliminate item with scarce info"
   ]
  },
  {
   "cell_type": "markdown",
   "metadata": {},
   "source": [
    "### preview movies without ratings in rating dataset"
   ]
  },
  {
   "cell_type": "code",
   "execution_count": 3,
   "metadata": {
    "collapsed": true
   },
   "outputs": [],
   "source": [
    "movieId_list = list(moviesFrame.as_matrix().T[0])\n",
    "movieId_list.remove(176279)"
   ]
  },
  {
   "cell_type": "code",
   "execution_count": 4,
   "metadata": {},
   "outputs": [
    {
     "data": {
      "text/plain": [
       "<270897x45842 sparse matrix of type '<class 'numpy.float64'>'\n",
       "\twith 26024289 stored elements in Compressed Sparse Column format>"
      ]
     },
     "execution_count": 4,
     "metadata": {},
     "output_type": "execute_result"
    }
   ],
   "source": [
    "rating_matrix_csc = load_npz('ml-latest/sparse_matrix_ml-latest.npz').tocsc()\n",
    "rating_matrix_csc = rating_matrix_csc[:, movieId_list]\n",
    "rating_matrix_csc"
   ]
  },
  {
   "cell_type": "code",
   "execution_count": 5,
   "metadata": {
    "collapsed": true
   },
   "outputs": [],
   "source": [
    "map_list = list(set(find(rating_matrix_csc)[1]))\n",
    "map_list.sort()"
   ]
  },
  {
   "cell_type": "code",
   "execution_count": 6,
   "metadata": {},
   "outputs": [
    {
     "data": {
      "text/plain": [
       "728"
      ]
     },
     "execution_count": 6,
     "metadata": {},
     "output_type": "execute_result"
    }
   ],
   "source": [
    "movieId_list = moviesFrame.as_matrix().T[0]\n",
    "del_list = list(movieId_list[list(set(list(range(0, 45842))) - set(map_list))])\n",
    "del_list.append(176279)\n",
    "len(del_list)"
   ]
  },
  {
   "cell_type": "code",
   "execution_count": 9,
   "metadata": {},
   "outputs": [
    {
     "data": {
      "text/plain": [
       "[151111, 112648, 169384, 169612, 169614, 169362, 169620, 169562, 104095]"
      ]
     },
     "execution_count": 9,
     "metadata": {},
     "output_type": "execute_result"
    }
   ],
   "source": [
    "d = shelve.open('ml-latest/delete_movies_id_20M/delete_20M.pkl', protocol = pickle.HIGHEST_PROTOCOL)\n",
    "deleteID_20m = d['content']\n",
    "deleteID_20m = list(map(int, deleteID_20m))\n",
    "d.close()\n",
    "list(set(deleteID_20m) & set(del_list))"
   ]
  },
  {
   "cell_type": "code",
   "execution_count": 124,
   "metadata": {
    "collapsed": true
   },
   "outputs": [],
   "source": [
    "d = shelve.open('ml-latest/empty_movies', protocol = pickle.HIGHEST_PROTOCOL)\n",
    "d['content'] = del_list\n",
    "d.close()"
   ]
  },
  {
   "cell_type": "markdown",
   "metadata": {},
   "source": [
    "### delete specified"
   ]
  },
  {
   "cell_type": "code",
   "execution_count": 111,
   "metadata": {},
   "outputs": [
    {
     "data": {
      "text/plain": [
       "<270897x176276 sparse matrix of type '<class 'numpy.float64'>'\n",
       "\twith 26024289 stored elements in LInked List format>"
      ]
     },
     "execution_count": 111,
     "metadata": {},
     "output_type": "execute_result"
    }
   ],
   "source": [
    "rating_matrix_lil = load_npz('ml-latest/sparse_matrix_ml-latest.npz').tolil()\n",
    "rating_matrix_lil"
   ]
  },
  {
   "cell_type": "code",
   "execution_count": 112,
   "metadata": {},
   "outputs": [
    {
     "data": {
      "text/plain": [
       "<270897x644 sparse matrix of type '<class 'numpy.float64'>'\n",
       "\twith 1773 stored elements in LInked List format>"
      ]
     },
     "execution_count": 112,
     "metadata": {},
     "output_type": "execute_result"
    }
   ],
   "source": [
    "d = shelve.open('ml-latest/delete_movies_id_20M/delete_20M.pkl', protocol = pickle.HIGHEST_PROTOCOL)\n",
    "deleteID_20m = d['content']\n",
    "d.close()\n",
    "deleteID_20m = list(map(int, deleteID_20m))\n",
    "rating_matrix_lil[:,deleteID_20m]"
   ]
  },
  {
   "cell_type": "code",
   "execution_count": 113,
   "metadata": {},
   "outputs": [
    {
     "data": {
      "text/plain": [
       "<270897x176276 sparse matrix of type '<class 'numpy.float64'>'\n",
       "\twith 26022516 stored elements in LInked List format>"
      ]
     },
     "execution_count": 113,
     "metadata": {},
     "output_type": "execute_result"
    }
   ],
   "source": [
    "rating_matrix_lil[:,deleteID_20m] = 0\n",
    "rating_matrix_lil"
   ]
  },
  {
   "cell_type": "markdown",
   "metadata": {},
   "source": [
    "### compress matrix"
   ]
  },
  {
   "cell_type": "code",
   "execution_count": 114,
   "metadata": {
    "collapsed": true
   },
   "outputs": [],
   "source": [
    "map_list = list(set(find(rating_matrix_lil)[1]))\n",
    "map_list.sort()"
   ]
  },
  {
   "cell_type": "code",
   "execution_count": 115,
   "metadata": {},
   "outputs": [
    {
     "data": {
      "text/plain": [
       "<270897x176276 sparse matrix of type '<class 'numpy.float64'>'\n",
       "\twith 26024289 stored elements in Compressed Sparse Column format>"
      ]
     },
     "execution_count": 115,
     "metadata": {},
     "output_type": "execute_result"
    }
   ],
   "source": [
    "del rating_matrix_lil\n",
    "rating_matrix_csc = load_npz('ml-latest/sparse_matrix_ml-latest.npz').tocsc()\n",
    "rating_matrix_csc"
   ]
  },
  {
   "cell_type": "code",
   "execution_count": 116,
   "metadata": {},
   "outputs": [
    {
     "data": {
      "text/plain": [
       "<270896x44480 sparse matrix of type '<class 'numpy.float64'>'\n",
       "\twith 26022516 stored elements in Compressed Sparse Column format>"
      ]
     },
     "execution_count": 116,
     "metadata": {},
     "output_type": "execute_result"
    }
   ],
   "source": [
    "rating_matrix_csc = rating_matrix_csc[1:,map_list]\n",
    "rating_matrix_csc"
   ]
  },
  {
   "cell_type": "code",
   "execution_count": 118,
   "metadata": {
    "collapsed": true
   },
   "outputs": [],
   "source": [
    "save_npz('ml-latest/sparse_matrix_ml-latest_selected.npz', rating_matrix_csc)\n",
    "d = shelve.open('ml-latest/map_list_ml-latest', protocol = pickle.HIGHEST_PROTOCOL)\n",
    "d['content'] = map_list\n",
    "d.close()"
   ]
  },
  {
   "cell_type": "markdown",
   "metadata": {
    "collapsed": true
   },
   "source": [
    "## convert to mat"
   ]
  },
  {
   "cell_type": "code",
   "execution_count": 48,
   "metadata": {
    "collapsed": true
   },
   "outputs": [],
   "source": [
    "rating_matrix_csc = load_npz('ml-latest/sparse_matrix_ml-latest_selected.npz').tocsc()\n",
    "sio.savemat('../Step 2 - User Clustering/data/sparse_matrix_ml-latest.mat', {'UI_matrix': rating_matrix_csc})"
   ]
  },
  {
   "cell_type": "code",
   "execution_count": 50,
   "metadata": {
    "collapsed": true
   },
   "outputs": [],
   "source": [
    "d = shelve.open('ml-latest/map_list_ml-latest', protocol = pickle.HIGHEST_PROTOCOL)\n",
    "map_list = d['content'] \n",
    "d.close()\n",
    "sio.savemat('../Step 2 - User Clustering/data/map_list_ml-latest.mat', {'map_list': map_list})"
   ]
  },
  {
   "cell_type": "markdown",
   "metadata": {},
   "source": [
    "## data explore"
   ]
  },
  {
   "cell_type": "code",
   "execution_count": 3,
   "metadata": {
    "collapsed": true
   },
   "outputs": [],
   "source": [
    "rating_matrix_csc = load_npz('ml-latest/sparse_matrix_ml-latest_selected.npz')\n",
    "\n",
    "items = rating_matrix_csc[:, 0:rating_matrix_csc.shape[1]].getnnz(axis=0).tolist()\n",
    "users = rating_matrix_csc[0:rating_matrix_csc.shape[0], :].getnnz(axis=1).tolist()"
   ]
  },
  {
   "cell_type": "code",
   "execution_count": 4,
   "metadata": {},
   "outputs": [
    {
     "data": {
      "image/png": "[encoded data removed]",
      "text/plain": [
       "<matplotlib.figure.Figure at 0x1538c8d3da0>"
      ]
     },
     "metadata": {},
     "output_type": "display_data"
    }
   ],
   "source": [
    "n, bins, patches = plt.hist(np.array(items), 1000, facecolor='g',cumulative=False, alpha=0.75)\n",
    "\n",
    "plt.xlabel('number of ratings')\n",
    "plt.ylabel('number of items')\n",
    "plt.title('distribution of rating')\n",
    "plt.axis([25000, 35000, 0, 50])\n",
    "plt.grid(True)\n",
    "plt.show()"
   ]
  },
  {
   "cell_type": "code",
   "execution_count": 5,
   "metadata": {},
   "outputs": [
    {
     "data": {
      "image/png": "[encoded data removed]",
      "text/plain": [
       "<matplotlib.figure.Figure at 0x153a0b77cc0>"
      ]
     },
     "metadata": {},
     "output_type": "display_data"
    }
   ],
   "source": [
    "plt.plot(items)\n",
    "plt.show()"
   ]
  },
  {
   "cell_type": "code",
   "execution_count": 6,
   "metadata": {},
   "outputs": [
    {
     "data": {
      "image/png": "[encoded data removed]",
      "text/plain": [
       "<matplotlib.figure.Figure at 0x25c44a39710>"
      ]
     },
     "metadata": {},
     "output_type": "display_data"
    }
   ],
   "source": [
    "plt.plot(users)\n",
    "plt.show()"
   ]
  },
  {
   "cell_type": "code",
   "execution_count": 2,
   "metadata": {
    "collapsed": true
   },
   "outputs": [],
   "source": [
    "d = shelve.open('ml-latest/map_list_ml-latest', protocol = pickle.HIGHEST_PROTOCOL)\n",
    "map_list = d['content']\n",
    "d.close()"
   ]
  },
  {
   "cell_type": "code",
   "execution_count": 6,
   "metadata": {},
   "outputs": [
    {
     "data": {
      "text/plain": [
       "65"
      ]
     },
     "execution_count": 6,
     "metadata": {},
     "output_type": "execute_result"
    }
   ],
   "source": [
    "map_list[65 - 1]"
   ]
  },
  {
   "cell_type": "code",
   "execution_count": null,
   "metadata": {
    "collapsed": true
   },
   "outputs": [],
   "source": []
  }
 ],
 "metadata": {
  "kernelspec": {
   "display_name": "Python 3",
   "language": "python",
   "name": "python3"
  },
  "language_info": {
   "codemirror_mode": {
    "name": "ipython",
    "version": 3
   },
   "file_extension": ".py",
   "mimetype": "text/x-python",
   "name": "python",
   "nbconvert_exporter": "python",
   "pygments_lexer": "ipython3",
   "version": "3.5.0"
  }
 },
 "nbformat": 4,
 "nbformat_minor": 2
}
