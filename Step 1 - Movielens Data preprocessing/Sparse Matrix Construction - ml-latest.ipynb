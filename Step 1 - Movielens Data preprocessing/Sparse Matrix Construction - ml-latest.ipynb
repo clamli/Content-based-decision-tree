{
 "cells": [
  {
   "cell_type": "code",
   "execution_count": 1,
   "metadata": {
    "collapsed": true
   },
   "outputs": [],
   "source": [
    "import pandas as pd\n",
    "import shelve\n",
    "import pickle\n",
    "import scipy.io as sio\n",
    "from scipy.sparse import *"
   ]
  },
  {
   "cell_type": "code",
   "execution_count": 2,
   "metadata": {
    "collapsed": true
   },
   "outputs": [],
   "source": [
    "ratingsFrame = pd.read_csv(\"ml-latest/csv/ratings.csv\").loc[:,[\"userId\", \"movieId\", \"rating\"]]\n",
    "moviesFrame = pd.read_csv(\"ml-latest/csv/movies.csv\").loc[:,[\"movieId\"]]"
   ]
  },
  {
   "cell_type": "code",
   "execution_count": 21,
   "metadata": {
    "collapsed": true
   },
   "outputs": [],
   "source": [
    "# ratingsFrame.iloc[ratingsFrame.shape[0] - 1][\"userId\"]\n",
    "# ratingsFrame.shape\n",
    "# type(ratingsFrame.loc[1,\"rating\"])"
   ]
  },
  {
   "cell_type": "code",
   "execution_count": 25,
   "metadata": {},
   "outputs": [
    {
     "data": {
      "text/plain": [
       "176279"
      ]
     },
     "execution_count": 25,
     "metadata": {},
     "output_type": "execute_result"
    }
   ],
   "source": [
    "moviesFrame.iloc[moviesFrame.shape[0] - 1][\"movieId\"]"
   ]
  },
  {
   "cell_type": "code",
   "execution_count": 22,
   "metadata": {
    "scrolled": true
   },
   "outputs": [
    {
     "data": {
      "text/plain": [
       "176275.0"
      ]
     },
     "execution_count": 22,
     "metadata": {},
     "output_type": "execute_result"
    }
   ],
   "source": [
    "ratingsFrame.sort_values(by = 'movieId', ascending=True, inplace=False).iloc[ratingsFrame.shape[0] - 1][\"movieId\"]"
   ]
  },
  {
   "cell_type": "code",
   "execution_count": 26,
   "metadata": {
    "scrolled": true
   },
   "outputs": [
    {
     "name": "stdout",
     "output_type": "stream",
     "text": [
      "0.00%\n",
      "0.38%\n",
      "0.77%\n",
      "1.15%\n",
      "1.54%\n",
      "1.92%\n",
      "2.31%\n",
      "2.69%\n",
      "3.07%\n",
      "3.46%\n",
      "3.84%\n",
      "4.23%\n",
      "4.61%\n",
      "5.00%\n",
      "5.38%\n",
      "5.76%\n",
      "6.15%\n",
      "6.53%\n",
      "6.92%\n",
      "7.30%\n",
      "7.69%\n",
      "8.07%\n",
      "8.45%\n",
      "8.84%\n",
      "9.22%\n",
      "9.61%\n",
      "9.99%\n",
      "10.37%\n",
      "10.76%\n",
      "11.14%\n",
      "11.53%\n",
      "11.91%\n",
      "12.30%\n",
      "12.68%\n",
      "13.06%\n",
      "13.45%\n",
      "13.83%\n",
      "14.22%\n",
      "14.60%\n",
      "14.99%\n",
      "15.37%\n",
      "15.75%\n",
      "16.14%\n",
      "16.52%\n",
      "16.91%\n",
      "17.29%\n",
      "17.68%\n",
      "18.06%\n",
      "18.44%\n",
      "18.83%\n",
      "19.21%\n",
      "19.60%\n",
      "19.98%\n",
      "20.37%\n",
      "20.75%\n",
      "21.13%\n",
      "21.52%\n",
      "21.90%\n",
      "22.29%\n",
      "22.67%\n",
      "23.06%\n",
      "23.44%\n",
      "23.82%\n",
      "24.21%\n",
      "24.59%\n",
      "24.98%\n",
      "25.36%\n",
      "25.75%\n",
      "26.13%\n",
      "26.51%\n",
      "26.90%\n",
      "27.28%\n",
      "27.67%\n",
      "28.05%\n",
      "28.43%\n",
      "28.82%\n",
      "29.20%\n",
      "29.59%\n",
      "29.97%\n",
      "30.36%\n",
      "30.74%\n",
      "31.12%\n",
      "31.51%\n",
      "31.89%\n",
      "32.28%\n",
      "32.66%\n",
      "33.05%\n",
      "33.43%\n",
      "33.81%\n",
      "34.20%\n",
      "34.58%\n",
      "34.97%\n",
      "35.35%\n",
      "35.74%\n",
      "36.12%\n",
      "36.50%\n"
     ]
    },
    {
     "ename": "KeyboardInterrupt",
     "evalue": "",
     "output_type": "error",
     "traceback": [
      "\u001b[1;31m---------------------------------------------------------------------------\u001b[0m",
      "\u001b[1;31mKeyboardInterrupt\u001b[0m                         Traceback (most recent call last)",
      "\u001b[1;32m<ipython-input-26-2b920f8d443f>\u001b[0m in \u001b[0;36m<module>\u001b[1;34m()\u001b[0m\n\u001b[0;32m      3\u001b[0m     \u001b[1;32mif\u001b[0m \u001b[0mindex\u001b[0m \u001b[1;33m%\u001b[0m \u001b[1;36m100000\u001b[0m \u001b[1;33m==\u001b[0m \u001b[1;36m0\u001b[0m\u001b[1;33m:\u001b[0m\u001b[1;33m\u001b[0m\u001b[0m\n\u001b[0;32m      4\u001b[0m         \u001b[0mprint\u001b[0m\u001b[1;33m(\u001b[0m\u001b[1;34m\"%.2f%%\"\u001b[0m \u001b[1;33m%\u001b[0m \u001b[1;33m(\u001b[0m\u001b[1;36m100\u001b[0m \u001b[1;33m*\u001b[0m \u001b[0mindex\u001b[0m \u001b[1;33m/\u001b[0m \u001b[0mratingsFrame\u001b[0m\u001b[1;33m.\u001b[0m\u001b[0mshape\u001b[0m\u001b[1;33m[\u001b[0m\u001b[1;36m0\u001b[0m\u001b[1;33m]\u001b[0m\u001b[1;33m)\u001b[0m\u001b[1;33m)\u001b[0m\u001b[1;33m\u001b[0m\u001b[0m\n\u001b[1;32m----> 5\u001b[1;33m     \u001b[0mrating_matrix_lil\u001b[0m\u001b[1;33m[\u001b[0m\u001b[0mrow\u001b[0m\u001b[1;33m[\u001b[0m\u001b[1;34m\"userId\"\u001b[0m\u001b[1;33m]\u001b[0m\u001b[1;33m,\u001b[0m \u001b[0mrow\u001b[0m\u001b[1;33m[\u001b[0m\u001b[1;34m\"movieId\"\u001b[0m\u001b[1;33m]\u001b[0m\u001b[1;33m]\u001b[0m \u001b[1;33m=\u001b[0m \u001b[0mrow\u001b[0m\u001b[1;33m[\u001b[0m\u001b[1;34m\"rating\"\u001b[0m\u001b[1;33m]\u001b[0m\u001b[1;33m\u001b[0m\u001b[0m\n\u001b[0m",
      "\u001b[1;32mc:\\users\\zhaozihan\\appdata\\local\\programs\\python\\python35\\lib\\site-packages\\scipy\\sparse\\lil.py\u001b[0m in \u001b[0;36m__setitem__\u001b[1;34m(self, index, x)\u001b[0m\n\u001b[0;32m    374\u001b[0m \u001b[1;33m\u001b[0m\u001b[0m\n\u001b[0;32m    375\u001b[0m         \u001b[1;31m# Set values\u001b[0m\u001b[1;33m\u001b[0m\u001b[1;33m\u001b[0m\u001b[0m\n\u001b[1;32m--> 376\u001b[1;33m         \u001b[0mi\u001b[0m\u001b[1;33m,\u001b[0m \u001b[0mj\u001b[0m\u001b[1;33m,\u001b[0m \u001b[0mx\u001b[0m \u001b[1;33m=\u001b[0m \u001b[0m_prepare_index_for_memoryview\u001b[0m\u001b[1;33m(\u001b[0m\u001b[0mi\u001b[0m\u001b[1;33m,\u001b[0m \u001b[0mj\u001b[0m\u001b[1;33m,\u001b[0m \u001b[0mx\u001b[0m\u001b[1;33m)\u001b[0m\u001b[1;33m\u001b[0m\u001b[0m\n\u001b[0m\u001b[0;32m    377\u001b[0m         _csparsetools.lil_fancy_set(self.shape[0], self.shape[1],\n\u001b[0;32m    378\u001b[0m                                     \u001b[0mself\u001b[0m\u001b[1;33m.\u001b[0m\u001b[0mrows\u001b[0m\u001b[1;33m,\u001b[0m \u001b[0mself\u001b[0m\u001b[1;33m.\u001b[0m\u001b[0mdata\u001b[0m\u001b[1;33m,\u001b[0m\u001b[1;33m\u001b[0m\u001b[0m\n",
      "\u001b[1;32mc:\\users\\zhaozihan\\appdata\\local\\programs\\python\\python35\\lib\\site-packages\\scipy\\sparse\\lil.py\u001b[0m in \u001b[0;36m_prepare_index_for_memoryview\u001b[1;34m(i, j, x)\u001b[0m\n\u001b[0;32m    513\u001b[0m \u001b[1;33m\u001b[0m\u001b[0m\n\u001b[0;32m    514\u001b[0m     \u001b[1;32mif\u001b[0m \u001b[1;32mnot\u001b[0m \u001b[0mi\u001b[0m\u001b[1;33m.\u001b[0m\u001b[0mflags\u001b[0m\u001b[1;33m.\u001b[0m\u001b[0mwriteable\u001b[0m \u001b[1;32mor\u001b[0m \u001b[0mi\u001b[0m\u001b[1;33m.\u001b[0m\u001b[0mdtype\u001b[0m \u001b[1;32mnot\u001b[0m \u001b[1;32min\u001b[0m \u001b[1;33m(\u001b[0m\u001b[0mnp\u001b[0m\u001b[1;33m.\u001b[0m\u001b[0mint32\u001b[0m\u001b[1;33m,\u001b[0m \u001b[0mnp\u001b[0m\u001b[1;33m.\u001b[0m\u001b[0mint64\u001b[0m\u001b[1;33m)\u001b[0m\u001b[1;33m:\u001b[0m\u001b[1;33m\u001b[0m\u001b[0m\n\u001b[1;32m--> 515\u001b[1;33m         \u001b[0mi\u001b[0m \u001b[1;33m=\u001b[0m \u001b[0mi\u001b[0m\u001b[1;33m.\u001b[0m\u001b[0mastype\u001b[0m\u001b[1;33m(\u001b[0m\u001b[0mnp\u001b[0m\u001b[1;33m.\u001b[0m\u001b[0mintp\u001b[0m\u001b[1;33m)\u001b[0m\u001b[1;33m\u001b[0m\u001b[0m\n\u001b[0m\u001b[0;32m    516\u001b[0m     \u001b[1;32mif\u001b[0m \u001b[1;32mnot\u001b[0m \u001b[0mj\u001b[0m\u001b[1;33m.\u001b[0m\u001b[0mflags\u001b[0m\u001b[1;33m.\u001b[0m\u001b[0mwriteable\u001b[0m \u001b[1;32mor\u001b[0m \u001b[0mj\u001b[0m\u001b[1;33m.\u001b[0m\u001b[0mdtype\u001b[0m \u001b[1;32mnot\u001b[0m \u001b[1;32min\u001b[0m \u001b[1;33m(\u001b[0m\u001b[0mnp\u001b[0m\u001b[1;33m.\u001b[0m\u001b[0mint32\u001b[0m\u001b[1;33m,\u001b[0m \u001b[0mnp\u001b[0m\u001b[1;33m.\u001b[0m\u001b[0mint64\u001b[0m\u001b[1;33m)\u001b[0m\u001b[1;33m:\u001b[0m\u001b[1;33m\u001b[0m\u001b[0m\n\u001b[0;32m    517\u001b[0m         \u001b[0mj\u001b[0m \u001b[1;33m=\u001b[0m \u001b[0mj\u001b[0m\u001b[1;33m.\u001b[0m\u001b[0mastype\u001b[0m\u001b[1;33m(\u001b[0m\u001b[0mnp\u001b[0m\u001b[1;33m.\u001b[0m\u001b[0mintp\u001b[0m\u001b[1;33m)\u001b[0m\u001b[1;33m\u001b[0m\u001b[0m\n",
      "\u001b[1;31mKeyboardInterrupt\u001b[0m: "
     ]
    }
   ],
   "source": [
    "rating_matrix_lil = coo_matrix(([], ([], [])), shape=(270897, 176280)).tolil()\n",
    "for index, row in ratingsFrame.iterrows():\n",
    "    if index % 100000 == 0:\n",
    "        print(\"%.2f%%\" % (100 * index / ratingsFrame.shape[0]))  \n",
    "    rating_matrix_lil[row[\"userId\"], row[\"movieId\"]] = row[\"rating\"]"
   ]
  },
  {
   "cell_type": "code",
   "execution_count": 32,
   "metadata": {},
   "outputs": [
    {
     "data": {
      "text/plain": [
       "<270897x176276 sparse matrix of type '<class 'numpy.float64'>'\n",
       "\twith 26024289 stored elements in LInked List format>"
      ]
     },
     "execution_count": 32,
     "metadata": {},
     "output_type": "execute_result"
    }
   ],
   "source": [
    "save_npz('ml-latest/sparse_matrix_ml-latest.npz', rating_matrix_lil.tocsr())\n",
    "rating_matrix_lil"
   ]
  },
  {
   "cell_type": "markdown",
   "metadata": {},
   "source": [
    "## Tag explore"
   ]
  },
  {
   "cell_type": "code",
   "execution_count": 9,
   "metadata": {},
   "outputs": [
    {
     "data": {
      "text/plain": [
       "4769"
      ]
     },
     "execution_count": 9,
     "metadata": {},
     "output_type": "execute_result"
    }
   ],
   "source": [
    "import shelve\n",
    "import pickle\n",
    "d = shelve.open('tags_for_all_movie.pkl', protocol = pickle.HIGHEST_PROTOCOL)\n",
    "tags_for_all_movie = d['content']\n",
    "d.close()\n",
    "movieId_empty = []\n",
    "for movieId in tags_for_all_movie:\n",
    "    if(tags_for_all_movie[movieId] == \"\"):\n",
    "        movieId_empty.append(int(movieId))\n",
    "len(movieId_empty)"
   ]
  },
  {
   "cell_type": "code",
   "execution_count": 10,
   "metadata": {},
   "outputs": [
    {
     "data": {
      "text/plain": [
       "<270897x4769 sparse matrix of type '<class 'numpy.float64'>'\n",
       "\twith 26394 stored elements in Compressed Sparse Row format>"
      ]
     },
     "execution_count": 10,
     "metadata": {},
     "output_type": "execute_result"
    }
   ],
   "source": [
    "rating_matrix_csr[:,movieId_empty]"
   ]
  },
  {
   "cell_type": "code",
   "execution_count": 11,
   "metadata": {},
   "outputs": [
    {
     "data": {
      "text/plain": [
       "<270897x1 sparse matrix of type '<class 'numpy.float64'>'\n",
       "\twith 27 stored elements in Compressed Sparse Row format>"
      ]
     },
     "execution_count": 11,
     "metadata": {},
     "output_type": "execute_result"
    }
   ],
   "source": [
    "rating_matrix_csr[:,135145]"
   ]
  },
  {
   "cell_type": "markdown",
   "metadata": {},
   "source": [
    "## Eliminate item with scarce info"
   ]
  },
  {
   "cell_type": "markdown",
   "metadata": {},
   "source": [
    "### preview movies without ratings in rating dataset"
   ]
  },
  {
   "cell_type": "code",
   "execution_count": 3,
   "metadata": {
    "collapsed": true
   },
   "outputs": [],
   "source": [
    "movieId_list = list(moviesFrame.as_matrix().T[0])\n",
    "movieId_list.remove(176279)"
   ]
  },
  {
   "cell_type": "code",
   "execution_count": 4,
   "metadata": {},
   "outputs": [
    {
     "data": {
      "text/plain": [
       "<270897x45842 sparse matrix of type '<class 'numpy.float64'>'\n",
       "\twith 26024289 stored elements in Compressed Sparse Column format>"
      ]
     },
     "execution_count": 4,
     "metadata": {},
     "output_type": "execute_result"
    }
   ],
   "source": [
    "rating_matrix_csc = load_npz('ml-latest/sparse_matrix_ml-latest.npz').tocsc()\n",
    "rating_matrix_csc = rating_matrix_csc[:, movieId_list]\n",
    "rating_matrix_csc"
   ]
  },
  {
   "cell_type": "code",
   "execution_count": 5,
   "metadata": {
    "collapsed": true
   },
   "outputs": [],
   "source": [
    "map_list = list(set(find(rating_matrix_csc)[1]))\n",
    "map_list.sort()"
   ]
  },
  {
   "cell_type": "code",
   "execution_count": 6,
   "metadata": {},
   "outputs": [
    {
     "data": {
      "text/plain": [
       "728"
      ]
     },
     "execution_count": 6,
     "metadata": {},
     "output_type": "execute_result"
    }
   ],
   "source": [
    "movieId_list = moviesFrame.as_matrix().T[0]\n",
    "del_list = list(movieId_list[list(set(list(range(0, 45842))) - set(map_list))])\n",
    "del_list.append(176279)\n",
    "len(del_list)"
   ]
  },
  {
   "cell_type": "code",
   "execution_count": 9,
   "metadata": {},
   "outputs": [
    {
     "data": {
      "text/plain": [
       "[151111, 112648, 169384, 169612, 169614, 169362, 169620, 169562, 104095]"
      ]
     },
     "execution_count": 9,
     "metadata": {},
     "output_type": "execute_result"
    }
   ],
   "source": [
    "d = shelve.open('ml-latest/delete_movies_id_20M/delete_20M.pkl', protocol = pickle.HIGHEST_PROTOCOL)\n",
    "deleteID_20m = d['content']\n",
    "deleteID_20m = list(map(int, deleteID_20m))\n",
    "d.close()\n",
    "list(set(deleteID_20m) & set(del_list))"
   ]
  },
  {
   "cell_type": "code",
   "execution_count": 124,
   "metadata": {
    "collapsed": true
   },
   "outputs": [],
   "source": [
    "d = shelve.open('ml-latest/empty_movies', protocol = pickle.HIGHEST_PROTOCOL)\n",
    "d['content'] = del_list\n",
    "d.close()"
   ]
  },
  {
   "cell_type": "markdown",
   "metadata": {},
   "source": [
    "### delete specified"
   ]
  },
  {
   "cell_type": "code",
   "execution_count": 111,
   "metadata": {},
   "outputs": [
    {
     "data": {
      "text/plain": [
       "<270897x176276 sparse matrix of type '<class 'numpy.float64'>'\n",
       "\twith 26024289 stored elements in LInked List format>"
      ]
     },
     "execution_count": 111,
     "metadata": {},
     "output_type": "execute_result"
    }
   ],
   "source": [
    "rating_matrix_lil = load_npz('ml-latest/sparse_matrix_ml-latest.npz').tolil()\n",
    "rating_matrix_lil"
   ]
  },
  {
   "cell_type": "code",
   "execution_count": 112,
   "metadata": {},
   "outputs": [
    {
     "data": {
      "text/plain": [
       "<270897x644 sparse matrix of type '<class 'numpy.float64'>'\n",
       "\twith 1773 stored elements in LInked List format>"
      ]
     },
     "execution_count": 112,
     "metadata": {},
     "output_type": "execute_result"
    }
   ],
   "source": [
    "d = shelve.open('ml-latest/delete_movies_id_20M/delete_20M.pkl', protocol = pickle.HIGHEST_PROTOCOL)\n",
    "deleteID_20m = d['content']\n",
    "d.close()\n",
    "deleteID_20m = list(map(int, deleteID_20m))\n",
    "rating_matrix_lil[:,deleteID_20m]"
   ]
  },
  {
   "cell_type": "code",
   "execution_count": 113,
   "metadata": {},
   "outputs": [
    {
     "data": {
      "text/plain": [
       "<270897x176276 sparse matrix of type '<class 'numpy.float64'>'\n",
       "\twith 26022516 stored elements in LInked List format>"
      ]
     },
     "execution_count": 113,
     "metadata": {},
     "output_type": "execute_result"
    }
   ],
   "source": [
    "rating_matrix_lil[:,deleteID_20m] = 0\n",
    "rating_matrix_lil"
   ]
  },
  {
   "cell_type": "markdown",
   "metadata": {},
   "source": [
    "### compress matrix"
   ]
  },
  {
   "cell_type": "code",
   "execution_count": 114,
   "metadata": {
    "collapsed": true
   },
   "outputs": [],
   "source": [
    "map_list = list(set(find(rating_matrix_lil)[1]))\n",
    "map_list.sort()"
   ]
  },
  {
   "cell_type": "code",
   "execution_count": 115,
   "metadata": {},
   "outputs": [
    {
     "data": {
      "text/plain": [
       "<270897x176276 sparse matrix of type '<class 'numpy.float64'>'\n",
       "\twith 26024289 stored elements in Compressed Sparse Column format>"
      ]
     },
     "execution_count": 115,
     "metadata": {},
     "output_type": "execute_result"
    }
   ],
   "source": [
    "del rating_matrix_lil\n",
    "rating_matrix_csc = load_npz('ml-latest/sparse_matrix_ml-latest.npz').tocsc()\n",
    "rating_matrix_csc"
   ]
  },
  {
   "cell_type": "code",
   "execution_count": 116,
   "metadata": {},
   "outputs": [
    {
     "data": {
      "text/plain": [
       "<270896x44480 sparse matrix of type '<class 'numpy.float64'>'\n",
       "\twith 26022516 stored elements in Compressed Sparse Column format>"
      ]
     },
     "execution_count": 116,
     "metadata": {},
     "output_type": "execute_result"
    }
   ],
   "source": [
    "rating_matrix_csc = rating_matrix_csc[1:,map_list]\n",
    "rating_matrix_csc"
   ]
  },
  {
   "cell_type": "code",
   "execution_count": 118,
   "metadata": {
    "collapsed": true
   },
   "outputs": [],
   "source": [
    "save_npz('ml-latest/sparse_matrix_ml-latest_selected.npz', rating_matrix_csc)\n",
    "d = shelve.open('ml-latest/map_list_ml-latest', protocol = pickle.HIGHEST_PROTOCOL)\n",
    "d['content'] = map_list\n",
    "d.close()"
   ]
  },
  {
   "cell_type": "markdown",
   "metadata": {
    "collapsed": true
   },
   "source": [
    "## convert to mat"
   ]
  },
  {
   "cell_type": "code",
   "execution_count": 48,
   "metadata": {
    "collapsed": true
   },
   "outputs": [],
   "source": [
    "rating_matrix_csc = load_npz('ml-latest/sparse_matrix_ml-latest_selected.npz').tocsc()\n",
    "sio.savemat('../Step 2 - User Clustering/data/sparse_matrix_ml-latest.mat', {'UI_matrix': rating_matrix_csc})"
   ]
  },
  {
   "cell_type": "code",
   "execution_count": 50,
   "metadata": {
    "collapsed": true
   },
   "outputs": [],
   "source": [
    "d = shelve.open('ml-latest/map_list_ml-latest', protocol = pickle.HIGHEST_PROTOCOL)\n",
    "map_list = d['content'] \n",
    "d.close()\n",
    "sio.savemat('../Step 2 - User Clustering/data/map_list_ml-latest.mat', {'map_list': map_list})"
   ]
  }
 ],
 "metadata": {
  "kernelspec": {
   "display_name": "Python 3",
   "language": "python",
   "name": "python3"
  },
  "language_info": {
   "codemirror_mode": {
    "name": "ipython",
    "version": 3
   },
   "file_extension": ".py",
   "mimetype": "text/x-python",
   "name": "python",
   "nbconvert_exporter": "python",
   "pygments_lexer": "ipython3",
   "version": "3.5.0"
  }
 },
 "nbformat": 4,
 "nbformat_minor": 2
}
