{
 "cells": [
  {
   "cell_type": "code",
   "execution_count": 27,
   "metadata": {
    "collapsed": true
   },
   "outputs": [],
   "source": [
    "import pandas as pd\n",
    "import numpy as np\n",
    "import shelve\n",
    "import pickle\n",
    "import scipy.io as sio\n",
    "from scipy.sparse import *"
   ]
  },
  {
   "cell_type": "markdown",
   "metadata": {},
   "source": [
    "# Construct rating matrix"
   ]
  },
  {
   "cell_type": "code",
   "execution_count": 91,
   "metadata": {
    "scrolled": true
   },
   "outputs": [
    {
     "name": "stdout",
     "output_type": "stream",
     "text": [
      "0.00%\n",
      "5.00%\n",
      "10.00%\n",
      "15.00%\n",
      "20.00%\n",
      "24.99%\n",
      "29.99%\n",
      "34.99%\n",
      "39.99%\n",
      "44.99%\n",
      "49.99%\n",
      "54.99%\n",
      "59.99%\n",
      "64.99%\n",
      "69.99%\n",
      "74.98%\n",
      "79.98%\n",
      "84.98%\n",
      "89.98%\n",
      "94.98%\n",
      "99.98%\n"
     ]
    }
   ],
   "source": [
    "rating_matrix_lil = coo_matrix(([], ([], [])), shape=(6041, 3953)).tolil()\n",
    "inFile = open(\"ml-1m/dat/ratings.dat\", 'r')\n",
    "i = 0\n",
    "for line in inFile:  \n",
    "    if i % 50000 == 0:\n",
    "        print(\"%.2f%%\" % (100 * i / 1000209))  \n",
    "    i += 1\n",
    "    data = line.split('::')  \n",
    "    rating_matrix_lil[data[0], data[1]] = data[2]"
   ]
  },
  {
   "cell_type": "code",
   "execution_count": 92,
   "metadata": {
    "collapsed": true
   },
   "outputs": [],
   "source": [
    "save_npz('ml-1m/sparse_matrix_ml-1m.npz', rating_matrix_lil.tocsr())"
   ]
  },
  {
   "cell_type": "markdown",
   "metadata": {},
   "source": [
    "# Examine empty items"
   ]
  },
  {
   "cell_type": "code",
   "execution_count": 93,
   "metadata": {
    "collapsed": true
   },
   "outputs": [],
   "source": [
    "movieId_list = []\n",
    "inFile = open(\"ml-1m/dat/movies.dat\", 'rb')\n",
    "for line in inFile:\n",
    "    data = str(line)[2:].split('::')  \n",
    "    movieId_list.append(int(data[0]))"
   ]
  },
  {
   "cell_type": "code",
   "execution_count": 94,
   "metadata": {},
   "outputs": [
    {
     "data": {
      "text/plain": [
       "<6041x3883 sparse matrix of type '<class 'numpy.float64'>'\n",
       "\twith 1000209 stored elements in Compressed Sparse Column format>"
      ]
     },
     "execution_count": 94,
     "metadata": {},
     "output_type": "execute_result"
    }
   ],
   "source": [
    "rating_matrix_csc = load_npz('ml-1m/sparse_matrix_ml-1m.npz').tocsc()\n",
    "rating_matrix_csc = rating_matrix_csc[:, movieId_list]\n",
    "rating_matrix_csc"
   ]
  },
  {
   "cell_type": "code",
   "execution_count": 95,
   "metadata": {},
   "outputs": [
    {
     "data": {
      "text/plain": [
       "3706"
      ]
     },
     "execution_count": 95,
     "metadata": {},
     "output_type": "execute_result"
    }
   ],
   "source": [
    "map_list = list(set(find(rating_matrix_csc)[1]))\n",
    "len(map_list)"
   ]
  },
  {
   "cell_type": "code",
   "execution_count": 96,
   "metadata": {},
   "outputs": [
    {
     "data": {
      "text/plain": [
       "177"
      ]
     },
     "execution_count": 96,
     "metadata": {},
     "output_type": "execute_result"
    }
   ],
   "source": [
    "movieId_list = np.array(movieId_list)\n",
    "del_list = list(movieId_list[list(set(list(range(0, 3883))) - set(map_list))])\n",
    "len(del_list)"
   ]
  },
  {
   "cell_type": "code",
   "execution_count": 97,
   "metadata": {},
   "outputs": [
    {
     "data": {
      "text/plain": [
       "[770, 739, 772, 2228, 2588, 3582]"
      ]
     },
     "execution_count": 97,
     "metadata": {},
     "output_type": "execute_result"
    }
   ],
   "source": [
    "d = shelve.open('ml-1m/delete_movies_id_1M/delete_1M.pkl', protocol = pickle.HIGHEST_PROTOCOL)\n",
    "deleteID_1m = d['content']\n",
    "deleteID_1m = list(map(int, deleteID_1m))\n",
    "d.close()\n",
    "list(set(deleteID_1m) & set(list(del_list)))"
   ]
  },
  {
   "cell_type": "code",
   "execution_count": 98,
   "metadata": {
    "collapsed": true
   },
   "outputs": [],
   "source": [
    "d = shelve.open('ml-1m/empty_movies', protocol = pickle.HIGHEST_PROTOCOL)\n",
    "d['content'] = del_list\n",
    "d.close()"
   ]
  },
  {
   "cell_type": "markdown",
   "metadata": {},
   "source": [
    "# Delete item with scarce info"
   ]
  },
  {
   "cell_type": "code",
   "execution_count": 99,
   "metadata": {},
   "outputs": [
    {
     "data": {
      "text/plain": [
       "<6041x12 sparse matrix of type '<class 'numpy.float64'>'\n",
       "\twith 1119 stored elements in LInked List format>"
      ]
     },
     "execution_count": 99,
     "metadata": {},
     "output_type": "execute_result"
    }
   ],
   "source": [
    "rating_matrix_lil = load_npz('ml-1m/sparse_matrix_ml-1m.npz').tolil()\n",
    "\n",
    "d = shelve.open('ml-1m/delete_movies_id_1M/delete_1M.pkl', protocol = pickle.HIGHEST_PROTOCOL)\n",
    "deleteID_1m = d['content']\n",
    "d.close()\n",
    "\n",
    "deleteID_1m = list(map(int, deleteID_1m))\n",
    "rating_matrix_lil[:,deleteID_1m]"
   ]
  },
  {
   "cell_type": "code",
   "execution_count": 101,
   "metadata": {},
   "outputs": [
    {
     "data": {
      "text/plain": [
       "<6041x3953 sparse matrix of type '<class 'numpy.float64'>'\n",
       "\twith 999090 stored elements in LInked List format>"
      ]
     },
     "execution_count": 101,
     "metadata": {},
     "output_type": "execute_result"
    }
   ],
   "source": [
    "rating_matrix_lil[:,deleteID_1m] = 0\n",
    "rating_matrix_lil"
   ]
  },
  {
   "cell_type": "code",
   "execution_count": 102,
   "metadata": {},
   "outputs": [
    {
     "data": {
      "text/plain": [
       "<6040x3700 sparse matrix of type '<class 'numpy.float64'>'\n",
       "\twith 999090 stored elements in Compressed Sparse Column format>"
      ]
     },
     "execution_count": 102,
     "metadata": {},
     "output_type": "execute_result"
    }
   ],
   "source": [
    "map_list = list(set(find(rating_matrix_lil)[1]))\n",
    "map_list.sort()\n",
    "\n",
    "del rating_matrix_lil\n",
    "rating_matrix_csc = load_npz('ml-1m/sparse_matrix_ml-1m.npz').tocsc()\n",
    "\n",
    "rating_matrix_csc = rating_matrix_csc[1:,map_list]\n",
    "rating_matrix_csc"
   ]
  },
  {
   "cell_type": "code",
   "execution_count": 103,
   "metadata": {
    "collapsed": true
   },
   "outputs": [],
   "source": [
    "save_npz('ml-1m/sparse_matrix_ml-1m_selected.npz', rating_matrix_csc)\n",
    "\n",
    "d = shelve.open('ml-1m/map_list_ml-1m', protocol = pickle.HIGHEST_PROTOCOL)\n",
    "d['content'] = map_list\n",
    "d.close()"
   ]
  },
  {
   "cell_type": "markdown",
   "metadata": {},
   "source": [
    "# save for matlab"
   ]
  },
  {
   "cell_type": "code",
   "execution_count": 104,
   "metadata": {
    "collapsed": true
   },
   "outputs": [],
   "source": [
    "rating_matrix_csc = load_npz('ml-1m/sparse_matrix_ml-1m_selected.npz').tocsc()\n",
    "sio.savemat('../Step 2 - User Clustering/data/sparse_matrix_ml-1m.mat', {'UI_matrix': rating_matrix_csc})"
   ]
  },
  {
   "cell_type": "code",
   "execution_count": 105,
   "metadata": {
    "collapsed": true
   },
   "outputs": [],
   "source": [
    "d = shelve.open('ml-1m/map_list_ml-1m', protocol = pickle.HIGHEST_PROTOCOL)\n",
    "map_list = d['content'] \n",
    "d.close()\n",
    "sio.savemat('../Step 2 - User Clustering/data/map_list_ml-1m.mat', {'map_list': map_list})"
   ]
  }
 ],
 "metadata": {
  "kernelspec": {
   "display_name": "Python 3",
   "language": "python",
   "name": "python3"
  },
  "language_info": {
   "codemirror_mode": {
    "name": "ipython",
    "version": 3
   },
   "file_extension": ".py",
   "mimetype": "text/x-python",
   "name": "python",
   "nbconvert_exporter": "python",
   "pygments_lexer": "ipython3",
   "version": "3.5.0"
  }
 },
 "nbformat": 4,
 "nbformat_minor": 2
}
