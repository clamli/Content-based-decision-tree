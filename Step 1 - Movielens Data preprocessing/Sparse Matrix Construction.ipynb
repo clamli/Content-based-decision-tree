{
 "cells": [
  {
   "cell_type": "code",
   "execution_count": 2,
   "metadata": {
    "collapsed": true
   },
   "outputs": [],
   "source": [
    "import pandas as pd\n",
    "from scipy.sparse import *"
   ]
  },
  {
   "cell_type": "code",
   "execution_count": 36,
   "metadata": {
    "collapsed": true
   },
   "outputs": [],
   "source": [
    "ratingsFrame = pd.read_csv(\"ml-latest/ratings.csv\").loc[:,[\"userId\", \"movieId\", \"rating\"]]"
   ]
  },
  {
   "cell_type": "code",
   "execution_count": 30,
   "metadata": {},
   "outputs": [
    {
     "data": {
      "text/plain": [
       "270896.0"
      ]
     },
     "execution_count": 30,
     "metadata": {},
     "output_type": "execute_result"
    }
   ],
   "source": [
    "ratingsFrame.iloc[ratingsFrame.shape[0] - 1][\"userId\"]\n",
    "# ratingsFrame.shape\n",
    "# type(ratingsFrame.loc[1,\"rating\"])"
   ]
  },
  {
   "cell_type": "code",
   "execution_count": 29,
   "metadata": {
    "scrolled": true
   },
   "outputs": [
    {
     "data": {
      "text/plain": [
       "176275.0"
      ]
     },
     "execution_count": 29,
     "metadata": {},
     "output_type": "execute_result"
    }
   ],
   "source": [
    "ratingsFrame.sort_values(by = 'movieId', ascending=True, inplace=False).iloc[ratingsFrame.shape[0] - 1][\"movieId\"]"
   ]
  },
  {
   "cell_type": "code",
   "execution_count": 31,
   "metadata": {
    "scrolled": true
   },
   "outputs": [
    {
     "name": "stdout",
     "output_type": "stream",
     "text": [
      "0.00%\n",
      "0.38%\n",
      "0.77%\n",
      "1.15%\n",
      "1.54%\n",
      "1.92%\n",
      "2.31%\n",
      "2.69%\n",
      "3.07%\n",
      "3.46%\n",
      "3.84%\n",
      "4.23%\n",
      "4.61%\n",
      "5.00%\n",
      "5.38%\n",
      "5.76%\n",
      "6.15%\n",
      "6.53%\n",
      "6.92%\n",
      "7.30%\n",
      "7.69%\n",
      "8.07%\n",
      "8.45%\n",
      "8.84%\n",
      "9.22%\n",
      "9.61%\n",
      "9.99%\n",
      "10.37%\n",
      "10.76%\n",
      "11.14%\n",
      "11.53%\n",
      "11.91%\n",
      "12.30%\n",
      "12.68%\n",
      "13.06%\n",
      "13.45%\n",
      "13.83%\n",
      "14.22%\n",
      "14.60%\n",
      "14.99%\n",
      "15.37%\n",
      "15.75%\n",
      "16.14%\n",
      "16.52%\n",
      "16.91%\n",
      "17.29%\n",
      "17.68%\n",
      "18.06%\n",
      "18.44%\n",
      "18.83%\n",
      "19.21%\n",
      "19.60%\n",
      "19.98%\n",
      "20.37%\n",
      "20.75%\n",
      "21.13%\n",
      "21.52%\n",
      "21.90%\n",
      "22.29%\n",
      "22.67%\n",
      "23.06%\n",
      "23.44%\n",
      "23.82%\n",
      "24.21%\n",
      "24.59%\n",
      "24.98%\n",
      "25.36%\n",
      "25.75%\n",
      "26.13%\n",
      "26.51%\n",
      "26.90%\n",
      "27.28%\n",
      "27.67%\n",
      "28.05%\n",
      "28.43%\n",
      "28.82%\n",
      "29.20%\n",
      "29.59%\n",
      "29.97%\n",
      "30.36%\n",
      "30.74%\n",
      "31.12%\n",
      "31.51%\n",
      "31.89%\n",
      "32.28%\n",
      "32.66%\n",
      "33.05%\n",
      "33.43%\n",
      "33.81%\n",
      "34.20%\n",
      "34.58%\n",
      "34.97%\n",
      "35.35%\n",
      "35.74%\n",
      "36.12%\n",
      "36.50%\n",
      "36.89%\n",
      "37.27%\n",
      "37.66%\n",
      "38.04%\n",
      "38.43%\n",
      "38.81%\n",
      "39.19%\n",
      "39.58%\n",
      "39.96%\n",
      "40.35%\n",
      "40.73%\n",
      "41.12%\n",
      "41.50%\n",
      "41.88%\n",
      "42.27%\n",
      "42.65%\n",
      "43.04%\n",
      "43.42%\n",
      "43.81%\n",
      "44.19%\n",
      "44.57%\n",
      "44.96%\n",
      "45.34%\n",
      "45.73%\n",
      "46.11%\n",
      "46.50%\n",
      "46.88%\n",
      "47.26%\n",
      "47.65%\n",
      "48.03%\n",
      "48.42%\n",
      "48.80%\n",
      "49.18%\n",
      "49.57%\n",
      "49.95%\n",
      "50.34%\n",
      "50.72%\n",
      "51.11%\n",
      "51.49%\n",
      "51.87%\n",
      "52.26%\n",
      "52.64%\n",
      "53.03%\n",
      "53.41%\n",
      "53.80%\n",
      "54.18%\n",
      "54.56%\n",
      "54.95%\n",
      "55.33%\n",
      "55.72%\n",
      "56.10%\n",
      "56.49%\n",
      "56.87%\n",
      "57.25%\n",
      "57.64%\n",
      "58.02%\n",
      "58.41%\n",
      "58.79%\n",
      "59.18%\n",
      "59.56%\n",
      "59.94%\n",
      "60.33%\n",
      "60.71%\n",
      "61.10%\n",
      "61.48%\n",
      "61.87%\n",
      "62.25%\n",
      "62.63%\n",
      "63.02%\n",
      "63.40%\n",
      "63.79%\n",
      "64.17%\n",
      "64.56%\n",
      "64.94%\n",
      "65.32%\n",
      "65.71%\n",
      "66.09%\n",
      "66.48%\n",
      "66.86%\n",
      "67.24%\n",
      "67.63%\n",
      "68.01%\n",
      "68.40%\n",
      "68.78%\n",
      "69.17%\n",
      "69.55%\n",
      "69.93%\n",
      "70.32%\n",
      "70.70%\n",
      "71.09%\n",
      "71.47%\n",
      "71.86%\n",
      "72.24%\n",
      "72.62%\n",
      "73.01%\n",
      "73.39%\n",
      "73.78%\n",
      "74.16%\n",
      "74.55%\n",
      "74.93%\n",
      "75.31%\n",
      "75.70%\n",
      "76.08%\n",
      "76.47%\n",
      "76.85%\n",
      "77.24%\n",
      "77.62%\n",
      "78.00%\n",
      "78.39%\n",
      "78.77%\n",
      "79.16%\n",
      "79.54%\n",
      "79.93%\n",
      "80.31%\n",
      "80.69%\n",
      "81.08%\n",
      "81.46%\n",
      "81.85%\n",
      "82.23%\n",
      "82.62%\n",
      "83.00%\n",
      "83.38%\n",
      "83.77%\n",
      "84.15%\n",
      "84.54%\n",
      "84.92%\n",
      "85.30%\n",
      "85.69%\n",
      "86.07%\n",
      "86.46%\n",
      "86.84%\n",
      "87.23%\n",
      "87.61%\n",
      "87.99%\n",
      "88.38%\n",
      "88.76%\n",
      "89.15%\n",
      "89.53%\n",
      "89.92%\n",
      "90.30%\n",
      "90.68%\n",
      "91.07%\n",
      "91.45%\n",
      "91.84%\n",
      "92.22%\n",
      "92.61%\n",
      "92.99%\n",
      "93.37%\n",
      "93.76%\n",
      "94.14%\n",
      "94.53%\n",
      "94.91%\n",
      "95.30%\n",
      "95.68%\n",
      "96.06%\n",
      "96.45%\n",
      "96.83%\n",
      "97.22%\n",
      "97.60%\n",
      "97.99%\n",
      "98.37%\n",
      "98.75%\n",
      "99.14%\n",
      "99.52%\n",
      "99.91%\n"
     ]
    }
   ],
   "source": [
    "rating_matrix_lil = coo_matrix(([], ([], [])), shape=(270897, 176276)).tolil()\n",
    "for index, row in ratingsFrame.iterrows():\n",
    "    if index % 100000 == 0:\n",
    "        print(\"%.2f%%\" % (100 * index / ratingsFrame.shape[0]))  \n",
    "    rating_matrix_lil[row[\"userId\"], row[\"movieId\"]] = row[\"rating\"]"
   ]
  },
  {
   "cell_type": "code",
   "execution_count": 32,
   "metadata": {},
   "outputs": [
    {
     "data": {
      "text/plain": [
       "<270897x176276 sparse matrix of type '<class 'numpy.float64'>'\n",
       "\twith 26024289 stored elements in LInked List format>"
      ]
     },
     "execution_count": 32,
     "metadata": {},
     "output_type": "execute_result"
    }
   ],
   "source": [
    "rating_matrix_lil"
   ]
  },
  {
   "cell_type": "code",
   "execution_count": 33,
   "metadata": {
    "collapsed": true
   },
   "outputs": [],
   "source": [
    "save_npz('ml-latest/sparse_matrix_ml-latest.npz', rating_matrix_lil.tocsr())"
   ]
  },
  {
   "cell_type": "code",
   "execution_count": 40,
   "metadata": {},
   "outputs": [
    {
     "name": "stdout",
     "output_type": "stream",
     "text": [
      "0.00%\n",
      "5.00%\n",
      "10.00%\n",
      "15.00%\n",
      "20.00%\n",
      "24.99%\n",
      "29.99%\n",
      "34.99%\n",
      "39.99%\n",
      "44.99%\n",
      "49.99%\n",
      "54.99%\n",
      "59.99%\n",
      "64.99%\n",
      "69.99%\n",
      "74.98%\n",
      "79.98%\n",
      "84.98%\n",
      "89.98%\n",
      "94.98%\n",
      "99.98%\n"
     ]
    }
   ],
   "source": [
    "rating_matrix_lil = coo_matrix(([], ([], [])), shape=(6041, 3953)).tolil()\n",
    "inFile = open(\"ml-1m/ratings.dat\", 'r')\n",
    "i = 0\n",
    "for line in inFile:  \n",
    "    if i % 50000 == 0:\n",
    "        print(\"%.2f%%\" % (100 * i / 1000209))  \n",
    "    i += 1\n",
    "    data = line.split('::')  \n",
    "    rating_matrix_lil[data[0], data[1]] = data[2]"
   ]
  },
  {
   "cell_type": "code",
   "execution_count": 41,
   "metadata": {
    "collapsed": true
   },
   "outputs": [],
   "source": [
    "save_npz('ml-1m/sparse_matrix_ml-1m.npz', rating_matrix_lil.tocsr())"
   ]
  },
  {
   "cell_type": "code",
   "execution_count": 6,
   "metadata": {
    "collapsed": true
   },
   "outputs": [],
   "source": [
    "rating_matrix_csr = load_npz('ml-latest/sparse_matrix_ml-latest.npz').tocsr()"
   ]
  },
  {
   "cell_type": "code",
   "execution_count": 9,
   "metadata": {},
   "outputs": [
    {
     "data": {
      "text/plain": [
       "4769"
      ]
     },
     "execution_count": 9,
     "metadata": {},
     "output_type": "execute_result"
    }
   ],
   "source": [
    "import shelve\n",
    "import pickle\n",
    "d = shelve.open('tags_for_all_movie.pkl', protocol = pickle.HIGHEST_PROTOCOL)\n",
    "tags_for_all_movie = d['content']\n",
    "d.close()\n",
    "movieId_empty = []\n",
    "for movieId in tags_for_all_movie:\n",
    "    if(tags_for_all_movie[movieId] == \"\"):\n",
    "        movieId_empty.append(int(movieId))\n",
    "len(movieId_empty)"
   ]
  },
  {
   "cell_type": "code",
   "execution_count": 10,
   "metadata": {},
   "outputs": [
    {
     "data": {
      "text/plain": [
       "<270897x4769 sparse matrix of type '<class 'numpy.float64'>'\n",
       "\twith 26394 stored elements in Compressed Sparse Row format>"
      ]
     },
     "execution_count": 10,
     "metadata": {},
     "output_type": "execute_result"
    }
   ],
   "source": [
    "rating_matrix_csr[:,movieId_empty]"
   ]
  },
  {
   "cell_type": "code",
   "execution_count": 11,
   "metadata": {},
   "outputs": [
    {
     "data": {
      "text/plain": [
       "<270897x1 sparse matrix of type '<class 'numpy.float64'>'\n",
       "\twith 27 stored elements in Compressed Sparse Row format>"
      ]
     },
     "execution_count": 11,
     "metadata": {},
     "output_type": "execute_result"
    }
   ],
   "source": [
    "rating_matrix_csr[:,135145]"
   ]
  },
  {
   "cell_type": "code",
   "execution_count": null,
   "metadata": {
    "collapsed": true
   },
   "outputs": [],
   "source": []
  }
 ],
 "metadata": {
  "kernelspec": {
   "display_name": "Python 3",
   "language": "python",
   "name": "python3"
  },
  "language_info": {
   "codemirror_mode": {
    "name": "ipython",
    "version": 3
   },
   "file_extension": ".py",
   "mimetype": "text/x-python",
   "name": "python",
   "nbconvert_exporter": "python",
   "pygments_lexer": "ipython3",
   "version": "3.5.0"
  }
 },
 "nbformat": 4,
 "nbformat_minor": 2
}
